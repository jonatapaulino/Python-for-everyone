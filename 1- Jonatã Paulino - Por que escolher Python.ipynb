{
 "cells": [
  {
   "cell_type": "markdown",
   "metadata": {},
   "source": [
    "# <font color='green'>Jonatã Paulino - Python for everyone</font>\n",
    "<img src='Jonata.JPG' alt=Jonatã Paulino size=7x7 width=150 height=100 align='left'>"
   ]
  },
  {
   "cell_type": "markdown",
   "metadata": {},
   "source": [
    "Por que escolher Python?\n",
    "=====================\n",
    "* __Índice__\n",
    "    - Breve Histórico\n",
    "    - Python é Popular\n",
    "    - Python é Interpretado\n",
    "    - Python é Grátis\n",
    "    - Python é Portável\n",
    "    - Python é Simples\n",
    "* Conclusão"
   ]
  },
  {
   "cell_type": "markdown",
   "metadata": {},
   "source": [
    "============================================================================================="
   ]
  },
  {
   "cell_type": "markdown",
   "metadata": {},
   "source": [
    "Breve Histórico\n",
    "=============\n",
    "<p style=\"text-align: justify;\">Python é uma linguagem de script interpretada de alto nível desenvolvida no final da década de 1980 por Guido van Rossum no Instituto Nacional de Pesquisa em Matemática e Ciência da Computação da Holanda. A versão inicial foi publicada no grupo de notícias <b>alt.sources</b> em 1991, e a versão 1.0 foi lançada em 1994.</p>\n",
    "\n",
    "<p style=\"text-align: justify;\">O Python 2.0 foi lançado em 2000, e as versões 2.x foram as versões predominantes até dezembro de 2008. Naquela época, a equipe de desenvolvimento tomou a decisão de lançar a versão 3.0, que continha algumas alterações relativamente pequenas, mas significativas, que não eram compatíveis com versões anteriores. Com as versões 2.x O Python 2 e 3 são muito semelhantes, e alguns recursos do Python 3 retornaram para o Python 2. Mas, em geral, eles não são totalmente compatíveis.</p>\n",
    "\n",
    "<p style=\"text-align: justify;\">O Python 2 e o Python 3 continuaram sendo mantidos e desenvolvidos com atualizações periódicas para ambos. Atualmente as versões mais recentes disponíveis são as 2.7 e 3.7. No entanto, uma data oficial de fim de vida de 1º de janeiro de 2020 foi estabelecida para o Python 2, após esta data, ela não será mais mantida. Se você é um recém-chegado ao Python, é recomendado que você se concentre no Python 3, como faremos neste curso.</p>\n",
    "\n",
    "<p style=\"text-align: justify;\">O Python ainda é mantido por uma equipe central de desenvolvimento, e Guido ainda está no comando, tendo recebido o título de BDFL (Benevolent Dictator For Life) pela comunidade Python. O nome Python, a propósito, não deriva da serpente, mas da equipe de circo britânica Monty Python , do qual Guido era, e presumivelmente ainda é, um fã. É comum encontrar referências a esboços e filmes do Monty Python espalhados pela documentação do Python.</p>"
   ]
  },
  {
   "cell_type": "markdown",
   "metadata": {},
   "source": [
    "Por que escolher o Python?\n",
    "======================\n",
    "<p style=\"text-align: justify;\">Se você fizer uma pesquisa simples que seja, existem literalmente dezenas de linguagens comumente usados para escolher. Então por que escolher o Python? Aqui estão algumas das características que tornam o Python uma escolha atraente e coerente:</p>\n"
   ]
  },
  {
   "cell_type": "markdown",
   "metadata": {},
   "source": [
    "\n",
    "Python é Popular.\n",
    "=============\n",
    "Python vem crescendo em popularidade nos últimos anos. A Pesquisa de Desenvolvedores de 2018 classificou o Python como a 7º linguagem mais popular e o número um da tecnologia mais procurada do ano. Os países de desenvolvimento de software de classe mundial em todo o mundo usam o Python todos os dias.\n",
    "\n",
    "De acordo com a pesquisa da Dice Python, é uma das linguagem de programação mais popular do mundo baseada na popularidade do índice de linguagem de programação .\n",
    "\n",
    "Devido à popularidade e uso generalizado do Python como linguagem de programação, os desenvolvedores de Python são procurados e bem pagos. Se você quiser se aprofundar nas estatísticas salariais e oportunidades de emprego em Python, dedique um tempo para os estudos da linguagem.</p>"
   ]
  },
  {
   "cell_type": "markdown",
   "metadata": {},
   "source": [
    "Python é interpretado\n",
    "=================\n",
    "<p style=\"text-align: justify;\">Muitas linguagens são compiladas, o que significa que o código-fonte que você cria precisa ser traduzido em código de máquina, a linguagem do processador do seu computador, antes de poder ser executado. Programas escritos em uma linguagem interpretada são passados diretamente para um intérprete que os executa diretamente.\n",
    "\n",
    "<p style=\"text-align: justify;\">Isso cria um ciclo de desenvolvimento mais rápido porque você simplesmente digita seu código e o executa, sem a etapa intermediária de compilação.</p>\n",
    "\n",
    "<p style=\"text-align: justify;\">Uma desvantagem potencial para linguagens de programação interpretados é a velocidade de execução. Programas compilados na linguagem nativa do processador do computador tendem a ser executados mais rapidamente do que programas interpretados. Para alguns aplicativos que são particularmente intensivos em consumo de memória, como processamento de gráficos ou processamento intenso de números, isso pode ser limitante.</p>\n",
    "\n",
    "<p style=\"text-align: justify;\">Na prática, no entanto, para a maioria dos programas, a diferença na velocidade de execução é medida em milissegundos, ou no máximo em segundos, e não é notavelmente perceptível para um usuário humano. A conveniência de codificar em uma linguagem interpretada normalmente vale para a maioria dos aplicativos.</p>"
   ]
  },
  {
   "cell_type": "markdown",
   "metadata": {},
   "source": [
    "Python é grátis\n",
    "============\n",
    "<p style=\"text-align: justify;\">O interpretador Python é desenvolvido sob uma licença de código aberto, tornando-o gratuito para instalar, usar e distribuir, mesmo para fins comerciais.</p>\n",
    "\n",
    "<p style=\"text-align: justify;\">Uma versão do intérprete está disponível para praticamente qualquer plataforma, incluindo todos os tipos de Unix, Windows, macOS, smartphones e tablets, e provavelmente qualquer outra coisa que você já ouviu falar. Existe uma versão para a meia dúzia de pessoas que ainda usam o OS/2.</p>"
   ]
  },
  {
   "cell_type": "markdown",
   "metadata": {},
   "source": [
    "Python é portável\n",
    "==============\n",
    "<p style=\"text-align: justify;\">Como o código Python é interpretado e não compilado em instruções nativas da máquina, o código escrito para uma plataforma funcionará em qualquer outra plataforma que tenha o interpretador Python instalado. (Isso é verdade para qualquer linguagem interpretada, não apenas Python.)</p>"
   ]
  },
  {
   "cell_type": "markdown",
   "metadata": {},
   "source": [
    "Python é simples\n",
    "==============\n",
    "<p style=\"text-align: justify;\">À medida que as linguagens de programação vão, o Python é relativamente organizado, e os desenvolvedores deliberadamente o mantiveram assim.</p>\n",
    "\n",
    "<p style=\"text-align: justify;\">Uma estimativa aproximada da complexidade de uma linguagem pode ser obtida a partir do número de palavras-chave ou palavras reservadas no idioma. Estas são palavras reservadas para um significado especial pelo compilador ou pelo interpretador, porque designam funcionalidades internas específicas da linguagem.</p>\n",
    "\n",
    "<p style=\"text-align: justify;\">Python 3 tem 33 palavras-chave, e Python 2 tem 31. Por outro lado, C ++ tem 62, Java tem 53 e Visual Basic tem mais de 120, embora esses últimos provavelmente variem um pouco por implementação ou dialeto.</p>\n",
    "\n",
    "<p style=\"text-align: justify;\">O código Python tem uma estrutura simples e limpa que é fácil de aprender e fácil de ler. Na verdade, como você verá, a definição da linguagem impõe uma estrutura de código fácil de ler.</p>"
   ]
  },
  {
   "cell_type": "markdown",
   "metadata": {},
   "source": [
    "Conclusão\n",
    "=========\n",
    "Esta seção forneceu uma visão geral da linguagem de programação Python , incluindo:\n",
    "\n",
    "+ Um breve histórico do desenvolvimento do Python\n",
    "+ Algumas razões pelas quais você pode selecionar o Python como seu idioma de escolha\n",
    "\n",
    "<p style=\"text-align: justify;\">O Python é uma ótima opção, quer você seja um programador iniciante querendo aprender o básico, um programador experiente projetando um aplicativo grande ou qualquer outro lugar entre eles. Os fundamentos do Python são facilmente compreendidos, e ainda assim suas capacidades são vastas.</p>"
   ]
  },
  {
   "cell_type": "markdown",
   "metadata": {},
   "source": [
    "### Obrigado e bons estudos"
   ]
  },
  {
   "cell_type": "code",
   "execution_count": null,
   "metadata": {},
   "outputs": [],
   "source": []
  }
 ],
 "metadata": {
  "anaconda-cloud": {},
  "kernelspec": {
   "display_name": "Python 3",
   "language": "python",
   "name": "python3"
  },
  "language_info": {
   "codemirror_mode": {
    "name": "ipython",
    "version": 3
   },
   "file_extension": ".py",
   "mimetype": "text/x-python",
   "name": "python",
   "nbconvert_exporter": "python",
   "pygments_lexer": "ipython3",
   "version": "3.7.3"
  }
 },
 "nbformat": 4,
 "nbformat_minor": 1
}
