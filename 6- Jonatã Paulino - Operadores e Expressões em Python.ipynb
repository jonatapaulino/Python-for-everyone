{
 "cells": [
  {
   "cell_type": "markdown",
   "metadata": {},
   "source": [
    "# <font color='green'>Jonatã Paulino - Python Fácil</font>\n",
    "<img src='pimagem5t.png' alt=Jonatã Paulino size=10x10 width=90 height=90 align='left'>"
   ]
  },
  {
   "cell_type": "markdown",
   "metadata": {},
   "source": [
    "6- Operadores e Expressões em Python\n",
    "===============================\n",
    "+ __Índice__\n",
    "+ 6.1 Operadores aritméticos\n",
    "+ 6.2 Operadores de Comparação\n",
    "    + 6.2.1 Comparação de igualdade em valores de ponto flutuante\n",
    "+ 6.3 Operadores lógicos\n",
    "+ Conclusão"
   ]
  },
  {
   "cell_type": "markdown",
   "metadata": {},
   "source": [
    "Neste notebook veremos como os cálculos podem ser realizados com objetos no Python, e assim aprenderemos como criar expressões complexas combinando `objetos e operadores`.\n",
    "No Python, os operadores são símbolos especiais que designam que algum tipo de cálculo deve ser executado. Os valores que um operador atua são chamados operandos.\n",
    "\n",
    "__Vejamos ver alguns exemplos:__"
   ]
  },
  {
   "cell_type": "code",
   "execution_count": null,
   "metadata": {},
   "outputs": [],
   "source": [
    "# O operador de + faz a soma dos operandos x e y.\n",
    "x = 5\n",
    "y = 10\n",
    "x + y"
   ]
  },
  {
   "cell_type": "markdown",
   "metadata": {},
   "source": [
    "No caso a cima, o operador `+` faz uma operação de adição com os operandos `x` e `y`.\n",
    "\n",
    "Um operando pode ser um valor literal ou uma variável que faz referência a um objeto.\n",
    "\n",
    "__Exemplos:__"
   ]
  },
  {
   "cell_type": "code",
   "execution_count": null,
   "metadata": {},
   "outputs": [],
   "source": [
    "x = 5\n",
    "y = 10\n",
    "x + y - 5"
   ]
  },
  {
   "cell_type": "markdown",
   "metadata": {},
   "source": [
    "Uma sequência de operandos e operadores, como `x + y - 5`, é chamada de `expressão`. O Python suporta muitos operadores para combinar objetos e dados em `expressões`. Atente para a seguinte tabela:"
   ]
  },
  {
   "cell_type": "markdown",
   "metadata": {},
   "source": [
    "6.1 Operadores aritiméticos\n",
    "======================"
   ]
  },
  {
   "cell_type": "markdown",
   "metadata": {},
   "source": [
    "<!---\n",
    "|Operador|exemplo|Operação|Resultado|\n",
    "|:----:|:----:|:----:|:----:|\n",
    "|+|a + b |Soma|Soma de a e b|\n",
    "|- |a - b |Subtração|Subtração de a e b|\n",
    "|\\* |a * b |Multiplicação|Produtode a e b|\n",
    "| / |a / b| Divisão(real ou inteira)|Quociente|\n",
    "|// |a // b| Divisão integral |Divisão inteira\n",
    "| % |a % b | Módulo |Resto da divisão inteira|\n",
    "| \\*\\* | a ** b | Exponênciação| a elevado a b|\n",
    "--->\n",
    "\n",
    "<table class=\"table\">\n",
    "  <thead class=\"thead-dark\">\n",
    "    <tr>\n",
    "        <th scope=\"col\" style=\"text-align: center;\">#</th>\n",
    "        <th scope=\"col\" style=\"text-align: center;\">Operador</th>\n",
    "        <th scope=\"col\" style=\"text-align: center;\">Exemplo</th>\n",
    "        <th scope=\"col\" style=\"text-align: center;\">Operação</th>\n",
    "        <th scope=\"col\" style=\"text-align: center;\">Resultado</th>\n",
    "    </tr>\n",
    "  </thead>\n",
    "  <tbody>\n",
    "    <tr>\n",
    "            <th scope=\"row\" style=\"text-align: center;\">1</th>\n",
    "            <td style=\"text-align: center;\">+</td>\n",
    "            <td style=\"text-align: center;\">a + b</td>\n",
    "            <td style=\"text-align: center;\">Soma</td>\n",
    "            <td style=\"text-align: center;\">Soma entre a e b</td>\n",
    "        </tr>\n",
    "            <tr>\n",
    "                <th scope=\"row\" style=\"text-align: center;\">2</th>\n",
    "                <td style=\"text-align: center;\">-</td>\n",
    "                <td style=\"text-align: center;\">a - b</td>\n",
    "                <td style=\"text-align: center;\">Subtração</td>\n",
    "                <td style=\"text-align: center;\">Subtração entre a e b</td>\n",
    "            </tr>\n",
    "                <tr>\n",
    "                    <th scope=\"row\" style=\"text-align: center;\">3</th>\n",
    "                    <td style=\"text-align: center;\">*</td>\n",
    "                    <td style=\"text-align: center;\">a * b</td>\n",
    "                    <td style=\"text-align: center;\">Multiplicação</td>\n",
    "                    <td style=\"text-align: center;\">Produto entre a e b</td>\n",
    "                </tr>\n",
    "                    <tr>\n",
    "                        <th scope=\"row\" style=\"text-align: center;\">4</th>\n",
    "                        <td style=\"text-align: center;\">/</td>\n",
    "                        <td style=\"text-align: center;\">a / b</td>\n",
    "                        <td style=\"text-align: center;\">Divisão real ou inteira</td>\n",
    "                        <td style=\"text-align: center;\">Quociente</td>\n",
    "                    </tr>\n",
    "                        <tr>\n",
    "                        <th scope=\"row\" style=\"text-align: center;\">5</th>\n",
    "                            <td style=\"text-align: center;\">//</td>\n",
    "                            <td style=\"text-align: center;\">a // b</td>\n",
    "                            <td style=\"text-align: center;\">Divisão integral</td>\n",
    "                            <td style=\"text-align: center;\">Divisão inteira</td>\n",
    "                        </tr>\n",
    "                            <tr>\n",
    "                                <th scope=\"row\" style=\"text-align: center;\">6</th>\n",
    "                                <td style=\"text-align: center;\">%</td>\n",
    "                                <td style=\"text-align: center;\">a % b</td>\n",
    "                                <td style=\"text-align: center;\">Modulo</td>\n",
    "                                <td style=\"text-align: center;\">Resto da divisão inteira</td>\n",
    "                            </tr>\n",
    "                                <tr>\n",
    "                                <th scope=\"row\" style=\"text-align: center;\">7</th>\n",
    "                                    <td style=\"text-align: center;\">**</td>\n",
    "                                    <td style=\"text-align: center;\">a ** b</td>\n",
    "                                    <td style=\"text-align: center;\">Exponênciação</td>\n",
    "                                    <td style=\"text-align: center;\">a elevado a b</td>\n",
    "                                </tr>\n",
    "</tbody>\n",
    "</table>\n"
   ]
  },
  {
   "cell_type": "markdown",
   "metadata": {},
   "source": [
    "<hr><hr>"
   ]
  },
  {
   "cell_type": "markdown",
   "metadata": {},
   "source": [
    "__Exemplos:__"
   ]
  },
  {
   "cell_type": "code",
   "execution_count": null,
   "metadata": {},
   "outputs": [],
   "source": [
    "a = 7\n",
    "b = 6"
   ]
  },
  {
   "cell_type": "code",
   "execution_count": null,
   "metadata": {},
   "outputs": [],
   "source": [
    "+ a"
   ]
  },
  {
   "cell_type": "code",
   "execution_count": null,
   "metadata": {},
   "outputs": [],
   "source": [
    "- b"
   ]
  },
  {
   "cell_type": "code",
   "execution_count": null,
   "metadata": {},
   "outputs": [],
   "source": [
    "a + b"
   ]
  },
  {
   "cell_type": "code",
   "execution_count": null,
   "metadata": {},
   "outputs": [],
   "source": [
    "a - b"
   ]
  },
  {
   "cell_type": "code",
   "execution_count": null,
   "metadata": {},
   "outputs": [],
   "source": [
    "a * b"
   ]
  },
  {
   "cell_type": "code",
   "execution_count": null,
   "metadata": {},
   "outputs": [],
   "source": [
    "a / b"
   ]
  },
  {
   "cell_type": "code",
   "execution_count": null,
   "metadata": {},
   "outputs": [],
   "source": [
    "a // b"
   ]
  },
  {
   "cell_type": "code",
   "execution_count": null,
   "metadata": {},
   "outputs": [],
   "source": [
    "a % b"
   ]
  },
  {
   "cell_type": "code",
   "execution_count": null,
   "metadata": {},
   "outputs": [],
   "source": [
    "a ** b"
   ]
  },
  {
   "cell_type": "markdown",
   "metadata": {},
   "source": [
    "O resultado da divisão padrão `(/)` é sempre um float, mesmo se o dividendo for divisível pelo divisor:"
   ]
  },
  {
   "cell_type": "code",
   "execution_count": null,
   "metadata": {},
   "outputs": [],
   "source": [
    "10 / 5"
   ]
  },
  {
   "cell_type": "code",
   "execution_count": null,
   "metadata": {},
   "outputs": [],
   "source": [
    "type(10 / 5)"
   ]
  },
  {
   "cell_type": "markdown",
   "metadata": {},
   "source": [
    "Quando o resultado da divisão `(//)` é positivo, é como se a parte fracionária estivesse truncada, deixando apenas a parte inteira. Quando o resultado é negativo, o resultado é arredondado para o próximo número inteiro menor:"
   ]
  },
  {
   "cell_type": "code",
   "execution_count": null,
   "metadata": {},
   "outputs": [],
   "source": [
    "10 / 4"
   ]
  },
  {
   "cell_type": "code",
   "execution_count": null,
   "metadata": {},
   "outputs": [],
   "source": [
    "10 // 4"
   ]
  },
  {
   "cell_type": "code",
   "execution_count": null,
   "metadata": {},
   "outputs": [],
   "source": [
    "10 // -4"
   ]
  },
  {
   "cell_type": "code",
   "execution_count": null,
   "metadata": {},
   "outputs": [],
   "source": [
    "-10 // 4"
   ]
  },
  {
   "cell_type": "code",
   "execution_count": null,
   "metadata": {},
   "outputs": [],
   "source": [
    "-10 // -4"
   ]
  },
  {
   "cell_type": "markdown",
   "metadata": {},
   "source": [
    "6.2 Operadores de Comparação\n",
    "========================="
   ]
  },
  {
   "cell_type": "markdown",
   "metadata": {},
   "source": [
    "<!---\n",
    "|Operador|exemplo|Operação|Resultado|\n",
    "|:----:|:----:|:----:|:----:|\n",
    "|==|a == b |Igua a|True: se o valor de a for igual ao valor de b|\n",
    "|!= |a != b |Não é igual a|True: se o valor de a não for igual ao valor de b|\n",
    "|< |a < b |Menor que|True: se o valor de a for menor que o valor de b|\n",
    "|<= |a <= b| Menor ou igual a|True: se o valor de a for menor ou igual ao valor de b|\n",
    "|> |a > b| Maior que |True: se o valor de a for maior que o valor de b|\n",
    "| >= |a >= b | Maior ou igual a |True: se o valor de a for maior ou igual ao valor de b|\n",
    "--->\n",
    "\n",
    "<table class=\"table\">\n",
    "  <thead class=\"thead-dark\">\n",
    "    <tr>\n",
    "        <th scope=\"col\" style=\"text-align: center;\">#</th>\n",
    "        <th scope=\"col\" style=\"text-align: center;\">Operador</th>\n",
    "        <th scope=\"col\" style=\"text-align: center;\">Exemplo</th>\n",
    "        <th scope=\"col\" style=\"text-align: center;\">Operação</th>\n",
    "        <th scope=\"col\" style=\"text-align: center;\">Resultado</th>\n",
    "    </tr>\n",
    "  </thead>\n",
    "  <tbody>\n",
    "        <tr>\n",
    "            <th scope=\"row\" style=\"text-align: center;\">1</th>\n",
    "            <td style=\"text-align: center;\">==</td>\n",
    "            <td style=\"text-align: center;\">a == b</td>\n",
    "            <td style=\"text-align: center;\">igual a</td>\n",
    "            <td style=\"text-align: left;\"><b>True:</b> se o valor de a for igual ao valor de b</td>\n",
    "        </tr>\n",
    "            <tr>\n",
    "                <th scope=\"row\" style=\"text-align: center;\">2</th>\n",
    "                <td style=\"text-align: center;\">!=</td>\n",
    "                <td style=\"text-align: center;\">a != b</td>\n",
    "                <td style=\"text-align: center;\">Não é igual a</td>\n",
    "                <td style=\"text-align: left;\"><b>True:</b> se o valor de a não for igual ao valor de b</td>\n",
    "            </tr>\n",
    "                <tr>\n",
    "                    <th scope=\"row\" style=\"text-align: center;\">3</th>\n",
    "                    <td style=\"text-align: center;\"><</td>\n",
    "                    <td style=\"text-align: center;\">a < b</td>\n",
    "                    <td style=\"text-align: center;\">Menor que</td>\n",
    "                    <td style=\"text-align: left;\"><b>True:</b> se o valor de a for menor que o valor de b</td>\n",
    "                </tr> \n",
    "                    <tr>\n",
    "                        <th scope=\"row\" style=\"text-align: center;\">4</th>\n",
    "                        <td style=\"text-align: center;\"><=</td>\n",
    "                        <td style=\"text-align: center;\">a <= b</td>\n",
    "                        <td style=\"text-align: center;\">Menor ou igual a</td>\n",
    "                        <td style=\"text-align: left;\"><b>True:</b> se o valor de a for menor ou igual ao valor de b</td>\n",
    "                    </tr>\n",
    "                        <tr>\n",
    "                            <th scope=\"row\" style=\"text-align: center;\">5</th>\n",
    "                            <td style=\"text-align: center;\">></td>\n",
    "                            <td style=\"text-align: center;\">a > b</td>\n",
    "                            <td style=\"text-align: center;\">Maior que</td>\n",
    "                            <td style=\"text-align: left;\"><b>True:</b> se o valor de a for maior que o valor de b</td>\n",
    "                        </tr>\n",
    "                            <tr>\n",
    "                                <th scope=\"row\" style=\"text-align: center;\">6</th>\n",
    "                                <td style=\"text-align: center;\">>=</td>\n",
    "                                <td style=\"text-align: center;\">a >= b</td>\n",
    "                                <td style=\"text-align: center;\">Maior ou igual a</td>\n",
    "                                <td style=\"text-align: left;\"><b>True:</b> se o valor de a for maior ou igual ao valor de b</td>\n",
    "                            </tr>\n",
    "\n",
    "</tbody>\n",
    "</table>"
   ]
  },
  {
   "cell_type": "markdown",
   "metadata": {},
   "source": [
    "<hr><hr>"
   ]
  },
  {
   "cell_type": "markdown",
   "metadata": {},
   "source": [
    "__Exemplos de operadores de comparação:__"
   ]
  },
  {
   "cell_type": "code",
   "execution_count": 1,
   "metadata": {},
   "outputs": [],
   "source": [
    "a = 10\n",
    "b = 30"
   ]
  },
  {
   "cell_type": "code",
   "execution_count": 2,
   "metadata": {},
   "outputs": [
    {
     "data": {
      "text/plain": [
       "False"
      ]
     },
     "execution_count": 2,
     "metadata": {},
     "output_type": "execute_result"
    }
   ],
   "source": [
    "a == b"
   ]
  },
  {
   "cell_type": "code",
   "execution_count": 3,
   "metadata": {},
   "outputs": [
    {
     "data": {
      "text/plain": [
       "True"
      ]
     },
     "execution_count": 3,
     "metadata": {},
     "output_type": "execute_result"
    }
   ],
   "source": [
    "a != b"
   ]
  },
  {
   "cell_type": "code",
   "execution_count": 4,
   "metadata": {},
   "outputs": [
    {
     "data": {
      "text/plain": [
       "True"
      ]
     },
     "execution_count": 4,
     "metadata": {},
     "output_type": "execute_result"
    }
   ],
   "source": [
    "a < b"
   ]
  },
  {
   "cell_type": "code",
   "execution_count": 5,
   "metadata": {},
   "outputs": [
    {
     "data": {
      "text/plain": [
       "True"
      ]
     },
     "execution_count": 5,
     "metadata": {},
     "output_type": "execute_result"
    }
   ],
   "source": [
    "a <= b"
   ]
  },
  {
   "cell_type": "code",
   "execution_count": 6,
   "metadata": {},
   "outputs": [
    {
     "data": {
      "text/plain": [
       "False"
      ]
     },
     "execution_count": 6,
     "metadata": {},
     "output_type": "execute_result"
    }
   ],
   "source": [
    "a > b"
   ]
  },
  {
   "cell_type": "code",
   "execution_count": 7,
   "metadata": {},
   "outputs": [
    {
     "data": {
      "text/plain": [
       "False"
      ]
     },
     "execution_count": 7,
     "metadata": {},
     "output_type": "execute_result"
    }
   ],
   "source": [
    "a >= b"
   ]
  },
  {
   "cell_type": "code",
   "execution_count": 9,
   "metadata": {},
   "outputs": [],
   "source": [
    "a = 20\n",
    "b = 20"
   ]
  },
  {
   "cell_type": "code",
   "execution_count": 10,
   "metadata": {},
   "outputs": [
    {
     "data": {
      "text/plain": [
       "True"
      ]
     },
     "execution_count": 10,
     "metadata": {},
     "output_type": "execute_result"
    }
   ],
   "source": [
    "a == b"
   ]
  },
  {
   "cell_type": "code",
   "execution_count": 11,
   "metadata": {},
   "outputs": [
    {
     "data": {
      "text/plain": [
       "True"
      ]
     },
     "execution_count": 11,
     "metadata": {},
     "output_type": "execute_result"
    }
   ],
   "source": [
    "a <= b"
   ]
  },
  {
   "cell_type": "code",
   "execution_count": 12,
   "metadata": {},
   "outputs": [
    {
     "data": {
      "text/plain": [
       "True"
      ]
     },
     "execution_count": 12,
     "metadata": {},
     "output_type": "execute_result"
    }
   ],
   "source": [
    "a >= b"
   ]
  },
  {
   "cell_type": "markdown",
   "metadata": {},
   "source": [
    ">__Nota:__ Os operadores de comparação geralmente são usados em contextos `booleanos`, como instruções condicionais e de loop, para direcionar o fluxo do programa, como veremos mais adiante em nossos estudos."
   ]
  },
  {
   "cell_type": "markdown",
   "metadata": {},
   "source": [
    "##  6.2.1 Comparação de igualdade em valores de ponto flutuante"
   ]
  },
  {
   "cell_type": "markdown",
   "metadata": {},
   "source": [
    "## <font color='red'>**ATENÇÃO!!!**</font>"
   ]
  },
  {
   "cell_type": "code",
   "execution_count": 18,
   "metadata": {},
   "outputs": [],
   "source": [
    "x = 1.1 + 2.2"
   ]
  },
  {
   "cell_type": "code",
   "execution_count": 19,
   "metadata": {},
   "outputs": [
    {
     "data": {
      "text/plain": [
       "3.3000000000000003"
      ]
     },
     "execution_count": 19,
     "metadata": {},
     "output_type": "execute_result"
    }
   ],
   "source": [
    "x"
   ]
  },
  {
   "cell_type": "code",
   "execution_count": 20,
   "metadata": {},
   "outputs": [
    {
     "data": {
      "text/plain": [
       "False"
      ]
     },
     "execution_count": 20,
     "metadata": {},
     "output_type": "execute_result"
    }
   ],
   "source": [
    "x == 3.3"
   ]
  },
  {
   "cell_type": "code",
   "execution_count": 21,
   "metadata": {},
   "outputs": [
    {
     "data": {
      "text/plain": [
       "True"
      ]
     },
     "execution_count": 21,
     "metadata": {},
     "output_type": "execute_result"
    }
   ],
   "source": [
    "tolerancia  =  0.00001\n",
    "x  =  1.1  +  2.2 \n",
    "abs (x - 3.3) < tolerancia "
   ]
  },
  {
   "cell_type": "markdown",
   "metadata": {},
   "source": [
    "6.3 Operadores lógicos em Python\n",
    "===========================\n",
    "Os operadores lógicos `not`, `or` e `and`, tem a função de modificar e unir expressões avaliadas no contexto booleano para criar condições mais complexas dentro de nossos códigos.\n",
    "\n",
    "As expressões Lógicas com Operandos Booleanos, como vimos anteriormente, são usadas com objetos e expressões no Python do tipo `booleano`, ou seja, eles são iguais a os objetos do Python `True` ou `False`. Vamos considerar alguns exemplos logo abaixo:\n"
   ]
  },
  {
   "cell_type": "code",
   "execution_count": 22,
   "metadata": {},
   "outputs": [
    {
     "data": {
      "text/plain": [
       "True"
      ]
     },
     "execution_count": 22,
     "metadata": {},
     "output_type": "execute_result"
    }
   ],
   "source": [
    "x = 5\n",
    "x < 10"
   ]
  },
  {
   "cell_type": "code",
   "execution_count": 23,
   "metadata": {},
   "outputs": [
    {
     "data": {
      "text/plain": [
       "bool"
      ]
     },
     "execution_count": 23,
     "metadata": {},
     "output_type": "execute_result"
    }
   ],
   "source": [
    "type(x < 10)"
   ]
  },
  {
   "cell_type": "code",
   "execution_count": 24,
   "metadata": {},
   "outputs": [],
   "source": [
    "t = x > 10"
   ]
  },
  {
   "cell_type": "code",
   "execution_count": 25,
   "metadata": {},
   "outputs": [
    {
     "data": {
      "text/plain": [
       "False"
      ]
     },
     "execution_count": 25,
     "metadata": {},
     "output_type": "execute_result"
    }
   ],
   "source": [
    "t"
   ]
  },
  {
   "cell_type": "code",
   "execution_count": 26,
   "metadata": {},
   "outputs": [
    {
     "data": {
      "text/plain": [
       "bool"
      ]
     },
     "execution_count": 26,
     "metadata": {},
     "output_type": "execute_result"
    }
   ],
   "source": [
    "type(t)"
   ]
  },
  {
   "cell_type": "code",
   "execution_count": 27,
   "metadata": {},
   "outputs": [
    {
     "data": {
      "text/plain": [
       "False"
      ]
     },
     "execution_count": 27,
     "metadata": {},
     "output_type": "execute_result"
    }
   ],
   "source": [
    "callable(x) "
   ]
  },
  {
   "cell_type": "code",
   "execution_count": 29,
   "metadata": {},
   "outputs": [
    {
     "data": {
      "text/plain": [
       "bool"
      ]
     },
     "execution_count": 29,
     "metadata": {},
     "output_type": "execute_result"
    }
   ],
   "source": [
    "type(callable(x))"
   ]
  },
  {
   "cell_type": "markdown",
   "metadata": {},
   "source": [
    "<hr><hr>"
   ]
  },
  {
   "cell_type": "markdown",
   "metadata": {},
   "source": [
    "<!---\n",
    "| Operador | Exemplo | Significado|\n",
    "| :------: | :-----: | :---------: |\n",
    "|not       | not x   | True: se x é False, False se x é True |\n",
    "|or        | x or Y  | True: se x ou y forem True, False de outra forma |\n",
    "|and       | x and y | True: se ambos x e y forem True, False de outra forma |\n",
    "--->\n",
    "\n",
    "<table class=\"table\">\n",
    "    <thead class=\"thead-dark\">\n",
    "    <tr>\n",
    "        <th scope=\"col\"style style=\"text-align: center;\">#</th>\n",
    "        <th scope=\"col\" style=\"text-align: center;\">Operador</th>\n",
    "        <th scope=\"col\" style=\"text-align: center;\">Exemplo</th>\n",
    "        <th scope=\"col\" style=\"text-align: center;\">Significado</th>\n",
    "    </tr>\n",
    "  </thead>\n",
    "  <tbody>\n",
    "    <tr>\n",
    "            <th scope=\"row\" style=\"text-align: center;\">1</th>\n",
    "            <td style=\"text-align: center;\">not</td>\n",
    "            <td style=\"text-align: center;\">not x</td>\n",
    "            <td style=\"text-align: left;\"><b>True:</b> se x é False, False se x é True</td>\n",
    "        </tr>\n",
    "            <tr>\n",
    "                <th scope=\"row\" style=\"text-align: center;\">2</th>\n",
    "                <td style=\"text-align: center;\">or</td>\n",
    "                <td style=\"text-align: center;\">x or Y</td>\n",
    "                <td style=\"text-align: left;\"><b>True:</b> se x ou y forem True, False de outra forma</td>\n",
    "            </tr>\n",
    "                <tr>\n",
    "                    <th scope=\"row\" style=\"text-align: center;\">3</th>\n",
    "                    <td style=\"text-align: center;\">and</td>\n",
    "                    <td style=\"text-align: center;\">x and y</td>\n",
    "                    <td style=\"text-align: left;\"><b>True:</b> se ambos x e y forem True, False de outra forma</td>\n",
    "                </tr>    \n",
    "</tbody>\n",
    "</table>\n"
   ]
  },
  {
   "cell_type": "markdown",
   "metadata": {},
   "source": [
    "### Funcionamento na prática"
   ]
  },
  {
   "cell_type": "markdown",
   "metadata": {},
   "source": [
    "#### Operado `not`"
   ]
  },
  {
   "cell_type": "code",
   "execution_count": 36,
   "metadata": {},
   "outputs": [
    {
     "data": {
      "text/plain": [
       "False"
      ]
     },
     "execution_count": 36,
     "metadata": {},
     "output_type": "execute_result"
    }
   ],
   "source": [
    "x = 5\n",
    "not x < 10"
   ]
  },
  {
   "cell_type": "code",
   "execution_count": 33,
   "metadata": {},
   "outputs": [
    {
     "data": {
      "text/plain": [
       "False"
      ]
     },
     "execution_count": 33,
     "metadata": {},
     "output_type": "execute_result"
    }
   ],
   "source": [
    "callable(x)"
   ]
  },
  {
   "cell_type": "code",
   "execution_count": 34,
   "metadata": {},
   "outputs": [
    {
     "data": {
      "text/plain": [
       "True"
      ]
     },
     "execution_count": 34,
     "metadata": {},
     "output_type": "execute_result"
    }
   ],
   "source": [
    "not callable(x)"
   ]
  },
  {
   "cell_type": "markdown",
   "metadata": {},
   "source": [
    "<!---\n",
    "| Operando | Valor | Expressão lógica | Valor |\n",
    "|:-------: |:-----:|:---------------: | :----:|\n",
    "|x < 10    | True    |not x < 10| False|\n",
    "|callable(x)| False  |not callable(x) |True|\n",
    "--->\n",
    "\n",
    "<table class=\"table\">\n",
    "  <thead class=\"thead-dark\">\n",
    "    <tr>\n",
    "        <th scope=\"col\" style=\"text-align: center;\">#</th>\n",
    "        <th scope=\"col\" style=\"text-align: center;\">Operando</th>\n",
    "        <th scope=\"col\" style=\"text-align: center;\">Valor</th>\n",
    "        <th scope=\"col\" style=\"text-align: center;\">Expressão lógica</th>\n",
    "        <th scope=\"col\" style=\"text-align: center;\">Valor</th>\n",
    "    </tr>\n",
    "  </thead>\n",
    "  <tbody>\n",
    "    <tr>\n",
    "        <th scope=\"row\" style=\"text-align: center;\">1</th>\n",
    "        <td style=\"text-align: center;\">x < 10</td>\n",
    "        <td style=\"text-align: center;\">True</td>\n",
    "        <td style=\"text-align: center;\">not x < 10</td>\n",
    "        <td style=\"text-align: center;\"><b>False</b></td>\n",
    "        </tr>\n",
    "            <tr>\n",
    "                <th scope=\"row\" style=\"text-align: center;\">2</th>\n",
    "                <td style=\"text-align: center;\">callable(x)</td>\n",
    "                <td style=\"text-align: center;\">False</td>\n",
    "                <td style=\"text-align: center;\">not callable(x)</td>\n",
    "                <td style=\"text-align: center;\"><b>True</b></td>\n",
    "            </tr>  \n",
    "</tbody>\n",
    "</table>\n"
   ]
  },
  {
   "cell_type": "markdown",
   "metadata": {},
   "source": [
    "<hr><hr>"
   ]
  },
  {
   "cell_type": "markdown",
   "metadata": {},
   "source": [
    "#### Operado `or`"
   ]
  },
  {
   "cell_type": "code",
   "execution_count": 37,
   "metadata": {},
   "outputs": [
    {
     "data": {
      "text/plain": [
       "True"
      ]
     },
     "execution_count": 37,
     "metadata": {},
     "output_type": "execute_result"
    }
   ],
   "source": [
    "x = 5 \n",
    "x < 10 or callable(x) "
   ]
  },
  {
   "cell_type": "code",
   "execution_count": 38,
   "metadata": {},
   "outputs": [
    {
     "data": {
      "text/plain": [
       "False"
      ]
     },
     "execution_count": 38,
     "metadata": {},
     "output_type": "execute_result"
    }
   ],
   "source": [
    "x < 0 or callable(x)"
   ]
  },
  {
   "cell_type": "markdown",
   "metadata": {},
   "source": [
    "<hr><hr>"
   ]
  },
  {
   "cell_type": "markdown",
   "metadata": {},
   "source": [
    "<!---\n",
    "| Operando | Valor   | Operando | Valor | Expressão lógica | Valor |\n",
    "|------: | :-----: | :------: | :----:| :--------------: |:-----:|\n",
    "|x < 10    | True    |callable(x) |False |x < 10 or callable(x)|True |\n",
    "|x < 0     | False   |callable(x) |False |x < 0 or callable(x) |False|\n",
    "--->\n",
    "\n",
    "<table class=\"table\">\n",
    "  <thead class=\"thead-dark\">\n",
    "    <tr>\n",
    "        <th scope=\"col\" style=\"text-align: center;\">#</th>\n",
    "        <th scope=\"col\" style=\"text-align: center;\">Operando</th>\n",
    "        <th scope=\"col\" style=\"text-align: center;\">Valor</th>\n",
    "        <th scope=\"col\" style=\"text-align: center;\">Operando</th>\n",
    "        <th scope=\"col\" style=\"text-align: center;\">Valor</th>\n",
    "        <th scope=\"col\" style=\"text-align: center;\">Expressão lógica</th>\n",
    "        <th scope=\"col\" style=\"text-align: center;\">Valor</th>\n",
    "    </tr>\n",
    "  </thead>\n",
    "  <tbody>\n",
    "    <tr>\n",
    "            <th scope=\"row\" style=\"text-align: center;\">1</th>\n",
    "            <td style=\"text-align: center;\">x < 10</td>\n",
    "            <td style=\"text-align: center;\">True</td>\n",
    "            <td style=\"text-align: center;\">callable(x)</td>\n",
    "            <td style=\"text-align: center;\">False</td>\n",
    "            <td style=\"text-align: center;\">x < 10 or callable(x)</td>\n",
    "            <td style=\"text-align: center;\"><b>True</b></td>\n",
    "    </tr>\n",
    "        <tr>\n",
    "            <th scope=\"row\" style=\"text-align: center;\">2</th>\n",
    "            <td style=\"text-align: center;\">x < 0</td>\n",
    "            <td style=\"text-align: center;\">False</td>\n",
    "            <td style=\"text-align: center;\">callable(x)</td>\n",
    "            <td style=\"text-align: center;\">False</td>\n",
    "            <td style=\"text-align: center;\">x < 0 or callable(x)</td>\n",
    "            <td style=\"text-align: center;\"><b>False</b></td>\n",
    "        </tr>  \n",
    "</tbody>\n",
    "</table>"
   ]
  },
  {
   "cell_type": "markdown",
   "metadata": {},
   "source": [
    "<hr><hr>"
   ]
  },
  {
   "cell_type": "markdown",
   "metadata": {},
   "source": [
    "#### Operado `and`"
   ]
  },
  {
   "cell_type": "code",
   "execution_count": 41,
   "metadata": {},
   "outputs": [
    {
     "data": {
      "text/plain": [
       "False"
      ]
     },
     "execution_count": 41,
     "metadata": {},
     "output_type": "execute_result"
    }
   ],
   "source": [
    "x  =  5 \n",
    "x < 10 and callable(x) "
   ]
  },
  {
   "cell_type": "code",
   "execution_count": 42,
   "metadata": {},
   "outputs": [
    {
     "data": {
      "text/plain": [
       "True"
      ]
     },
     "execution_count": 42,
     "metadata": {},
     "output_type": "execute_result"
    }
   ],
   "source": [
    "10 and callable(len)"
   ]
  },
  {
   "cell_type": "markdown",
   "metadata": {},
   "source": [
    "<!---\n",
    "| Operando | Valor   | Operando | Valor | Expressão lógica | Valor |\n",
    "|------: | :-----: | :------: | :----:| :--------------: |:-----:|\n",
    "|x < 10    | True    |callable(x) |False |x < 10 and callable(x)|False |\n",
    "|x < 10    | True    |callable(len)|True |x < 10 or callable(len) |True|\n",
    "--->\n",
    "\n",
    "<table class=\"table\">\n",
    "  <thead class=\"thead-dark\">\n",
    "    <tr>\n",
    "        <th scope=\"col\" style=\"text-align: center;\">#</th>\n",
    "        <th scope=\"col\" style=\"text-align: center;\">Operando</th>\n",
    "        <th scope=\"col\" style=\"text-align: center;\">Valor</th>\n",
    "        <th scope=\"col\" style=\"text-align: center;\">Operando</th>\n",
    "        <th scope=\"col\" style=\"text-align: center;\">Valor</th>\n",
    "        <th scope=\"col\" style=\"text-align: center;\">Expressão lógica</th>\n",
    "        <th scope=\"col\" style=\"text-align: center;\">Valor</th>\n",
    "    </tr>\n",
    "  </thead>\n",
    "  <tbody>\n",
    "    <tr>\n",
    "            <th scope=\"row\" style=\"text-align: center;\">1</th>\n",
    "            <td style=\"text-align: center;\">x < 10</td>\n",
    "            <td style=\"text-align: center;\">True</td>\n",
    "            <td style=\"text-align: center;\">callable(x)</td>\n",
    "            <td style=\"text-align: center;\">False</td>\n",
    "            <td style=\"text-align: center;\">x < 10 and callable(x)</td>\n",
    "            <td style=\"text-align: center;\">False</td>\n",
    "    </tr>\n",
    "        <tr>\n",
    "            <th scope=\"row\" style=\"text-align: center;\">2</th>\n",
    "            <td style=\"text-align: center;\">x < 10</td>\n",
    "            <td style=\"text-align: center;\">True</td>\n",
    "            <td style=\"text-align: center;\">callable(len)</td>\n",
    "            <td style=\"text-align: center;\">True</td>\n",
    "            <td style=\"text-align: center;\">x < 10 or callable(len)</td>\n",
    "            <td style=\"text-align: center;\">Ttrue</td>\n",
    "        </tr>  \n",
    "</tbody>\n",
    "</table>"
   ]
  },
  {
   "cell_type": "markdown",
   "metadata": {},
   "source": [
    "Conclusão\n",
    "========\n",
    "Aqui aprendemos sobre os diversos operadores que o Python suporta para combinar objetos em expressões. Desafio a você a pesquisar alguns outros que não fizeram parte desse escopo, pois assim, você aprenderá com o esforço da sua própria pesquisa.\n",
    "O próximo notebook irá explorar objetos de string com detalhes."
   ]
  },
  {
   "cell_type": "markdown",
   "metadata": {},
   "source": [
    "### Obrigado e bons estudos"
   ]
  },
  {
   "cell_type": "code",
   "execution_count": null,
   "metadata": {},
   "outputs": [],
   "source": []
  }
 ],
 "metadata": {
  "anaconda-cloud": {},
  "kernelspec": {
   "display_name": "Python 3",
   "language": "python",
   "name": "python3"
  },
  "language_info": {
   "codemirror_mode": {
    "name": "ipython",
    "version": 3
   },
   "file_extension": ".py",
   "mimetype": "text/x-python",
   "name": "python",
   "nbconvert_exporter": "python",
   "pygments_lexer": "ipython3",
   "version": "3.7.3"
  }
 },
 "nbformat": 4,
 "nbformat_minor": 1
}
