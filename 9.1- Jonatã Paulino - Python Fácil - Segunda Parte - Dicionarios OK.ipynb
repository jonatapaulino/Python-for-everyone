{
 "cells": [
  {
   "cell_type": "markdown",
   "metadata": {},
   "source": [
    "# <font color='green'>Jonatã Paulino - Python Fácil</font>\n",
    "<img src='pimagem5t.png' alt=Jonatã Paulino size=4x4 width=90 height=90 align='left'>"
   ]
  },
  {
   "cell_type": "markdown",
   "metadata": {},
   "source": [
    "## Dicionários"
   ]
  },
  {
   "cell_type": "markdown",
   "metadata": {},
   "source": [
    "### Entendendo as Dicionários em Python\n",
    "\n",
    "Um dicionário representa uma coleção de elementors e é possível utilizar um indice de qualquer tipo, ao contrário da lista, onde índices são sempre inteiros.\n",
    "De costume usamos os termos chave e valor (key/value) para descrever os elementos de um dicionário.\n",
    "A chave é o índice, e o valor é a informação da chave. Os dicionários em python são representados  por chaves`{ }`.\n",
    "\n",
    "#### METODOS\n",
    "-**keys** = retorna uma lista com as chaves do dicionário</p>\n",
    "\n",
    "-**Values** = retorna uma list com os valores do dicionário</p>\n",
    "\n",
    "-**items** = retorna uma lista de tuplas com o conteúdo do dicionário. Cada tupla contendo um par (chave, valor)</p>\n",
    "\n",
    "\n",
    "-**update** = atualiza o dicionário a partir de outro [dict1.update(dict2)]</p>\n",
    "\n",
    "-**clear** = remove todos os ítens do dicionário</p>\n",
    "\n",
    "-**copy** = copia um dicionário e cria outro a partir dele.</p>\n",
    "\n",
    "-**get** - mostra o valor da chave, similar ao \"d[chave]\"\n",
    "\n",
    "-**del** = deleta uma chave com seu valor\n",
    "\n",
    "\n",
    "-**fromkeys** = a partir de uma lista, cria um dicionário e cada ítem da lista passa a ser uma chave do dicionário. E existe um segundo argumento que você pode adicionar como valor das chaves:\n",
    "\n",
    "```python\n",
    "dicionario1 = {\"blender\": 3.70, \"python\": 3.8}\n",
    "k = dicionario1.keys()\n",
    "v = dicionario1.values()\n",
    "print(k, v)\n",
    "```\n",
    "\n",
    "\n",
    "\n",
    "\n",
    "\n",
    "Os **dicionários** em Python, ou **dictionaries** (também referenciados como dicts), são mais uma estrutura para armazenar dados. Entretanto, o que difere significativamente os **dicionários** das `listas` é que no **dicionário** o `índice` é um nome que você define, ao contrário dos índices numerados que as `listas` possuem.\n",
    "\n",
    "**sintax:**\n",
    "\n",
    "```Dicionário vazio```\n",
    "```python\n",
    "dicionario = {}\n",
    "```\n",
    "\n",
    "```Dicionários com argumentos```\n",
    "\n",
    "```python\n",
    "dict = {'nome': \"Vinícius\", 'idade': 20, 'nota': 9.5}\n",
    "```\n",
    "==============================================================================================\n",
    "```python\n",
    "meu_dicionario = {'chave_1': valor_1, 'chave_2': valor_2, 'chave_7': valor_7}\n",
    "print meu_dicionario['chave_2'] # Salida: valor_2\n",
    "```\n",
    "\n",
    "Um `dicionário` permite eliminar qualquer entrada:\n",
    "```python\n",
    "del(meu_dicionario['chave_2'])\n",
    "```\n",
    "Iguais as `listas`, o `dicionario` permite modificar os valores\n",
    "```python\n",
    "meu_dicionario['chave_1'] = 'Novo Valor'\n",
    "```"
   ]
  },
  {
   "cell_type": "code",
   "execution_count": null,
   "metadata": {},
   "outputs": [],
   "source": [
    "# Já vimos a composição de uma lista\n",
    "lista_estudantes = [\"Sávio\", 35, \"Priscila\", 21, \"Tatiane\", 21, \"Vinícius\", 25]   "
   ]
  },
  {
   "cell_type": "code",
   "execution_count": null,
   "metadata": {},
   "outputs": [],
   "source": [
    "lista_estudantes"
   ]
  },
  {
   "cell_type": "code",
   "execution_count": null,
   "metadata": {},
   "outputs": [],
   "source": [
    "# Esta é a composição de dicionário\n",
    "dict_estudantes = {\"Sávio\":35, \"Priscila\":21, \"Tatiane\":21, \"Vinícius\":25}"
   ]
  },
  {
   "cell_type": "code",
   "execution_count": null,
   "metadata": {},
   "outputs": [],
   "source": [
    "dict_estudantes "
   ]
  },
  {
   "cell_type": "code",
   "execution_count": null,
   "metadata": {},
   "outputs": [],
   "source": [
    "dict_estudantes[\"Priscila\"]"
   ]
  },
  {
   "cell_type": "code",
   "execution_count": null,
   "metadata": {},
   "outputs": [],
   "source": [
    "dict_estudantes[\"Pedro\"] = 23"
   ]
  },
  {
   "cell_type": "code",
   "execution_count": null,
   "metadata": {},
   "outputs": [],
   "source": [
    "dict_estudantes[\"Pedro\"]"
   ]
  },
  {
   "cell_type": "code",
   "execution_count": null,
   "metadata": {},
   "outputs": [],
   "source": [
    "dict_estudantes[\"Tamires\"]"
   ]
  },
  {
   "cell_type": "code",
   "execution_count": null,
   "metadata": {},
   "outputs": [],
   "source": [
    "dict_estudantes.clear()"
   ]
  },
  {
   "cell_type": "code",
   "execution_count": null,
   "metadata": {},
   "outputs": [],
   "source": [
    "dict_estudantes"
   ]
  },
  {
   "cell_type": "code",
   "execution_count": null,
   "metadata": {},
   "outputs": [],
   "source": [
    "del dict_estudantes"
   ]
  },
  {
   "cell_type": "code",
   "execution_count": null,
   "metadata": {},
   "outputs": [],
   "source": [
    "dict_estudantes"
   ]
  },
  {
   "cell_type": "code",
   "execution_count": null,
   "metadata": {},
   "outputs": [],
   "source": [
    "estudantes = {\"Mateus\":24, \"Fernanda\":22, \"Tamires\":26, \"Cristiano\":25}"
   ]
  },
  {
   "cell_type": "code",
   "execution_count": null,
   "metadata": {},
   "outputs": [],
   "source": [
    "estudantes"
   ]
  },
  {
   "cell_type": "code",
   "execution_count": null,
   "metadata": {},
   "outputs": [],
   "source": [
    "len(estudantes)"
   ]
  },
  {
   "cell_type": "code",
   "execution_count": null,
   "metadata": {},
   "outputs": [],
   "source": [
    "estudantes.keys()"
   ]
  },
  {
   "cell_type": "code",
   "execution_count": null,
   "metadata": {},
   "outputs": [],
   "source": [
    "estudantes.values()"
   ]
  },
  {
   "cell_type": "code",
   "execution_count": null,
   "metadata": {},
   "outputs": [],
   "source": [
    "estudantes.items()"
   ]
  },
  {
   "cell_type": "code",
   "execution_count": null,
   "metadata": {},
   "outputs": [],
   "source": [
    "estudantes2 = {\"Maria\":27, \"Davi\":28, \"Carmen\":26}"
   ]
  },
  {
   "cell_type": "code",
   "execution_count": null,
   "metadata": {},
   "outputs": [],
   "source": [
    "estudantes2"
   ]
  },
  {
   "cell_type": "code",
   "execution_count": null,
   "metadata": {},
   "outputs": [],
   "source": [
    "estudantes.update(estudantes2)"
   ]
  },
  {
   "cell_type": "code",
   "execution_count": null,
   "metadata": {},
   "outputs": [],
   "source": [
    "estudantes"
   ]
  },
  {
   "cell_type": "code",
   "execution_count": null,
   "metadata": {},
   "outputs": [],
   "source": [
    "dic1 = {}"
   ]
  },
  {
   "cell_type": "code",
   "execution_count": null,
   "metadata": {},
   "outputs": [],
   "source": [
    "dic1"
   ]
  },
  {
   "cell_type": "code",
   "execution_count": null,
   "metadata": {},
   "outputs": [],
   "source": [
    "dic1[\"registro\"] = 2"
   ]
  },
  {
   "cell_type": "code",
   "execution_count": null,
   "metadata": {},
   "outputs": [],
   "source": [
    "print(dic1)"
   ]
  },
  {
   "cell_type": "code",
   "execution_count": null,
   "metadata": {},
   "outputs": [],
   "source": [
    "dic1[10] = 5"
   ]
  },
  {
   "cell_type": "code",
   "execution_count": null,
   "metadata": {},
   "outputs": [],
   "source": [
    "dic1"
   ]
  },
  {
   "cell_type": "code",
   "execution_count": null,
   "metadata": {},
   "outputs": [],
   "source": [
    "dic1[8.2] = \"Python\""
   ]
  },
  {
   "cell_type": "code",
   "execution_count": null,
   "metadata": {},
   "outputs": [],
   "source": [
    "dic1"
   ]
  },
  {
   "cell_type": "code",
   "execution_count": null,
   "metadata": {},
   "outputs": [],
   "source": [
    "dic1[\"teste\"] = 5"
   ]
  },
  {
   "cell_type": "code",
   "execution_count": null,
   "metadata": {},
   "outputs": [],
   "source": [
    "dic1"
   ]
  },
  {
   "cell_type": "code",
   "execution_count": null,
   "metadata": {},
   "outputs": [],
   "source": [
    "dict1 = {}"
   ]
  },
  {
   "cell_type": "code",
   "execution_count": null,
   "metadata": {},
   "outputs": [],
   "source": [
    "dict1"
   ]
  },
  {
   "cell_type": "code",
   "execution_count": null,
   "metadata": {},
   "outputs": [],
   "source": [
    "dict1[\"teste\"] = 10"
   ]
  },
  {
   "cell_type": "code",
   "execution_count": null,
   "metadata": {},
   "outputs": [],
   "source": [
    "dict1[\"chave\"] = \"teste\""
   ]
  },
  {
   "cell_type": "code",
   "execution_count": null,
   "metadata": {},
   "outputs": [],
   "source": [
    "# Chave e valor podem ser iguais em Python, porém representam coisas diferentes.\n",
    "dict1"
   ]
  },
  {
   "cell_type": "code",
   "execution_count": null,
   "metadata": {},
   "outputs": [],
   "source": [
    "dict2 = {}"
   ]
  },
  {
   "cell_type": "code",
   "execution_count": null,
   "metadata": {},
   "outputs": [],
   "source": [
    "dict2[\"chave1\"] = \"Python Fácil\""
   ]
  },
  {
   "cell_type": "code",
   "execution_count": null,
   "metadata": {},
   "outputs": [],
   "source": [
    "dict2[\"chave2\"] = 10"
   ]
  },
  {
   "cell_type": "code",
   "execution_count": null,
   "metadata": {},
   "outputs": [],
   "source": [
    "dict2[\"chave3\"] = 5.6"
   ]
  },
  {
   "cell_type": "code",
   "execution_count": null,
   "metadata": {},
   "outputs": [],
   "source": [
    "dict2"
   ]
  },
  {
   "cell_type": "code",
   "execution_count": null,
   "metadata": {},
   "outputs": [],
   "source": [
    "a = dict2[\"chave1\"]"
   ]
  },
  {
   "cell_type": "code",
   "execution_count": null,
   "metadata": {},
   "outputs": [],
   "source": [
    "b = dict2[\"chave2\"]"
   ]
  },
  {
   "cell_type": "code",
   "execution_count": null,
   "metadata": {},
   "outputs": [],
   "source": [
    "c = dict2[\"chave3\"]"
   ]
  },
  {
   "cell_type": "code",
   "execution_count": null,
   "metadata": {},
   "outputs": [],
   "source": [
    "a, b, c"
   ]
  },
  {
   "cell_type": "code",
   "execution_count": null,
   "metadata": {},
   "outputs": [],
   "source": [
    "# Dicionário de listas\n",
    "dict3 = {'chave1':1230,'chave2':[22,453,73.4],'chave3':['leite','maça','batata']}"
   ]
  },
  {
   "cell_type": "code",
   "execution_count": null,
   "metadata": {},
   "outputs": [],
   "source": [
    "dict3"
   ]
  },
  {
   "cell_type": "code",
   "execution_count": null,
   "metadata": {},
   "outputs": [],
   "source": [
    "dict3['chave2']"
   ]
  },
  {
   "cell_type": "code",
   "execution_count": null,
   "metadata": {},
   "outputs": [],
   "source": [
    "# Acessando um item da lista, dentro do dicionário\n",
    "dict3['chave3'][0].upper()"
   ]
  },
  {
   "cell_type": "code",
   "execution_count": null,
   "metadata": {},
   "outputs": [],
   "source": [
    "# Operações com itens da lista, dentro do dicionário\n",
    "var1 = dict3['chave2'][0] - 2"
   ]
  },
  {
   "cell_type": "code",
   "execution_count": null,
   "metadata": {},
   "outputs": [],
   "source": [
    "var1"
   ]
  },
  {
   "cell_type": "code",
   "execution_count": null,
   "metadata": {},
   "outputs": [],
   "source": [
    "# Duas operações no mesmo comando, para atualizar um item dentro da lista\n",
    "dict3['chave2'][0] -= 2"
   ]
  },
  {
   "cell_type": "code",
   "execution_count": null,
   "metadata": {},
   "outputs": [],
   "source": [
    "dict3"
   ]
  },
  {
   "cell_type": "markdown",
   "metadata": {},
   "source": [
    "### Conclusão\n",
    "Nesta etapa aprendemos sobre os `dicionários` e sua principal diferença para `listas`. Vimos como criar um `dicionário`, atualizar e acessar suas informações e também funções que podem vir a ser muito úteis ao trabalhar com eles."
   ]
  },
  {
   "cell_type": "markdown",
   "metadata": {},
   "source": [
    "### Obrigado e bons estudos"
   ]
  },
  {
   "cell_type": "code",
   "execution_count": null,
   "metadata": {},
   "outputs": [],
   "source": []
  }
 ],
 "metadata": {
  "anaconda-cloud": {},
  "kernelspec": {
   "display_name": "Python 3",
   "language": "python",
   "name": "python3"
  },
  "language_info": {
   "codemirror_mode": {
    "name": "ipython",
    "version": 3
   },
   "file_extension": ".py",
   "mimetype": "text/x-python",
   "name": "python",
   "nbconvert_exporter": "python",
   "pygments_lexer": "ipython3",
   "version": "3.7.3"
  }
 },
 "nbformat": 4,
 "nbformat_minor": 1
}
