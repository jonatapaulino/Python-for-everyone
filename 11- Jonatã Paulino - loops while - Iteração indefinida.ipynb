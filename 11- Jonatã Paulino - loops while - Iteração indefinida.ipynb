{
 "cells": [
  {
   "cell_type": "markdown",
   "metadata": {},
   "source": [
    "# <font color='green'>Jonatã Paulino - Python for everyone</font>\n",
    "<img src='pimagem5t.png' alt=Jonatã Paulino size=10x10 width=90 height=90 align='left'>"
   ]
  },
  {
   "cell_type": "markdown",
   "metadata": {},
   "source": [
    "11- loops while - Iteração indefinida\n",
    "=================================\n",
    "* __Índice__\n",
    "* 11.1 O Loop while\n",
    "* 11.2 As declarações de break e continue do Python\n",
    "* 11.3 A cláusula else\n",
    "* 11.4 Loops Infinitos\n",
    "* 11.5 Aninhando loops while\n",
    "* 11.6 Loops while de uma linha\n",
    "* Conclusão"
   ]
  },
  {
   "cell_type": "markdown",
   "metadata": {},
   "source": [
    "11.1 O Loop while\n",
    "=============="
   ]
  },
  {
   "cell_type": "markdown",
   "metadata": {},
   "source": [
    "Uma __Iteração__ significa excutar o mesmo bloco de código várias vezes o quanto for necessário, e este processo é chamado de __loop__.\n",
    "Veremos no nosso estudo que na programação existem dois tipos de iteração: a iteração `indefinida` e a iteração `definida`.\n",
    "\n",
    "Com `iteração indefinida`, o número de vezes que o `loop` é executado `não é especificado explicitamente de antemão`, em vez disso, o bloco designado é executado repetidamente, desde que alguma condição seja atendida. Já com `iteração definida`, o número de vezes que o bloco designado será executado `é especificado explicitamente no momento em que o loop é iniciado`.\n",
    "\n",
    "Vamos ver o formato mais básico de um `loop while`.\n",
    "\n",
    "**Sintax**\n",
    "```python\n",
    "while <expressão>:\n",
    "    <declaração>(s)\n",
    "```\n",
    "\n",
    "`<declaração>(s)` representa o bloco a ser `repetidamente executado`, muitas vezes referido como o corpo do loop. Isso é denotado com recuo, assim como em uma declaração `if`.\n",
    "\n",
    "__ATENÇÃO:__ Todas as estruturas de controle no Python usam recuo para definir blocos.\n",
    "\n",
    "A expressão de controle `<expressão>` normalmente envolve uma ou mais variáveis que são `inicializadas antes de iniciar o loop` e, em seguida, modificadas em algum lugar no corpo do loop."
   ]
  },
  {
   "cell_type": "code",
   "execution_count": null,
   "metadata": {},
   "outputs": [],
   "source": [
    "n = 6 \n",
    "while n > 0: \n",
    "    n -= 1 \n",
    "    print(n) "
   ]
  },
  {
   "cell_type": "markdown",
   "metadata": {},
   "source": [
    "**O que ocorreu neste exemplo acima?**\n",
    "\n",
    "* `n` é inicialmente `6`. A expressão no `cabeçalho while` da instrução na linha 2 `n > 0` é verdadeira, portanto o `corpo do loop é executado`. Dentro do corpo do loop na linha 3, `n` é decrementado por `1` para `5` e, em seguida, impresso.\n",
    "\n",
    "+ Quando o corpo do loop termina, a execução do programa retorna para o topo do loop na linha `2` e a expressão é avaliada novamente. Ainda é verdade, então o corpo é executado novamente e `4` é impresso.\n",
    "\n",
    "+ Isso continua até que `n` se torne `0`, e nesse ponto, quando a expressão é testada, ela é `falsa` e o loop `termina`. A execução seria retomada na primeira instrução após o corpo do loop, mas não há nem uma neste caso."
   ]
  },
  {
   "cell_type": "markdown",
   "metadata": {},
   "source": [
    "Observemos que a expressão de controle do `loop while é testada logo no início, antes que qualquer outra coisa aconteça`, se a expressão for `falsa`, o corpo do loop `nunca será executado`:"
   ]
  },
  {
   "cell_type": "code",
   "execution_count": null,
   "metadata": {},
   "outputs": [],
   "source": [
    "n = 0\n",
    "while n > 0:\n",
    "    n -=1\n",
    "    print(n)"
   ]
  },
  {
   "cell_type": "markdown",
   "metadata": {},
   "source": [
    "Quando uma `lista` é avaliada no contexto booleano, podemos afirmar que, quando houver elemento contido nesta lista, é `verdade` se a lista estiver vazia, é `falso`. \n",
    "No exemplo abaixo, `a` é verdadeiro contanto que tenha elementos nele, depois que todos os elementos tiverem sido removidos com o método `pop()` e a lista se tornar vazia, `a` será `falso` e o loop será encerrado."
   ]
  },
  {
   "cell_type": "code",
   "execution_count": null,
   "metadata": {},
   "outputs": [],
   "source": [
    "a = ['bolo', 'refri', 'hamburger'] \n",
    "while a: \n",
    "    print(a.pop(-1)) "
   ]
  },
  {
   "cell_type": "markdown",
   "metadata": {},
   "source": [
    "11.2 break e continue do Python\n",
    "======================================="
   ]
  },
  {
   "cell_type": "markdown",
   "metadata": {},
   "source": [
    "Nos exemplos que vimos até agora, todo o corpo do loop while é executado em cada iteração, \n",
    "o Python fornece duas palavras-chave que encerram prematuramente uma iteração de loop:\n",
    "\n",
    "- A instruçào `break` encerra imediatamente um loop. A execução do programa prossegue para a primeira instrução após o corpo do loop.\n",
    "\n",
    "- A instrução `continue` encerra imediatamente a iteração do loop atual. A execução salta para o início do loop e a expressão de controle é reavaliada para determinar se o loop será executado novamente ou será encerrado."
   ]
  },
  {
   "cell_type": "code",
   "execution_count": null,
   "metadata": {},
   "outputs": [],
   "source": [
    "n  =  5 \n",
    "while n > 0: \n",
    "    n -= 1\n",
    "    if n == 2: \n",
    "        break\n",
    "print(n) \n",
    "print('Loop finalizado')"
   ]
  },
  {
   "cell_type": "markdown",
   "metadata": {},
   "source": [
    "**O que ocorreu neste exemplo acima?**\n",
    "\n",
    "Quando `n` se torna `2`, a `instrução break`é executada, o loop é finalizado completamente e a execução do programa salta para a instrução print() na linha 7."
   ]
  },
  {
   "cell_type": "markdown",
   "metadata": {},
   "source": [
    "<hr><hr>"
   ]
  },
  {
   "cell_type": "markdown",
   "metadata": {},
   "source": [
    "+ A próxima instrução `- continue -` , é idêntica, exceto pela `declaração continue` no lugar de break:"
   ]
  },
  {
   "cell_type": "code",
   "execution_count": null,
   "metadata": {},
   "outputs": [],
   "source": [
    "n = 5\n",
    "while n > 0:\n",
    "    n -= 1\n",
    "    if n == 2:\n",
    "        continue\n",
    "    print(n)\n",
    "print('Loop finalizado.')"
   ]
  },
  {
   "cell_type": "markdown",
   "metadata": {},
   "source": [
    "Desta vez, quando `n` é 2, a `instrução continue` causa o `término dessa iteração`, assim, `2` não é impresso, a execução retorna ao topo do loop, a condição é reavaliada e ainda é verdadeira, o loop continua, terminando quando `n` se torna `0`, como anteriormente."
   ]
  },
  {
   "cell_type": "markdown",
   "metadata": {},
   "source": [
    "11.3 A cláusula else\n",
    "==============="
   ]
  },
  {
   "cell_type": "markdown",
   "metadata": {},
   "source": [
    "Python permite uma `cláusula else` opcional no final de um `loop while`. `Esse é um recurso exclusivo do Python`, não encontrado na maioria das outras linguagens de programação. A sintaxe é mostrada abaixo:\n",
    "\n",
    "```Python\n",
    "while <expr>:\n",
    "    <statement(s)>\n",
    "else:\n",
    "    <additional_statement(s)>\n",
    "```\n",
    "A ***<additional_statement(s)>*** especificada na clausula else, é executada quado termina o loop while."
   ]
  },
  {
   "cell_type": "code",
   "execution_count": null,
   "metadata": {},
   "outputs": [],
   "source": []
  },
  {
   "cell_type": "code",
   "execution_count": null,
   "metadata": {},
   "outputs": [],
   "source": []
  },
  {
   "cell_type": "markdown",
   "metadata": {},
   "source": [
    "11.4 Loops Infinitos\n",
    "==============="
   ]
  },
  {
   "cell_type": "code",
   "execution_count": null,
   "metadata": {},
   "outputs": [],
   "source": [
    "while True:\n",
    "    print('Python é legal!!!')"
   ]
  },
  {
   "cell_type": "markdown",
   "metadata": {},
   "source": [
    "11.5 Aninhando loops while\n",
    "====================="
   ]
  },
  {
   "cell_type": "markdown",
   "metadata": {},
   "source": [
    "Em geral, as estruturas de controle Python podem ser aninhadas umas nas outras. Por exemplo, as instruções condicionais `if/ elif/ else` podem ser aninhadas:"
   ]
  },
  {
   "cell_type": "code",
   "execution_count": null,
   "metadata": {},
   "outputs": [],
   "source": [
    "if age < 18:\n",
    "    if gender == 'M':\n",
    "        print('son')\n",
    "    else:\n",
    "        print('daughter')\n",
    "elif age >= 18 and age < 65:\n",
    "    if gender == 'M':\n",
    "        print('father')\n",
    "    else:\n",
    "        print('mother')\n",
    "else:\n",
    "    if gender == 'M':\n",
    "        print('grandfather')\n",
    "    else:\n",
    "        print('grandmother')"
   ]
  },
  {
   "cell_type": "markdown",
   "metadata": {},
   "source": [
    "Então, partindo desse princípio, um loop while pode estar contido em outro loop while."
   ]
  },
  {
   "cell_type": "code",
   "execution_count": null,
   "metadata": {},
   "outputs": [],
   "source": [
    "a = ['foo', 'bar']\n",
    "while len(a):\n",
    "    print(a.pop(0))\n",
    "    b = ['baz', 'qux']\n",
    "    while len(b):\n",
    "        print('>', b.pop(0))"
   ]
  },
  {
   "cell_type": "code",
   "execution_count": null,
   "metadata": {},
   "outputs": [],
   "source": []
  },
  {
   "cell_type": "markdown",
   "metadata": {},
   "source": [
    "11.6 Loops while de uma linha\n",
    "======================="
   ]
  },
  {
   "cell_type": "markdown",
   "metadata": {},
   "source": [
    "Como em uma `intrução if`, um `loop while` pode ser especificado em uma linha, e se houver várias instruções no bloco que compõe o corpo do loop, elas podem ser separadas por `ponto e vírgula ( ; )`:"
   ]
  },
  {
   "cell_type": "code",
   "execution_count": null,
   "metadata": {},
   "outputs": [],
   "source": [
    "# Isso vai funcionar\n",
    "n = 6 \n",
    "while n > 0: n -= 1; print(n) "
   ]
  },
  {
   "cell_type": "markdown",
   "metadata": {},
   "source": [
    "Isso funciona apenas com declarações simples, você `não pode combinar duas instruções compostas em uma linha`, mas você pode especificar um `loop while em uma linha`, como acima."
   ]
  },
  {
   "cell_type": "code",
   "execution_count": null,
   "metadata": {},
   "outputs": [],
   "source": [
    "# Isso não pode ser feito, vai dar erro de sintax\n",
    "while n > 0: n -= 1; if True: print ( 'Python' ) \n",
    "        enquanto  n  >  0 :  n  - =  1 ;  if  True :  print ( 'foo' ) "
   ]
  },
  {
   "cell_type": "markdown",
   "metadata": {},
   "source": [
    "Conclusão\n",
    "========="
   ]
  },
  {
   "cell_type": "markdown",
   "metadata": {},
   "source": [
    "Aprendemos neste notebook sobre `iteração indefinida` usando o `loop while Python`, e por isso agora somos capazes de:\n",
    "\n",
    "* Construir while's básicos e complexos.\n",
    "* Interromper a execução do loop com breake ou continue.\n",
    "* Usar a cláusula `else` junto com `while` quando necessário.\n",
    "* Lidar com loops infinitos\n",
    "\n",
    "Agora temos uma `boa noção` de como executarmos um pedaço de código repetidamente."
   ]
  },
  {
   "cell_type": "markdown",
   "metadata": {},
   "source": [
    "### Obrigado e bons estudos"
   ]
  },
  {
   "cell_type": "code",
   "execution_count": null,
   "metadata": {},
   "outputs": [],
   "source": []
  }
 ],
 "metadata": {
  "anaconda-cloud": {},
  "kernelspec": {
   "display_name": "Python 3",
   "language": "python",
   "name": "python3"
  },
  "language_info": {
   "codemirror_mode": {
    "name": "ipython",
    "version": 3
   },
   "file_extension": ".py",
   "mimetype": "text/x-python",
   "name": "python",
   "nbconvert_exporter": "python",
   "pygments_lexer": "ipython3",
   "version": "3.7.3"
  }
 },
 "nbformat": 4,
 "nbformat_minor": 1
}
