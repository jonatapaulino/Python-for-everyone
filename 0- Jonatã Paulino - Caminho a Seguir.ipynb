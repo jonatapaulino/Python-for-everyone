{
 "cells": [
  {
   "cell_type": "markdown",
   "metadata": {},
   "source": [
    "# <font color='green'>Jonatã Paulino - Python for everyone</font>\n",
    "<img src='jonata.jpg' alt=Jonatã Paulino size=10x10 width=150 height=120 align='left'>"
   ]
  },
  {
   "cell_type": "markdown",
   "metadata": {},
   "source": [
    "1- Por que escolher Python?\n",
    "=====================\n",
    "* __Índice__\n",
    "    - Python é Popular\n",
    "    - Python é interpretado\n",
    "    - Python é grátis\n",
    "    - Python é portável\n",
    "    - Python é simples\n",
    "* Conclusão"
   ]
  },
  {
   "cell_type": "markdown",
   "metadata": {},
   "source": [
    "============================================================================================="
   ]
  },
  {
   "cell_type": "markdown",
   "metadata": {},
   "source": [
    "2- Guia de instalação e configuração do Python 3\n",
    "======================================\n",
    "* __Índice__\n",
    "+ Windows\n",
    "    + Etapa 1: Faça o download do instalador do Python 3\n",
    "    + Etapa 2: executar o instalador\n",
    "+ Subsistema Windows para Linux (WSL)\n",
    "+ Linux\n",
    "    + Ubuntu\n",
    "    + Mint Linux\n",
    "    + Debian\n",
    "    + openSUSE\n",
    "    + CentOS\n",
    "    + Fedora\n",
    "    + Arch Linux\n",
    "    + Compilando Python da Fonte\n",
    "+ macOS / Mac OS X\n",
    "    + Passo 1: Instale Homebrew (Parte 1)\n",
    "    + Etapa 2: Instale o Homebrew (parte 2)\n",
    "    + Etapa 3: instalar o Python\n",
    "    + iOS (iPhone / iPad)\n",
    "+ Android (telefones e tablets)\n",
    "+ Interpretadores de Python Online\n",
    "+ Conclusão\n"
   ]
  },
  {
   "cell_type": "markdown",
   "metadata": {},
   "source": [
    "============================================================================================="
   ]
  },
  {
   "cell_type": "markdown",
   "metadata": {},
   "source": [
    "3- Interagindo com o Python\n",
    "=====================\n",
    "+ __Índice__\n",
    "+ Olá Mundo!\n",
    "+ Usando o Interpretador Python Interativamente\n",
    "    + Iniciando o Interpretador\n",
    "    + Executando o Código Python\n",
    "    + Saindo do Interpretador\n",
    "+ Executando um Script Python na Linha de Comando\n",
    "+ Interagindo com o Python por meio de um IDE\n",
    "    + IDLE\n",
    "    + Spyder\n",
    "    + Jupyter Notebook\n",
    "+ Sites de REPL em Python on-line\n",
    "+ Conclusão"
   ]
  },
  {
   "cell_type": "markdown",
   "metadata": {},
   "source": [
    "============================================================================================="
   ]
  },
  {
   "cell_type": "markdown",
   "metadata": {},
   "source": [
    "4- Tipos de dados básicos em Python\n",
    "============================\n",
    "+ __Índice__\n",
    "+ Inteiros\n",
    "+ Números de ponto flutuante\n",
    "+ Números complexos\n",
    "+ Strings\n",
    "    + Sequências de escape em sequências de caracteres\n",
    "    + Strings brutas\n",
    "    + Strings Triplas\n",
    "+ Tipo Booleano, Contexto Booleano e “Truthiness”\n",
    "+ Funções incorporadas\n",
    "    + Matemática\n",
    "    + Conversão de Tipo\n",
    "    + Iterables e Iteradores\n",
    "    + Tipo de dados compostos\n",
    "    + Classes, Atributos e Herança\n",
    "    + Entrada/saída\n",
    "    + Variáveis, referências e escopo\n",
    "    + Diversos\n",
    "+ Conclusão\n"
   ]
  },
  {
   "cell_type": "markdown",
   "metadata": {},
   "source": [
    "============================================================================================="
   ]
  },
  {
   "cell_type": "markdown",
   "metadata": {},
   "source": [
    "5- Variáveis em Python\n",
    "=========\n",
    "+ __Índice__\n",
    "+ Atribuição Variável\n",
    "+ Tipos de variáveis em Python\n",
    "+ Referências de objetos\n",
    "+ Identidade do Objeto\n",
    "+ Nomes de Variáveis\n",
    "+ Palavras reservadas (palavras-chave)\n",
    "+ Conclusão"
   ]
  },
  {
   "cell_type": "markdown",
   "metadata": {},
   "source": [
    "============================================================================================="
   ]
  },
  {
   "cell_type": "markdown",
   "metadata": {},
   "source": [
    "6- Operadores e Expressões em Python\n",
    "============\n",
    "+ __Índice__\n",
    "+ Operadores aritméticos\n",
    "+ Operadores de Comparação\n",
    "    + Comparação de igualdade em valores de ponto flutuante\n",
    "+ Operadores lógicos    \n",
    "+ Conclusão"
   ]
  },
  {
   "cell_type": "markdown",
   "metadata": {},
   "source": [
    "============================================================================================="
   ]
  },
  {
   "cell_type": "markdown",
   "metadata": {},
   "source": [
    "7- Strings e dados de caracteres em Python \n",
    "===============\n",
    "+ __Índice__\n",
    "+ Manipulação de String\n",
    "    + Operadores de String\n",
    "    + Funções de String Embutidas\n",
    "    + Indexação de strings\n",
    "    + Fatias De Fatias\n",
    "    + Modificando Strings\n",
    "    + Métodos de String Embutidos\n",
    "+ Conclusão"
   ]
  },
  {
   "cell_type": "markdown",
   "metadata": {},
   "source": [
    "============================================================================================="
   ]
  },
  {
   "cell_type": "markdown",
   "metadata": {},
   "source": [
    "8- Listas e Tuplas em Python\n",
    "=====================\n",
    "\n",
    "* __Índice__\n",
    "* Listas em Python\n",
    "    * Listas são ordenadas\n",
    "    * Listas podem conter objetos arbitrários\n",
    "    * Elementos de lista podem ser acessados pelo índice\n",
    "    * Listas podem ser aninhadas\n",
    "    * Listas são mutáveis\n",
    "    * Listas são dinâmicas\n",
    "* Tuplas Python\n",
    "    * Definindo e usando tuplas\n",
    "    * Tupla Atribuição, Embalagem e Desempacotamento\n",
    "* Conclusão"
   ]
  },
  {
   "cell_type": "markdown",
   "metadata": {},
   "source": [
    "============================================================================================="
   ]
  },
  {
   "cell_type": "markdown",
   "metadata": {},
   "source": [
    "9- Dicionários em Python\n",
    "==================\n",
    "* __Índice__\n",
    "+ Definindo um Dicionário\n",
    "+ Acessando os valores do dicionário\n",
    "+ Chaves de dicionário versus índices de lista\n",
    "+ Construindo um Dicionário Incrementalmente\n",
    "+ Restrições em chaves de dicionário\n",
    "+ Restrições aos valores do dicionário\n",
    "+ Operadores e Funções Internas\n",
    "+ Métodos de dicionário incorporados\n",
    "   ```python\n",
    "    + d.clear ()\n",
    "    + d.get (<key> [, <default>])\n",
    "    + d.items ()\n",
    "    + d.keys ()\n",
    "    + d.valores ()\n",
    "    + d.pop (<key> [, <default>])\n",
    "    + d.popitem ()\n",
    "    + d.update (<obj>)\n",
    "   ```\n",
    "+ Conclusão"
   ]
  },
  {
   "cell_type": "markdown",
   "metadata": {},
   "source": [
    "============================================================================================="
   ]
  },
  {
   "cell_type": "markdown",
   "metadata": {},
   "source": [
    "10- Declarações Condicionais em Python (if)\n",
    "==============================\n",
    "* __Índice__\n",
    "* Introdução à declaração if\n",
    "    * Agrupamento de declarações: recuo e blocos\n",
    "* Python: é tudo sobre a indentação\n",
    "* O que outros idiomas fazem?\n",
    "* Qual é melhor?\n",
    "* O else e as cláusulas elif\n",
    "* One-Line if Statements\n",
    "* Expressões Condicionais (Operador Ternário do Python)\n",
    "* A declaração do Python Pass\n",
    "* Conclusão"
   ]
  },
  {
   "cell_type": "markdown",
   "metadata": {},
   "source": [
    "============================================================================================="
   ]
  },
  {
   "cell_type": "markdown",
   "metadata": {},
   "source": [
    "11- Loops while - Iteração indefinida\n",
    "=================================\n",
    "* __Índice__\n",
    "* O Loop while\n",
    "* As declarações de break e continue do Python\n",
    "* A cláusula else\n",
    "* Loops Infinitos\n",
    "* Aninhado loops while\n",
    "* Loops while de uma linha\n",
    "* Conclusão"
   ]
  },
  {
   "cell_type": "markdown",
   "metadata": {},
   "source": [
    "============================================================================================="
   ]
  },
  {
   "cell_type": "markdown",
   "metadata": {},
   "source": [
    "12- Loops for - Iteração definida\n",
    "==============================\n",
    "* __Índice__\n",
    "* Um levantamento da iteração definitiva na programação\n",
    "* Loop de intervalo numérico\n",
    "* Loop de Três Expressões\n",
    "* Loop baseado em coleção ou baseado em iterador\n",
    "* O loop Python\n",
    "* Iterables\n",
    "* Iteradores\n",
    "* As entranhas do loop para Python\n",
    "* Iterando Através de um Dicionário\n",
    "* A função range()\n",
    "* Alterando para o Comportamento de Loop\n",
    "* As declarações break e continue\n",
    "* A cláusula else\n",
    "* Conclusão"
   ]
  },
  {
   "cell_type": "markdown",
   "metadata": {},
   "source": [
    "============================================================================================="
   ]
  },
  {
   "cell_type": "markdown",
   "metadata": {},
   "source": [
    "13- Entrada básica, saída e formatação de string em Python\n",
    "============================================\n",
    "* __Índice__\n",
    "* Leitura de entrada do teclado\n",
    "* Escrevendo saída para o console\n",
    "    * Saída de console não formatada\n",
    "    * Argumentos de palavras-chave para imprimir ()\n",
    "* Saída de String Formatada\n",
    "* O Operador de Módulo de Cordas\n",
    "    * Especificadores de conversão\n",
    "    * Tipo de Conversão\n",
    "    * Especificadores de largura e precisão\n",
    "    * Sinalizadores de conversão\n",
    "    * Especificando Valores por Mapeamento de Dicionário\n",
    "* Entrada e Saída em Python: \n",
    "* Conclusão\n"
   ]
  },
  {
   "cell_type": "markdown",
   "metadata": {},
   "source": [
    "============================================================================================="
   ]
  },
  {
   "cell_type": "markdown",
   "metadata": {},
   "source": [
    "### Obrigado e bons estudos"
   ]
  },
  {
   "cell_type": "code",
   "execution_count": null,
   "metadata": {},
   "outputs": [],
   "source": []
  }
 ],
 "metadata": {
  "anaconda-cloud": {},
  "kernelspec": {
   "display_name": "Python 3",
   "language": "python",
   "name": "python3"
  },
  "language_info": {
   "codemirror_mode": {
    "name": "ipython",
    "version": 3
   },
   "file_extension": ".py",
   "mimetype": "text/x-python",
   "name": "python",
   "nbconvert_exporter": "python",
   "pygments_lexer": "ipython3",
   "version": "3.7.3"
  }
 },
 "nbformat": 4,
 "nbformat_minor": 1
}
