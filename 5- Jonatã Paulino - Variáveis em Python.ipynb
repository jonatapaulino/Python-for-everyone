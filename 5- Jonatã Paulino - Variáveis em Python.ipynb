{
 "cells": [
  {
   "cell_type": "markdown",
   "metadata": {},
   "source": [
    "# <font color='green'>Jonatã Paulino - Python Fácil</font>\n",
    "  <img src='pimagem5t.png' alt=Jonatã Paulino size=10x10 width=90 height=90 align='left'>"
   ]
  },
  {
   "cell_type": "markdown",
   "metadata": {},
   "source": [
    "5- Variáveis em Python\n",
    "==================\n",
    "+ __Índice__\n",
    "+ 5.1 Atribuição de Variável\n",
    "+ 5.2 Tipos de variáveis em Python\n",
    "+ 5.3 Referências de objetos\n",
    "+ 5.4 Identidade do Objeto\n",
    "+ 5.5 Nomes Variáveis\n",
    "+ 5.6 Palavras reservadas (palavras-chave)\n",
    "+ Conclusão"
   ]
  },
  {
   "cell_type": "markdown",
   "metadata": {},
   "source": [
    "**AVISO!!!** - Para executar o código em uma célula, pressione as teclas **`shift+enter`** ou pressione o `botão` **`Run`** no menu superior"
   ]
  },
  {
   "cell_type": "markdown",
   "metadata": {},
   "source": [
    "5.1 Atribuição de variáveis\n",
    "==================\n",
    "Pense em uma variável como um nome associado a um objeto específico. No Python, as variáveis não precisam ser declaradas ou definidas com antecedência, como é o caso em muitas outras linguagens de programação. Para criar uma variável, basta atribuir um valor a ela e começar a usá-la. A atribuição é feita com um único sinal de igual `(=):`\n",
    "\n",
    "```python\n",
    ">>> n = 20\n",
    "```\n",
    "\n",
    "Isso é lido ou interpretado como `\"20 é atribuído a variável n\"`. Uma vez feito isso, `n` pode ser usado em uma declaração ou expressão:\n",
    "\n",
    "```python\n",
    ">>> print(n)\n",
    "20\n",
    "```"
   ]
  },
  {
   "cell_type": "code",
   "execution_count": null,
   "metadata": {},
   "outputs": [],
   "source": [
    "# python permite tribuição encadeada\n",
    "a = b = c = 20\n",
    "print(a, b, c)"
   ]
  },
  {
   "cell_type": "code",
   "execution_count": null,
   "metadata": {},
   "outputs": [],
   "source": [
    "x = y= z = 'Eu amo estudar Python!!'\n",
    "print(x, y, z)"
   ]
  },
  {
   "cell_type": "markdown",
   "metadata": {},
   "source": [
    "5.2 Tipos de variáveis em Python\n",
    "=======================\n",
    "<p style = \"text-align: justify;\">Em muitas linguagens de programação, as variáveis são digitadas estaticamente, isso significa que uma variável é inicialmente declarada como tendo um tipo de dado específico, e qualquer valor atribuído a ela durante seu tempo de vida deve sempre ter esse mesmo tipo.\n",
    "Variáveis em Python não estão sujeitas a essa restrição. No Python, uma variável pode ser atribuída a um valor de um tipo e, em seguida, reatribuída posteriormente a um valor de um tipo diferente:</p>"
   ]
  },
  {
   "cell_type": "code",
   "execution_count": null,
   "metadata": {},
   "outputs": [],
   "source": [
    "v = 124\n",
    "print(var)"
   ]
  },
  {
   "cell_type": "code",
   "execution_count": null,
   "metadata": {},
   "outputs": [],
   "source": [
    "v = ('v agora é uma string') \n",
    "print(v)"
   ]
  },
  {
   "cell_type": "markdown",
   "metadata": {},
   "source": [
    "5.3 Referências de objetos\n",
    "=====================\n",
    "<p style = \"text-align: justify;\">O que está realmente acontecendo quando você faz uma atribuição a uma variável? Esta é uma <b>questão importante em Python</b>, porque a resposta difere um pouco do que você encontraria em muitas outras linguagens de programação.\n",
    "\n",
    "O Python é uma linguagem orientada a objetos, e de fato, praticamente todos os itens de dados em um programa Python são `objetos de um tipo` ou `classes específicas`.</p>\n",
    "\n",
    "Considere este código:\n",
    "```python\n",
    ">>> print(300) \n",
    "300\n",
    "```\n",
    "\n",
    "Quando usamos `print(300)`, o intérprete faz o seguinte:\n",
    "+ Cria um objeto inteiro\n",
    "+ Associa o valor 300 ao objeto em questão\n",
    "+ Exibe no console\n",
    "    \n",
    "Você pode ver o tipo de objeto criado usando o função `type()` que faz parte do conjunto de funções chamadas de `funções internas do python:`\n",
    "```python\n",
    ">>> type(300) \n",
    "<classe 'int'>\n",
    "```\n",
    "Quando uma variável é criada no Python, esta variável passa a ser um nome simbólico, ou seja, é uma `referência` ou um `ponteiro` apontando para um `objeto`. Quando um `objeto` é `atribuído a uma variável`, você pode se referir ao objeto com esse `nome`, mas os dados em si ainda estão contidos no objeto.\n",
    "\n",
    "#### Um exemplo:\n",
    "A atribuição a baixo, cria um objeto inteiro com o valor 300 fazendo com que a variável `n` aponte para esse objeto.\n",
    "\n",
    "`n ---> 300`"
   ]
  },
  {
   "cell_type": "code",
   "execution_count": 9,
   "metadata": {},
   "outputs": [],
   "source": [
    "n = 300"
   ]
  },
  {
   "attachments": {},
   "cell_type": "markdown",
   "metadata": {},
   "source": [
    "<img src='variaveis1.jpeg' alt=Jonatã Paulino size=10x10 width=600 height=90 align='center'>"
   ]
  },
  {
   "cell_type": "code",
   "execution_count": 10,
   "metadata": {},
   "outputs": [
    {
     "data": {
      "text/plain": [
       "int"
      ]
     },
     "execution_count": 10,
     "metadata": {},
     "output_type": "execute_result"
    }
   ],
   "source": [
    "# Verificando o tipo de objeto\n",
    "type(n)"
   ]
  },
  {
   "cell_type": "markdown",
   "metadata": {},
   "source": [
    "#### 5.3.1 MULTIPLAS REFERÊNCIAS PARA UM ÚNICO OBJETO"
   ]
  },
  {
   "cell_type": "code",
   "execution_count": 11,
   "metadata": {},
   "outputs": [],
   "source": [
    "m = n"
   ]
  },
  {
   "cell_type": "code",
   "execution_count": 12,
   "metadata": {},
   "outputs": [
    {
     "data": {
      "text/plain": [
       "300"
      ]
     },
     "execution_count": 12,
     "metadata": {},
     "output_type": "execute_result"
    }
   ],
   "source": [
    "m"
   ]
  },
  {
   "cell_type": "markdown",
   "metadata": {},
   "source": [
    "> __Nota:__ Python não cria outro objeto, apenas cria um novo nome ou referência `m` que aponta para o  mesmo objeto de `n`."
   ]
  },
  {
   "attachments": {},
   "cell_type": "markdown",
   "metadata": {},
   "source": [
    "<img src='variaveis2.jpeg' alt=Jonatã Paulino size=10x10 width=800 height=90 align='center'>"
   ]
  },
  {
   "cell_type": "markdown",
   "metadata": {},
   "source": [
    "#### 5.3.2 Referência a objetos separados"
   ]
  },
  {
   "cell_type": "code",
   "execution_count": 13,
   "metadata": {},
   "outputs": [],
   "source": [
    "m = 400"
   ]
  },
  {
   "cell_type": "code",
   "execution_count": 14,
   "metadata": {},
   "outputs": [
    {
     "data": {
      "text/plain": [
       "400"
      ]
     },
     "execution_count": 14,
     "metadata": {},
     "output_type": "execute_result"
    }
   ],
   "source": [
    "m"
   ]
  },
  {
   "cell_type": "markdown",
   "metadata": {},
   "source": [
    "Agora o Python cria um novo objeto inteiro com o valor 400 e `m` se torna uma referência a ele."
   ]
  },
  {
   "attachments": {},
   "cell_type": "markdown",
   "metadata": {},
   "source": [
    "<img src='variaveis3.jpeg' alt=Jonatã Paulino size=10x10 width=700 height=90 align='center'>"
   ]
  },
  {
   "cell_type": "code",
   "execution_count": 1,
   "metadata": {},
   "outputs": [],
   "source": [
    "n = 'Python'"
   ]
  },
  {
   "cell_type": "code",
   "execution_count": 2,
   "metadata": {},
   "outputs": [
    {
     "data": {
      "text/plain": [
       "'Python'"
      ]
     },
     "execution_count": 2,
     "metadata": {},
     "output_type": "execute_result"
    }
   ],
   "source": [
    "n"
   ]
  },
  {
   "cell_type": "markdown",
   "metadata": {},
   "source": [
    "Agora o Python cria um objeto string com o valor \"foo\" e faz com que `n` possa referência-lo.\n",
    ">__Nota:__ Note que não há mais nem uma referência ao `objeto inteiro 300`, daqui em diante, não tem como acessá-lo"
   ]
  },
  {
   "cell_type": "code",
   "execution_count": 17,
   "metadata": {},
   "outputs": [
    {
     "data": {
      "text/plain": [
       "'foo'"
      ]
     },
     "execution_count": 17,
     "metadata": {},
     "output_type": "execute_result"
    }
   ],
   "source": [
    "n"
   ]
  },
  {
   "attachments": {},
   "cell_type": "markdown",
   "metadata": {},
   "source": [
    "<img src='variaveis4.jpeg' alt=Jonatã Paulino size=10x10 width=700 height=90 align='center'>"
   ]
  },
  {
   "cell_type": "markdown",
   "metadata": {},
   "source": [
    "5.4 Identidade do Objeto\n",
    "===================\n",
    "No Python, todo objeto criado recebe um número que o identifica exclusivamente na memória do computador, e quando dois objetos são criados, não terão o mesmo número de identificador durante qualquer período em que suas vidas se sobreponham. Quando a contagem de referência de um objeto cai para zero e é coletada como lixo, como aconteceu com o 300, objeto acima, seu número de identificação fica disponível e pode ser usado novamente.\n",
    "A função interna do Python `id()` retorna o identificador de inteiro de um objeto. Usando a função `id()`, você pode verificar se duas variáveis realmente apontam para o mesmo objeto:"
   ]
  },
  {
   "cell_type": "code",
   "execution_count": 18,
   "metadata": {},
   "outputs": [],
   "source": [
    "n = 300"
   ]
  },
  {
   "cell_type": "code",
   "execution_count": 19,
   "metadata": {},
   "outputs": [],
   "source": [
    "m = n"
   ]
  },
  {
   "cell_type": "code",
   "execution_count": 20,
   "metadata": {},
   "outputs": [
    {
     "data": {
      "text/plain": [
       "4531110320"
      ]
     },
     "execution_count": 20,
     "metadata": {},
     "output_type": "execute_result"
    }
   ],
   "source": [
    "id(n)"
   ]
  },
  {
   "cell_type": "code",
   "execution_count": 21,
   "metadata": {},
   "outputs": [
    {
     "data": {
      "text/plain": [
       "4531110320"
      ]
     },
     "execution_count": 21,
     "metadata": {},
     "output_type": "execute_result"
    }
   ],
   "source": [
    "id(m)"
   ]
  },
  {
   "cell_type": "code",
   "execution_count": 22,
   "metadata": {},
   "outputs": [],
   "source": [
    "m = 400"
   ]
  },
  {
   "cell_type": "code",
   "execution_count": 23,
   "metadata": {},
   "outputs": [
    {
     "data": {
      "text/plain": [
       "400"
      ]
     },
     "execution_count": 23,
     "metadata": {},
     "output_type": "execute_result"
    }
   ],
   "source": [
    "m"
   ]
  },
  {
   "cell_type": "markdown",
   "metadata": {},
   "source": [
    "Após a atribuição `m = n`, os dois passam a apontar para o mesmo objeto, confirmado pelo fato de que o `id(m)` e `id(n)`retornam o mesmo número de identificação na memória. Uma vez que `m` é transferido para o valor `400`, `m` e `n` apontam para diferentes objetos com diferentes identidades."
   ]
  },
  {
   "cell_type": "markdown",
   "metadata": {},
   "source": [
    "5.5 Nomes Variáveis\n",
    "================\n",
    "Os exemplos que foram vistos até agora, usaram nomes curtos e concisos de variáveis como `m` e `n`. Mas os nomes das variáveis podem ser mais detalhados, e de fato, é geralmente benéfico se forem, porque torna o objetivo da variável mais evidente.\n",
    "Oficialmente, os nomes de variáveis em Python podem ter qualquer comprimento e consistir em `letras maiúsculas e minúsculas (A-Z, a-z)`, `dígitos (0-9)` e o `caractere de sublinhado (_)`. Uma restrição adicional é que, embora um nome de variável possa conter númesos, o primeiro caractere de um nome de variável não pode ser um número.\n",
    "\n",
    ">Os itens listados a seguir são nomes de variáveis válidos:"
   ]
  },
  {
   "cell_type": "code",
   "execution_count": 32,
   "metadata": {},
   "outputs": [
    {
     "name": "stdout",
     "output_type": "stream",
     "text": [
      "Vinícius 13 Verdadeiro Julise\n"
     ]
    }
   ],
   "source": [
    "nome = 'Vinícius'\n",
    "idade = 13\n",
    "sexo_masculino = 'Verdadeiro'\n",
    "_nome2 = 'Julise'\n",
    "\n",
    "print(nome, idade, sexo_masculino, _nome2)"
   ]
  },
  {
   "cell_type": "markdown",
   "metadata": {},
   "source": [
    ">O item listado a seguir NÃ0 é um nome de variável válido:"
   ]
  },
  {
   "cell_type": "code",
   "execution_count": null,
   "metadata": {},
   "outputs": [],
   "source": [
    "7734 = Falso"
   ]
  },
  {
   "cell_type": "markdown",
   "metadata": {},
   "source": [
    "5.6 Palavras reservadas (palavras chave)\n",
    "================================"
   ]
  },
  {
   "cell_type": "markdown",
   "metadata": {},
   "source": [
    "## <font color='blue'>Estudaremos as Palavras reservadas no próximo notebook</font>"
   ]
  },
  {
   "cell_type": "markdown",
   "metadata": {},
   "source": [
    "### Obrigado e bons estudos"
   ]
  },
  {
   "cell_type": "code",
   "execution_count": null,
   "metadata": {},
   "outputs": [],
   "source": []
  }
 ],
 "metadata": {
  "anaconda-cloud": {},
  "kernelspec": {
   "display_name": "Python 3",
   "language": "python",
   "name": "python3"
  },
  "language_info": {
   "codemirror_mode": {
    "name": "ipython",
    "version": 3
   },
   "file_extension": ".py",
   "mimetype": "text/x-python",
   "name": "python",
   "nbconvert_exporter": "python",
   "pygments_lexer": "ipython3",
   "version": "3.7.3"
  }
 },
 "nbformat": 4,
 "nbformat_minor": 1
}
