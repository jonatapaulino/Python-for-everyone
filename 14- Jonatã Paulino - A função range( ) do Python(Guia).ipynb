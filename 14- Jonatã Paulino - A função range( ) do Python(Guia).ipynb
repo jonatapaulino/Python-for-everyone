{
 "cells": [
  {
   "cell_type": "markdown",
   "metadata": {},
   "source": [
    "# <font color='green'>Jonatã Paulino - Python Fácil</font>\n",
    "<img src='pimagem5t.png' alt=Jonatã Paulino size=10x10 width=90 height=90 align='left'>"
   ]
  },
  {
   "cell_type": "markdown",
   "metadata": {},
   "source": [
    "16- A função `range( )` do Python(Guia)\n",
    "==========================\n",
    "* __Índice__\n",
    "* A função range () do History of Python\n",
    "* Vamos laçar\n",
    "    * Básico do intervalo Python( )\n",
    "    * Incrementando com intervalo( )\n",
    "    * Decrementando com range( )\n",
    "    * Exemplos de uso avançado para a função range( ) do Python\n",
    "* Flutuadores e intervalo ( )\n",
    "    * Uma palavra em carros alegóricos\n",
    "    * Usando range( ) com NumPy\n",
    "* Vá em frente e faça um loop"
   ]
  },
  {
   "cell_type": "code",
   "execution_count": null,
   "metadata": {},
   "outputs": [],
   "source": []
  },
  {
   "cell_type": "markdown",
   "metadata": {},
   "source": [
    "### Obrigado e bons estudos"
   ]
  },
  {
   "cell_type": "code",
   "execution_count": null,
   "metadata": {},
   "outputs": [],
   "source": []
  }
 ],
 "metadata": {
  "anaconda-cloud": {},
  "kernelspec": {
   "display_name": "Python 3",
   "language": "python",
   "name": "python3"
  },
  "language_info": {
   "codemirror_mode": {
    "name": "ipython",
    "version": 3
   },
   "file_extension": ".py",
   "mimetype": "text/x-python",
   "name": "python",
   "nbconvert_exporter": "python",
   "pygments_lexer": "ipython3",
   "version": "3.7.3"
  }
 },
 "nbformat": 4,
 "nbformat_minor": 1
}
