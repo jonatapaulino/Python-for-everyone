{
 "cells": [
  {
   "cell_type": "markdown",
   "metadata": {},
   "source": [
    "# <font color='green'>Jonatã Paulino - Python Fácil</font>\n",
    "<img src='pimagem5t.png' alt=Jonatã Paulino size=4x4 width=90 height=90 align='left'>"
   ]
  },
  {
   "cell_type": "markdown",
   "metadata": {},
   "source": [
    "3- Interagindo com o Python\n",
    "=====================\n",
    "+ __Índice__\n",
    "+ Olá Mundo!\n",
    "+ Usando o Interpretador Python Interativamente\n",
    "    + Iniciando o Interpretador\n",
    "    + Executando o Código Python\n",
    "    + Saindo do Interpretador\n",
    "+ Executando um Script Python da Linha de Comando\n",
    "+ Interagindo com o Python por meio de um IDE\n",
    "    + IDLE\n",
    "    + Spyder\n",
    "    + Jupyter Notebook\n",
    "+ Conclusão"
   ]
  },
  {
   "cell_type": "markdown",
   "metadata": {},
   "source": [
    "Nesse ponto, você deve ter um interpretador do Python 3 em funcionamento. Se você precisar de ajuda para configurar o Python corretamente, consulte a seção anterior deste nosso estudo.\n",
    "\n",
    "**Aqui está o que você aprenderá neste notebook:**\n",
    "Agora que você tem uma configuração Python funcionando, você verá como executar código em Python e executar programas em Python. No final, você será capaz de:\n",
    "\n",
    "* Usar o Python interativamente digitando código diretamente no interpretador\n",
    "* Executar código contido em um arquivo de script da linha de comando\n",
    "* Trabalhar em um Ambiente de Desenvolvimento Integrado (IDE) para Python\n",
    "\n",
    "É hora de escrever algum código Python!"
   ]
  },
  {
   "cell_type": "markdown",
   "metadata": {},
   "source": [
    "Olá Mundo!\n",
    "=========\n",
    "Há um costume de longa data no campo da programação de computadores que o primeiro código escrito em uma linguagem de programação recém-instalada é um programa curto que simplesmente exibe a string *Hello, World!* no console.\n",
    "\n",
    "> **Nota:** Esta é uma tradição consagrada através dos tempos desde de a decada de 70. Você corre o sério risco de perturbar todo `qi` do universo se não obedecer a esse costume e nunca mais aprenderá a programar.\n",
    "\n",
    "O código mais simples do Python 3 a ser exibido Hello, World! é:\n",
    "```python\n",
    "print (\"Hello, World!\")\n",
    "```"
   ]
  },
  {
   "cell_type": "code",
   "execution_count": null,
   "metadata": {},
   "outputs": [],
   "source": [
    "# Vamos fazer?\n"
   ]
  },
  {
   "cell_type": "markdown",
   "metadata": {},
   "source": [
    "Usando o interpretador Python interativamente\n",
    "=======================================\n",
    "* No windows abra o prompt de comando (cmd)\n",
    "* No Linux ou no Mac abra o terminal\n",
    "\n",
    "Quando a janela do prompt de comando ou o terminal estiver aberta, se os caminhos tiverem sido configurados corretamente pelo processo de instalação do Python, você poderá digitar apenas `python`, então, você deve ver uma resposta do interpretador do Python em ação.\n",
    "\n",
    ">__Nota técnica:__ Se você está em um sistema operacional Linux, provavelmente mesmo depois de ter instalado o Python 3, pode ser que tanto o Python 2 quanto o Python 3 estejam instalados. Nesse caso, é possível que ao digitar `python` para abrir o interpretador, seu sistema inicie o Python 2. Para iniciar o Python 3 você precisa digigar `python3` no terminal.\n",
    "Se você instalou uma versão mais recente do Python 3 do que aquela que foi incluída na distribuição, talvez seja necessário especificar a versão que você instalou, neste caso, digitando `python3`.\n",
    "\n",
    "`Vamos executar um código simples no terminal.`"
   ]
  },
  {
   "cell_type": "markdown",
   "metadata": {},
   "source": [
    "Executando um Script Python na Linha de Comando\n",
    "=========================================\n",
    "Inserir comandos no interpretador Python de forma interativa é ótimo para testar e explorar recursos ou funcionalidades rapidamente.\n",
    "Eventualmente, ao criar aplicativos mais complexos, você desenvolverá corpos de código mais longos, e neste caso, você terá que editar e executar repetidamente seu código.\n",
    "\n",
    "Para não ter que digitar o código no interpretador repetidamente, você pode criar um arquivo de script.\n",
    "\n",
    "Um script Python é um conjunto reutilizável de código, é essencialmente um programa em Python - uma seqüência de instruções em Python - contido em um arquivo. Você pode executar o programa especificando o nome do arquivo de script para o interpretador.\n",
    "\n",
    "Scripts Python são apenas texto simples, então você pode editá-los com qualquer editor de texto. \n",
    "\n",
    "Se você tem um editor favorito que opera em arquivos de texto, deve usá-lo, se você não tiver, os seguintes editores normalmente são instalados nativamente com seus respectivos sistemas operacionais:\n",
    "    * Windows: bloco de notas\n",
    "    * Unix/Linux: vi ou vim\n",
    "    * macOS: TextEdit\n",
    "Usando o editor que você escolheu, crie um arquivo de script chamado hello.py contendo o seguinte código:\n",
    "```python\n",
    "print(\"Olá, mundo!\")\n",
    "```\n",
    "Agora salve o arquivo em um diretório que você escolheu para salvar.\n",
    "Inicie um prompt de comando ou uma janela de terminal. Se o diretório de trabalho atual é o mesmo que o local em que você salvou o arquivo, você pode simplesmente especificar o nome do arquivo como um argumento de linha de comando para o interpretador Python da seguinte maneira:`python hello.py`\n",
    "\n",
    "No Windows, o prompt ficaria da seguinte maneira:\n",
    "\n",
    "`C:\\Users\\jonata\\Documents\\test> python hello.py`"
   ]
  },
  {
   "cell_type": "markdown",
   "metadata": {},
   "source": [
    "Interagindo com o Python por meio de uma IDE\n",
    "====================================\n",
    "<br>Um Ambiente de Desenvolvimento Integrado(IDE) é um aplicativo que ajuda no desenvolvimento de códigos maiores. Os IDEs geralmente fornecem diversos recursos e facilidade ao digitar o código, bem como um editor com o qual você pode criar e modificar o código para enviar ao interpretador para execução.</br>\n",
    "\n",
    "__Uma IDE oferece algumas vantágens como:__\n",
    "\n",
    "- __Realce de sintaxe:__ As IDEs geralmente colorem diferentes elementos de sintaxe no código para facilitar a leitura.\n",
    "\n",
    "\n",
    "- __Ajuda sensível ao contexto:__ As IDEs avançadas podem exibir informações relacionadas a partir da documentação do Python ou até mesmo sugerindo sujestões para tipos comuns de erros de código.\n",
    "\n",
    "\n",
    "- __Função auto-completar:__ Algumas IDEs podem completar partes do código parcialmente digitados(como nomes de função) para você - um ótimo recurso de economia de tempo e conveniência. Algumas IDEs que não contam com o recurso de auto-complete, são passíveis de instalação de plugins para este fim.\n",
    "\n",
    "\n",
    "- __Depuração:__ Um depurador permite que você execute o código passo-a-passo e inspecione os dados do programa à medida que avança. Isso é inestimável quando você está tentando determinar por que um programa está se comportando incorretamente, como inevitavelmente acontecerá na sua jornada."
   ]
  },
  {
   "cell_type": "markdown",
   "metadata": {},
   "source": [
    "IDLE\n",
    "====\n",
    "A grande maioria das instalações do Python contém um IDE um pouco mais simples chamada de IDLE. O procedimento para executar o IDLE varia de um sistema operacional para outro."
   ]
  },
  {
   "cell_type": "markdown",
   "metadata": {},
   "source": [
    "Spyder\n",
    "====="
   ]
  },
  {
   "cell_type": "markdown",
   "metadata": {},
   "source": [
    "Jupyter Notebook\n",
    "=============="
   ]
  },
  {
   "cell_type": "markdown",
   "metadata": {},
   "source": [
    "Conclusão\n",
    "=========\n",
    "Aplicativos maiores normalmente estão contidos em arquivos de script que são passados para o interpretador Python para execução.\n",
    "\n",
    "Mas uma das vantagens de uma linguagem interpretada é que você pode executar o interpretador e executar comandos de forma interativa. O Python é fácil de usar dessa maneira, e é uma ótima maneira de aprender como a linguagem funciona.\n",
    "\n",
    "Optamos por executar nossos comandos no jupyter notebook, porém, se você optar por usar o IDLE ou algum outro IDE disponível, os exemplos ainda funcionarão bem."
   ]
  },
  {
   "cell_type": "markdown",
   "metadata": {},
   "source": [
    "### Obrigado e bons estudos"
   ]
  },
  {
   "cell_type": "code",
   "execution_count": null,
   "metadata": {},
   "outputs": [],
   "source": []
  }
 ],
 "metadata": {
  "anaconda-cloud": {},
  "kernelspec": {
   "display_name": "Python 3",
   "language": "python",
   "name": "python3"
  },
  "language_info": {
   "codemirror_mode": {
    "name": "ipython",
    "version": 3
   },
   "file_extension": ".py",
   "mimetype": "text/x-python",
   "name": "python",
   "nbconvert_exporter": "python",
   "pygments_lexer": "ipython3",
   "version": "3.7.3"
  }
 },
 "nbformat": 4,
 "nbformat_minor": 1
}
