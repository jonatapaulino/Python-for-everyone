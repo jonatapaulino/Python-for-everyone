{
 "cells": [
  {
   "cell_type": "markdown",
   "metadata": {},
   "source": [
    "# <font color='green'>Jonatã Paulino - Python for everyone</font>\n",
    "<img src='pimagem5t.png' alt=Jonatã Paulino size=10x10 width=90 height=90 align='left'>"
   ]
  },
  {
   "cell_type": "markdown",
   "metadata": {},
   "source": [
    "12- Declarações Condicionais em Python\n",
    "==============================\n",
    "* __Índice__\n",
    "* 12.1 Introdução à declaração if\n",
    "    * 12.1.1 Agrupamento de declarações: recuo e blocos\n",
    "* 12.2 Python: é tudo sobre a indentação\n",
    "* 12.3 O else e as cláusulas elif\n",
    "* 12.4 Declaração if em uma linha\n",
    "* 12.5 A declaração pass\n",
    "* Conclusão"
   ]
  },
  {
   "cell_type": "markdown",
   "metadata": {},
   "source": [
    "12.1 Introdução à instrução if\n",
    "=========================    "
   ]
  },
  {
   "cell_type": "markdown",
   "metadata": {},
   "source": [
    "De tudo o que estudamos até agora, podemos dizer que já sabemos algumas coisas da linguagem Python, porém, o que vimos até aqui foram `excuções sequenciais`, onde as instruções são executadas uma após a outra exatamente na ordem especificada. \n",
    "\n",
    "É Importante salientar, que se formos criar prgramas só com esse tipo de instruções, nossos programas não irão ser assim tão robustos e eficiêntes.\n",
    "\n",
    "Frequentemente, um programa precisa `pular` algumas instruções, `executar repetidamente` uma série de instruções ou `escolher entre conjuntos` alternativos de instruções para executar. É aí que entram as **estruturas de controle**. Uma `estrutura de controle` direciona a ordem de execução das instruções em um programa.\n",
    "\n",
    "Em Python, a instrução `if` nos dá a opção  de executar uma `decisão`. Essa instrução, permite a execução `condicional` de uma `declaração ou grupo de instruções` com base no `valor de uma expressão`. \n",
    "\n",
    "Vamos analisar o tipo mais básico da instrução `if`.\n",
    "\n",
    "**Sintax**\n",
    "```python\n",
    "if <expressão>:\n",
    "    <declaração>\n",
    "---------------------\n",
    "if <expressão>:\n",
    "    bloco verdadeiro\n",
    "```"
   ]
  },
  {
   "cell_type": "code",
   "execution_count": 8,
   "metadata": {},
   "outputs": [
    {
     "name": "stdout",
     "output_type": "stream",
     "text": [
      "Sim\n"
     ]
    }
   ],
   "source": [
    "x = 5\n",
    "y = 10\n",
    "\n",
    "if x < y:\n",
    "    print('Sim')"
   ]
  },
  {
   "cell_type": "code",
   "execution_count": 12,
   "metadata": {},
   "outputs": [
    {
     "name": "stdout",
     "output_type": "stream",
     "text": [
      "Sim\n"
     ]
    }
   ],
   "source": [
    "x = 5\n",
    "y = 10\n",
    "\n",
    "if y > x:\n",
    "    print('Sim')"
   ]
  },
  {
   "cell_type": "code",
   "execution_count": 15,
   "metadata": {},
   "outputs": [
    {
     "name": "stdout",
     "output_type": "stream",
     "text": [
      "sim\n"
     ]
    }
   ],
   "source": [
    "if x and y:\n",
    "    print('sim')"
   ]
  },
  {
   "cell_type": "code",
   "execution_count": 17,
   "metadata": {},
   "outputs": [
    {
     "name": "stdout",
     "output_type": "stream",
     "text": [
      "sim\n"
     ]
    }
   ],
   "source": [
    "if x or y:\n",
    "    print('sim')"
   ]
  },
  {
   "cell_type": "code",
   "execution_count": 18,
   "metadata": {},
   "outputs": [
    {
     "name": "stdout",
     "output_type": "stream",
     "text": [
      "sim\n"
     ]
    }
   ],
   "source": [
    "if 'aul' in 'grault':\n",
    "    print('sim')"
   ]
  },
  {
   "cell_type": "markdown",
   "metadata": {},
   "source": [
    "## 12.1.1 Agrupamento de instruções: Recuo e Blocos"
   ]
  },
  {
   "cell_type": "markdown",
   "metadata": {},
   "source": [
    "Até aqui tudo tranquilo. Vimos as instruções simples, porém, digamos que queiramos avaliar uma `condição` e depois tomar mais uma decisão relacionada ao problema?\n",
    "\n",
    "- Se o tempo estiver bom, então eu vou:\n",
    "    - Cortar a grama\n",
    "    - Lavar a roupa\n",
    "    - Levar o cachorro para passear\n",
    "- `(Se o tempo não estiver bom, então não farei nada disso.)`\n",
    "\n",
    "Em nossos exemplos mostrados acima, cada `if <expressão>:` foi seguido por apenas `uma única <declaração>`, precisamos de uma  maneira de dizer ao `\"Se <expressão>` for verdade, `faça todas as seguintes coisas\"`.\n",
    "\n",
    "A abordagem usual adotada pela maioria das linguagens de programação é definir uma sintax que agrupe várias instruções em uma `instrução` ou `bloco composto`. `Um bloco` é considerado sintaticamente como uma única entidade. Quando construimos uma instrução `if` e `<expressão>` é verdadeira, todas as instruções no bloco são executadas. Se `<expressão>` for falsa, nenhum deles será.\n",
    "\n",
    "Praticamente todas as linguagens de programação fornecem a capacidade de definir blocos, mas nem todas fornecem isso da mesma maneira, cada uma delas tem suas regras."
   ]
  },
  {
   "cell_type": "markdown",
   "metadata": {},
   "source": [
    "12.2 Python: é tudo sobre a indentação\n",
    "=============================="
   ]
  },
  {
   "cell_type": "markdown",
   "metadata": {},
   "source": [
    "Na estrutura de um programa Python o `recuo` tem um significado especial e muito importante. O `recuo é usado para definir instruções` ou `blocos`. Em um programa Python, as instruções contíguas que são `recuadas para o mesmo nível` são consideradas `parte do mesmo bloco`, assim, uma instrução `if composta` em Python tem a seguinte sintax:\n",
    "\n",
    "```Python\n",
    "if <expressão>: \n",
    "    <declaração> \n",
    "    <declaração> \n",
    "    ... \n",
    "    <declaração> \n",
    "<próxima_declaração>\n",
    "```\n",
    "\n",
    "Todas as instruções no nível de `recuo correspondente` são consideradas `parte do mesmo bloco`. O bloco inteiro é executado se `<expressão>` for verdadeira, ou não será executado se `<expressão>` for falsa. De qualquer maneira, a execução prossegue.\n",
    "\n",
    "No nosso exemplo notamos que não há nem um `sinal que denote o fim do bloco`, pois no Python, o final do bloco é indicado pela linha recuada e que fica na direção do início do bloco, neste caso, na instrução `if`.\n",
    "\n",
    "**Vejamos um exemplo**"
   ]
  },
  {
   "cell_type": "code",
   "execution_count": null,
   "metadata": {},
   "outputs": [],
   "source": [
    "if 'pera'  in  ['maçã', 'banana', 'pera']: \n",
    "    print ('Expressão verdadeira') \n",
    "    print ('Instrução de execução') \n",
    "    print ('...') \n",
    "    print ('Feito') \n",
    "print ('Depois da instrução condicional')"
   ]
  },
  {
   "cell_type": "code",
   "execution_count": null,
   "metadata": {},
   "outputs": [],
   "source": [
    "if 'manga'  in  ['maçã', 'banana', 'pera']: \n",
    "    print ('Expressão verdadeira') \n",
    "    print ('Instrução de execução') \n",
    "    print ('...') \n",
    "    print ('Feito') \n",
    "print ('Depois da instrução condicional')"
   ]
  },
  {
   "cell_type": "markdown",
   "metadata": {},
   "source": [
    "Os blocos podem ser aninhados em profundidade arbitrária. Cada indentação define um novo bloco e cada entrada de identação termina o bloco anterior. A estrutura resultante é direta, consistente e intuitiva.\n",
    "\n",
    "**Vejamos um exemplo de uma estrutura mais complexa:**"
   ]
  },
  {
   "cell_type": "code",
   "execution_count": null,
   "metadata": {},
   "outputs": [],
   "source": [
    "if 'pera' in ['maçã', 'banana', 'pera']:\n",
    "    print('Condição externa é verdadeira')\n",
    "    \n",
    "    if 10 > 20:                            \n",
    "        print ('Condição interna 1')         \n",
    "\n",
    "    print ('Entre condições internas')\n",
    "\n",
    "    if 10 < 20:\n",
    "        print ('Condição interna 2 ')\n",
    "\n",
    "    print('Fim da condição externa')\n",
    "print('Depois da condição externa') "
   ]
  },
  {
   "cell_type": "markdown",
   "metadata": {},
   "source": [
    "12.3 O else e as cláusulas elif\n",
    "======================="
   ]
  },
  {
   "cell_type": "markdown",
   "metadata": {},
   "source": [
    "Agora sabemos como usar uma instrução `if` para executar `condições` com uma `única instrução` ou um `bloco de várias instruções`. É hora de descobrir o que mais podemos fazer.\n",
    "\n",
    "As vezes, desejamos avaliar uma condição e usar um caminho, `se for verdadeiro`, porém, é necessário especificar um caminho alternativo, `se não for verdadeiro`. Isso é realizado com uma clausula `else`, pois nem sempre os nossos programas irão ser tão simples:\n",
    "\n",
    "**Sintax:**\n",
    "```Python\n",
    "if <expressão> : \n",
    "   <declaração(s)> \n",
    "else: \n",
    "   <declaração(s)>\n",
    "```"
   ]
  },
  {
   "cell_type": "code",
   "execution_count": null,
   "metadata": {},
   "outputs": [],
   "source": [
    "x = 70\n",
    "\n",
    "if x < 50:\n",
    "    print('(primeiro bloco)')\n",
    "    print('x é menor')\n",
    "else:\n",
    "    print('(segundo bloco)')\n",
    "    print('x é maior')  "
   ]
  },
  {
   "cell_type": "markdown",
   "metadata": {},
   "source": [
    "Existe uma sintaxe para a execução de ramificações com base em várias alternativas. Para fazermos isso, usaremos uma ou mais cláusulas `elif`, na qual ela substitui um par de `else` `if`, porém sem criar outro nível de extrutura, evitando problemas desnecessários de deslocamentos a direita. O Python avalia cada uma `<expressão>` por vez e executa o conjunto correspondente ao primeiro que for `verdadeiro`. Se nenhuma das expressões for verdadeira, e uma cláusula `else` for especificada, então seu conjunto é executado:\n",
    "Em outras linguagens quando há diversas decisões a serem tomadas - quando `if` é usado - , a cláusula `else` dá a opção de desvios para outras opções, já no Python é oferecido a cláusula `elif`, que pode ser usada no lugar do `else` quando há `várias` situações em relação a decisões a serem tomadas.\n",
    "\n",
    "**Sinatax:**\n",
    "```python\n",
    "if <expressão>: \n",
    "    <declaração(s)> \n",
    "elif <expr>: \n",
    "    <declaração(s)> \n",
    "elif <expressão>: \n",
    "    <declaração(s)> \n",
    "    ... \n",
    "else: \n",
    "    <declaração(s)>\n",
    "```"
   ]
  },
  {
   "cell_type": "markdown",
   "metadata": {},
   "source": [
    "**Vejamos um exemplo**"
   ]
  },
  {
   "cell_type": "code",
   "execution_count": 19,
   "metadata": {},
   "outputs": [
    {
     "name": "stdout",
     "output_type": "stream",
     "text": [
      "Olá Julise\n"
     ]
    }
   ],
   "source": [
    "nome = 'Julise'\n",
    "if nome == 'Fred':\n",
    "    print('Olá Fred')\n",
    "elif nome == 'Julise':\n",
    "    print('Olá Julise')\n",
    "elif nome == 'João':\n",
    "    print('Olá João')\n",
    "elif nome == 'Vini':\n",
    "    print('Olá Vini')\n",
    "else:\n",
    "    print('Eu não conheço você')"
   ]
  },
  {
   "cell_type": "code",
   "execution_count": 30,
   "metadata": {},
   "outputs": [
    {
     "name": "stdout",
     "output_type": "stream",
     "text": [
      "Digite a categoria do produto: 4\n",
      "O preço do produto 4 é R$: 26\n"
     ]
    }
   ],
   "source": [
    "categoria = int(input('Digite a categoria do produto: '))\n",
    "if categoria == 1:\n",
    "    preco = 10\n",
    "elif categoria == 2:\n",
    "    preco = 18\n",
    "elif categoria == 3:\n",
    "    preco = 28\n",
    "elif categoria == 4:\n",
    "    preco = 26\n",
    "elif categoria == 5:\n",
    "    preco = 31\n",
    "else: \n",
    "    print('Categoria inválida, digite categoria de 1 a 5')\n",
    "    preco = 0\n",
    "print(f'O preço do produto {categoria} é R$: {preco}')"
   ]
  },
  {
   "cell_type": "markdown",
   "metadata": {},
   "source": [
    "12.4 Declaração if em uma linha\n",
    "========================"
   ]
  },
  {
   "cell_type": "markdown",
   "metadata": {},
   "source": [
    "Geralmente nós escrevemos nossos códigos com uma expressão `if <expressão>` em uma linha, e `<declaração>` recuada na linha seguinte.\n",
    "```python\n",
    "if <expressão>:\n",
    "    <declaração\n",
    "```\n",
    "O Python oferece uma maneira de escever uma declaração `if` em uma só linha.\n",
    "\n",
    "**Exemplo 1**\n",
    "```python\n",
    "if <expressão> : <declaração>\n",
    "```  \n",
    "**Exemplo 2**\n",
    "```python\n",
    "if <expressão> : <declaração1>; <declaração2>; ... <declaraçãon>\n",
    "``` "
   ]
  },
  {
   "cell_type": "code",
   "execution_count": 31,
   "metadata": {},
   "outputs": [
    {
     "name": "stdout",
     "output_type": "stream",
     "text": [
      "1\n",
      "2\n",
      "3\n"
     ]
    }
   ],
   "source": [
    "if 'y' in 'Python': print('1'); print('2'); print('3')"
   ]
  },
  {
   "cell_type": "code",
   "execution_count": 32,
   "metadata": {},
   "outputs": [],
   "source": [
    "if 'z' in 'Python': print('1');  print('2'); print('3')"
   ]
  },
  {
   "cell_type": "code",
   "execution_count": 33,
   "metadata": {},
   "outputs": [
    {
     "name": "stdout",
     "output_type": "stream",
     "text": [
      "legal\n",
      "Ruim\n"
     ]
    }
   ],
   "source": [
    "x  =  2 \n",
    "if x == 1 : print('Bom'); print('Mal'); print('Mau') \n",
    "elif x == 2 : print('legal'); print('Ruim') \n",
    "else : print('Preto'); print('Branco')"
   ]
  },
  {
   "cell_type": "code",
   "execution_count": 34,
   "metadata": {},
   "outputs": [
    {
     "name": "stdout",
     "output_type": "stream",
     "text": [
      "Preto\n",
      "Branco\n"
     ]
    }
   ],
   "source": [
    "x = 3 \n",
    "if x == 1 : print('Bom'); print('Mal'); print('Mau') \n",
    "elif x == 2 : print('legal'); print('Ruim') \n",
    "else : print('Preto'); print('Branco')"
   ]
  },
  {
   "cell_type": "markdown",
   "metadata": {},
   "source": [
    "**Observação** - Embora tenhamos esta alternativa de escrever nosso código, ela não é muito aconselhável de usar, pelo fato de levar a pouca legibilidade do código, principalmente para declaração `if's`complexas. A **PEP8** não recomenda este tipo de escrita."
   ]
  },
  {
   "cell_type": "code",
   "execution_count": 39,
   "metadata": {},
   "outputs": [
    {
     "name": "stdout",
     "output_type": "stream",
     "text": [
      "Preto\n",
      "Branco\n"
     ]
    }
   ],
   "source": [
    "x  =  3 \n",
    "\n",
    "if x == 1: \n",
    "    print('Bom') \n",
    "    print('Mal') \n",
    "    print('Mau') \n",
    "elif x == 2:\n",
    "    print('Legal') \n",
    "    print('Ruim') \n",
    "else: \n",
    "    print('Preto') \n",
    "    print('Branco')"
   ]
  },
  {
   "cell_type": "markdown",
   "metadata": {},
   "source": [
    "12.5 A declaração do pass\n",
    "==========================="
   ]
  },
  {
   "cell_type": "markdown",
   "metadata": {},
   "source": [
    "Em linguagens onde os delimitadores são usados para definir blocos, como as chaves em Perl e C, delimitadores vazios podem ser usados para definir um `stub` de código. Por exemplo, o código Perl ou C legítimo é o seguinte:\n",
    "\n",
    "**Isso não é Python**\n",
    "```c\n",
    "if (x)\n",
    "{\n",
    "}\n",
    "```\n",
    "Neste caso as chaves vazias definem um bloco vazio, e em`Perl ou C` avaliarão a expressão `x` mesmo que `seja verdade`, e não faça nada.\n",
    "Como o Python usa `recuo` em vez de delimitadores, `não é possível especificar um bloco vazio`. Se introduzirmos uma instrução `if` __`if <expressao>:`__, algo deve vir depois dela, na mesma linha ou recuado na linha seguinte.\n",
    "\n",
    "A instruçào `pass` do Python resolve esse problema. Não muda o comportamento do programa. É usado como espaço reservado para manter o intérprete satisfeito em qualquer situação em que uma declaração seja sintaticamente necessária, mas você não deseja fazer nada:\n",
    "\n",
    "**Isso é Python e não vai rodar**\n",
    "```Python\n",
    "if True:\n",
    "    \n",
    "print('sim')\n",
    "```\n",
    "\n",
    "**Isso é Python e vai rodar**\n",
    "```Python\n",
    "if True:\n",
    "    pass\n",
    "print('sim')\n",
    "```"
   ]
  },
  {
   "cell_type": "code",
   "execution_count": null,
   "metadata": {},
   "outputs": [],
   "source": []
  },
  {
   "cell_type": "markdown",
   "metadata": {},
   "source": [
    "Conclusão\n",
    "========\n",
    "Com a conclusão deste nosso estudo, já começamos a escrever código Python que vai além da execução sequencial simples:\n",
    "\n",
    "- Estudamos o conceito de estruturas de controle. Estas são instruções compostas que alteram o fluxo de controle do programa, ou seja, a ordem de execução das declarações do programa.\n",
    "- Aprendemos como agrupar instruções individuais em um bloco.\n",
    "- Aprendemos nossa primeira estrutura de controle, a instrução if, que possibilita executar condicionalmente uma instrução ou um bloco com base na avaliação dos dados do programa.\n",
    "\n",
    "Todos esses conceitos são cruciais para desenvolver códigos Python mais complexos."
   ]
  },
  {
   "cell_type": "markdown",
   "metadata": {},
   "source": [
    "### Obrigado e bons estudos"
   ]
  },
  {
   "cell_type": "code",
   "execution_count": null,
   "metadata": {},
   "outputs": [],
   "source": []
  }
 ],
 "metadata": {
  "anaconda-cloud": {},
  "kernelspec": {
   "display_name": "Python 3",
   "language": "python",
   "name": "python3"
  },
  "language_info": {
   "codemirror_mode": {
    "name": "ipython",
    "version": 3
   },
   "file_extension": ".py",
   "mimetype": "text/x-python",
   "name": "python",
   "nbconvert_exporter": "python",
   "pygments_lexer": "ipython3",
   "version": "3.7.3"
  }
 },
 "nbformat": 4,
 "nbformat_minor": 1
}
