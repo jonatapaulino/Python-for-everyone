{
 "cells": [
  {
   "cell_type": "markdown",
   "metadata": {},
   "source": [
    "# <font color='green'>Jonatã Paulino - Python Fácil</font>\n",
    "<img src='pimagem5t.png' alt=Jonatã Paulino size=4x4 width=90 height=90 align='left'>"
   ]
  },
  {
   "cell_type": "markdown",
   "metadata": {},
   "source": [
    "## Variáveis e Operadores em Python"
   ]
  },
  {
   "cell_type": "markdown",
   "metadata": {},
   "source": [
    "**AVISO!!!** - Para executar o código em uma célula, pressione as teclas **`shift+enter`** ou pressione o `botão` **`Run`** no menu superior"
   ]
  },
  {
   "cell_type": "markdown",
   "metadata": {},
   "source": [
    "Python é uma linguagem dinamicamente tipada. Isso quer dizer que não é necessário tipar as variáveis para usa-las. Por um processo chamado `binding`, atribui-se um objeto a um nome e este nome incorpora o `tipo de objeto`. Assim para atribuirmos o `2`, ao `valor1`, só precisamos fazer `valor1 = 2`, e `valor1` será automaticamente tipado por python como inteiro.<p>\n",
    "Para saber qual o tipo de determinado `objeto`, usamos a função `type(objeto)`, que retorna o tipo do `objeto(objeto)`"
   ]
  },
  {
   "cell_type": "code",
   "execution_count": null,
   "metadata": {},
   "outputs": [],
   "source": [
    "# Exemplo\n",
    "valor1 = 2"
   ]
  },
  {
   "cell_type": "code",
   "execution_count": null,
   "metadata": {},
   "outputs": [],
   "source": [
    "valor1"
   ]
  },
  {
   "cell_type": "code",
   "execution_count": null,
   "metadata": {},
   "outputs": [],
   "source": [
    "# Imprimindo o valor da variável\n",
    "var_um = 1"
   ]
  },
  {
   "cell_type": "code",
   "execution_count": null,
   "metadata": {},
   "outputs": [],
   "source": [
    "# Imprimindo o valor da variável\n",
    "print(var_um)"
   ]
  },
  {
   "cell_type": "code",
   "execution_count": null,
   "metadata": {},
   "outputs": [],
   "source": [
    "# Não podemos utilizar uma variável que não foi definida. Veja a mensagem de erro.\n",
    "my_var"
   ]
  },
  {
   "cell_type": "code",
   "execution_count": null,
   "metadata": {},
   "outputs": [],
   "source": [
    "var_dois = 2"
   ]
  },
  {
   "cell_type": "code",
   "execution_count": null,
   "metadata": {},
   "outputs": [],
   "source": [
    "var_dois"
   ]
  },
  {
   "cell_type": "code",
   "execution_count": null,
   "metadata": {},
   "outputs": [],
   "source": [
    "type(var_dois)"
   ]
  },
  {
   "cell_type": "code",
   "execution_count": null,
   "metadata": {},
   "outputs": [],
   "source": [
    "var_tres = 9.5"
   ]
  },
  {
   "cell_type": "code",
   "execution_count": null,
   "metadata": {},
   "outputs": [],
   "source": [
    "type(var_tres)"
   ]
  },
  {
   "cell_type": "code",
   "execution_count": null,
   "metadata": {},
   "outputs": [],
   "source": [
    "x = 1"
   ]
  },
  {
   "cell_type": "code",
   "execution_count": null,
   "metadata": {},
   "outputs": [],
   "source": [
    "x"
   ]
  },
  {
   "cell_type": "markdown",
   "metadata": {},
   "source": [
    "## Operadores Relacionais no Python\n",
    "\n",
    "<!---| Operador|Operação|\n",
    "|------|------|\n",
    "|==|Igual|\n",
    "|>|Maior que|\n",
    "|<|Menor que|\n",
    "|!=|Diferente|\n",
    "| >=|Maior ou Igual|\n",
    "| <=|Menor ou Igual|--->\n",
    "\n",
    "\n",
    "<table class=\"table\">\n",
    "  <thead class=\"thead-dark\">       \n",
    "    <tr>\n",
    "        <th scope=\"col\" style=\"text-align: center;\">#</th>\n",
    "        <th scope=\"col\" style=\"text-align: center;\">Operador</th>\n",
    "        <th scope=\"col\" style=\"text-align: center;\">Operação</th>\n",
    "    </tr>\n",
    "  </thead>\n",
    "  <tbody>\n",
    "    <tr>\n",
    "        <th scope=\"row\" style=\"text-align: center;\">1</th>\n",
    "        <td style=\"text-align: center;\">==</td>\n",
    "        <td style=\"text-align: center;\">Igual</td>\n",
    "    </tr>\n",
    "    <tr>\n",
    "        <th scope=\"row\" style=\"text-align: center;\">2</th>\n",
    "        <td style=\"text-align: center;\">></td>\n",
    "        <td style=\"text-align: center;\">Maior que</td>\n",
    "    </tr>\n",
    "    <tr>\n",
    "        <th scope=\"row\" style=\"text-align: center;\">3</th>\n",
    "        <td style=\"text-align: center;\"><</td>\n",
    "        <td style=\"text-align: center;\">Menor que</td>\n",
    "    </tr>\n",
    "    <tr>\n",
    "        <th scope=\"row\" style=\"text-align: center;\">4</th>\n",
    "        <td style=\"text-align: center;\">!=</td>\n",
    "        <td style=\"text-align: center;\">Diferente</td>\n",
    "    </tr>\n",
    "    <tr>\n",
    "        <th scope=\"row\" style=\"text-align: center;\">5</th>\n",
    "        <td style=\"text-align: center;\">>=</td>\n",
    "        <td style=\"text-align: center;\">Maior ou igual</td>\n",
    "    </tr>\n",
    "        <tr>\n",
    "            <th scope=\"row\" style=\"text-align: center;\">6</th>\n",
    "            <td style=\"text-align: center;\"><=</td>\n",
    "            <td style=\"text-align: center;\">Menor ou igual</td>\n",
    "        </tr>\n",
    "  </tbody>\n",
    "</table>"
   ]
  },
  {
   "cell_type": "markdown",
   "metadata": {},
   "source": [
    ">> O resultado de uma comparação é um valor do tipo lógico, ou seja, `True` (verdadeiro) ou `False`(falso)."
   ]
  },
  {
   "cell_type": "code",
   "execution_count": null,
   "metadata": {},
   "outputs": [],
   "source": [
    "# igual\n",
    "7 == 7"
   ]
  },
  {
   "cell_type": "code",
   "execution_count": null,
   "metadata": {},
   "outputs": [],
   "source": [
    "# maior que\n",
    "7 > 2"
   ]
  },
  {
   "cell_type": "code",
   "execution_count": null,
   "metadata": {},
   "outputs": [],
   "source": [
    "# menor que\n",
    "7 < 2"
   ]
  },
  {
   "cell_type": "code",
   "execution_count": null,
   "metadata": {},
   "outputs": [],
   "source": [
    "# diferente de\n",
    "7 != 8"
   ]
  },
  {
   "cell_type": "code",
   "execution_count": null,
   "metadata": {},
   "outputs": [],
   "source": [
    "# maior ou igual a\n",
    "7 >= 2"
   ]
  },
  {
   "cell_type": "code",
   "execution_count": null,
   "metadata": {},
   "outputs": [],
   "source": [
    "# menor ou igual a\n",
    "7 <= 2"
   ]
  },
  {
   "cell_type": "markdown",
   "metadata": {},
   "source": [
    "## Declaração Múltipla"
   ]
  },
  {
   "cell_type": "code",
   "execution_count": null,
   "metadata": {},
   "outputs": [],
   "source": [
    "nome1, nome2, nome3 = \"Maria\", \"Davi\", \"Vinícius\""
   ]
  },
  {
   "cell_type": "code",
   "execution_count": null,
   "metadata": {},
   "outputs": [],
   "source": [
    "nome1"
   ]
  },
  {
   "cell_type": "code",
   "execution_count": null,
   "metadata": {},
   "outputs": [],
   "source": [
    "nome2"
   ]
  },
  {
   "cell_type": "code",
   "execution_count": null,
   "metadata": {},
   "outputs": [],
   "source": [
    "nome3"
   ]
  },
  {
   "cell_type": "code",
   "execution_count": null,
   "metadata": {},
   "outputs": [],
   "source": [
    "fruta1 = fruta2 = fruta3 = \"Manga\""
   ]
  },
  {
   "cell_type": "code",
   "execution_count": null,
   "metadata": {},
   "outputs": [],
   "source": [
    "fruta1"
   ]
  },
  {
   "cell_type": "code",
   "execution_count": null,
   "metadata": {},
   "outputs": [],
   "source": [
    "fruta2"
   ]
  },
  {
   "cell_type": "markdown",
   "metadata": {},
   "source": [
    "## <font color='red'>**ATENÇÃO!!!**</font>\n",
    "<font size=3>Python é case-sensitive. A variável fruta2 com a primeira letra minúscula, não é a mesma coisa que a variável Fruta2 com a primeira letra maiúscula para o Python.</font>"
   ]
  },
  {
   "cell_type": "code",
   "execution_count": null,
   "metadata": {},
   "outputs": [],
   "source": [
    "Fruta2"
   ]
  },
  {
   "cell_type": "markdown",
   "metadata": {},
   "source": [
    "### Pode-se usar letras, números e underline (mas não se pode começar com números)"
   ]
  },
  {
   "cell_type": "code",
   "execution_count": null,
   "metadata": {},
   "outputs": [],
   "source": [
    "x1 = 75"
   ]
  },
  {
   "cell_type": "code",
   "execution_count": null,
   "metadata": {},
   "outputs": [],
   "source": [
    "x1"
   ]
  },
  {
   "cell_type": "code",
   "execution_count": null,
   "metadata": {},
   "outputs": [],
   "source": [
    "# O Python não permite nomes de variáveis que iniciem com números\n",
    "1x = 50"
   ]
  },
  {
   "cell_type": "markdown",
   "metadata": {},
   "source": [
    "### Não se pode usar `palavras reservadas` como nome de variável\n",
    "\n",
    "Toda linguagem de programação possui suas próprias regras gramaticais, assim como as linguagens que falamos.\n",
    "\n",
    "* Palavras-chave e identificadores*\n",
    "\n",
    "Os identificadores a seguir são usados como palavras reservadas ou palavras-chave da linguagem Python e não podem ser usados como identificadores comuns. Eles devem ser digitados exatamente como estão escritos aqui:"
   ]
  },
  {
   "cell_type": "markdown",
   "metadata": {},
   "source": [
    "<!---|------- | ------ | ------ | ------ | ------|\n",
    "|:------- | :------ | :------ | :------ | :------|\n",
    "| false    | class  | finally | is | return |\n",
    "| None      |continue |for |lambda |try |\n",
    "| True | def | from | nonlocal | while |\n",
    "| and | del | global | not| with |\n",
    "| as | elif | if | or | yield |\n",
    "| assert | else | import | pass |\n",
    "| break | except | in | raise |--->\n",
    "\n",
    "<table class=\"table\">\n",
    "  <thead class=\"thead-dark\">\n",
    "    <tr>\n",
    "        <th scope=\"col\" style=\"text-align: center;\">Palávras Reservadas</th>\n",
    "        <!---<th scope=\"col\" style=\"text-align: center;\">#</th>\n",
    "        <th scope=\"col\" style=\"text-align: center;\">#</th>\n",
    "        <th scope=\"col\" style=\"text-align: center;\">#</th>\n",
    "        <th scope=\"col\" style=\"text-align: center;\">#</th>\n",
    "    </tr>\n",
    "  </thead>--->\n",
    "  <tbody>\n",
    "    <tr>\n",
    "        <!---<th scope=\"row\" style=\"text-align: center;\">1</th>--->\n",
    "        <td style=\"text-align: center;\">False</td>\n",
    "        <td style=\"text-align: justify;\">class</td>\n",
    "        <td style=\"text-align: justify;\">finally</td>\n",
    "        <td style=\"text-align: justify;\">is</td>\n",
    "        <td style=\"text-align: justify;\">return</td>\n",
    "    </tr>\n",
    "        <tr>\n",
    "            <!---<th scope=\"row\" style=\"text-align: center;\">2</th>--->\n",
    "            <td style=\"text-align: center;\">None</td>\n",
    "            <td style=\"text-align: justify;\">continue</td>\n",
    "            <td style=\"text-align: justify;\">for</td>\n",
    "            <td style=\"text-align: justify;\">lambda</td>\n",
    "            <td style=\"text-align: justify;\">try</td>\n",
    "        </tr>\n",
    "            <tr>\n",
    "                <!---<th scope=\"row\" style=\"text-align: center;\">3</th>--->\n",
    "                <td style=\"text-align: center;\">True</td>\n",
    "                <td style=\"text-align: justify;\">def</td>\n",
    "                <td style=\"text-align: justify;\">from</td>\n",
    "                <td style=\"text-align: justify;\">nonlocal</td>\n",
    "                <td style=\"text-align: justify;\">while</td>\n",
    "            </tr>\n",
    "                <tr>\n",
    "                    <!---<th scope=\"row\" style=\"text-align: center;\">4</th>--->\n",
    "                    <td style=\"text-align: center;\">and</td>\n",
    "                    <td style=\"text-align: justify;\">del</td>\n",
    "                    <td style=\"text-align: justify;\">global</td>\n",
    "                    <td style=\"text-align: justify;\">not</td>\n",
    "                    <td style=\"text-align: justify;\">with</td>\n",
    "                </tr>\n",
    "                    <tr>\n",
    "                        <!---<th scope=\"row\" style=\"text-align: center;\">5</th>--->\n",
    "                        <td style=\"text-align: center;\">as</td>\n",
    "                        <td style=\"text-align: justify;\">elif</td>\n",
    "                        <td style=\"text-align: justify;\">if</td>\n",
    "                        <td style=\"text-align: justify;\">or</td>\n",
    "                        <td style=\"text-align: justify;\">yeld</td>\n",
    "                    </tr>\n",
    "                        <tr>\n",
    "                            <!---<th scope=\"row\" style=\"text-align: center;\">6</th>--->\n",
    "                            <td style=\"text-align: center;\">assert</td>\n",
    "                            <td style=\"text-align: justify;\">else</td>\n",
    "                            <td style=\"text-align: justify;\">import</td>\n",
    "                            <td style=\"text-align: justify;\">pass</td>\n",
    "                        </tr>\n",
    "                            <tr>\n",
    "                                <!---<th scope=\"row\" style=\"text-align: center;\">7</th>--->\n",
    "                                <td style=\"text-align: center;\">break</td>\n",
    "                                <td style=\"text-align: justify;\">except</td>\n",
    "                                <td style=\"text-align: justify;\">in</td>\n",
    "                                <td style=\"text-align: justify;\">raise</td>\n",
    "                            </tr>\n",
    "</tbody>\n",
    "</table>"
   ]
  },
  {
   "cell_type": "markdown",
   "metadata": {},
   "source": [
    "Você pode ver essa lista a qualquer momento digitando `help(\"keywords\")` no interpretador Python ou no jupyter notebook ou em uma IDE. As palavras reservadas diferenciam `maiúsculas` de `minúsculas` e devem ser usadas exatamente como mostrado. Elas são todas escritas em letras minúsculas, exceto `False, None, e True`.\n",
    "Tentar criar uma variável com o mesmo nome de qualquer palavra reservada resulta em um erro:"
   ]
  },
  {
   "cell_type": "code",
   "execution_count": null,
   "metadata": {},
   "outputs": [],
   "source": [
    "# Não podemos usar palavras reservadas como nome de variável\n",
    "break = 1"
   ]
  },
  {
   "cell_type": "code",
   "execution_count": null,
   "metadata": {},
   "outputs": [],
   "source": [
    "help('keywords')"
   ]
  },
  {
   "cell_type": "markdown",
   "metadata": {},
   "source": [
    "## Variáveis atribuídas a outras variáveis em Python"
   ]
  },
  {
   "cell_type": "code",
   "execution_count": null,
   "metadata": {},
   "outputs": [],
   "source": [
    "largura = 2"
   ]
  },
  {
   "cell_type": "code",
   "execution_count": null,
   "metadata": {},
   "outputs": [],
   "source": [
    "altura = 4"
   ]
  },
  {
   "cell_type": "code",
   "execution_count": null,
   "metadata": {},
   "outputs": [],
   "source": [
    "area = largura * altura"
   ]
  },
  {
   "cell_type": "code",
   "execution_count": null,
   "metadata": {},
   "outputs": [],
   "source": [
    "area"
   ]
  },
  {
   "cell_type": "code",
   "execution_count": null,
   "metadata": {},
   "outputs": [],
   "source": [
    "perimetro = 2 * largura + 2 * altura"
   ]
  },
  {
   "cell_type": "code",
   "execution_count": null,
   "metadata": {},
   "outputs": [],
   "source": [
    "perimetro"
   ]
  },
  {
   "cell_type": "markdown",
   "metadata": {},
   "source": [
    "## Ordem dos operadores em Python"
   ]
  },
  {
   "cell_type": "code",
   "execution_count": null,
   "metadata": {},
   "outputs": [],
   "source": [
    "# A ordem dos operadores é a mesma seguida na Matemática que aprendemos na escola\n",
    "perimetro = 2 * (largura + 2)  * altura"
   ]
  },
  {
   "cell_type": "code",
   "execution_count": null,
   "metadata": {},
   "outputs": [],
   "source": [
    "perimetro"
   ]
  },
  {
   "cell_type": "markdown",
   "metadata": {},
   "source": [
    "## As operações com variáveis em Python"
   ]
  },
  {
   "cell_type": "code",
   "execution_count": null,
   "metadata": {},
   "outputs": [],
   "source": [
    "valor1 = 45"
   ]
  },
  {
   "cell_type": "code",
   "execution_count": null,
   "metadata": {},
   "outputs": [],
   "source": [
    "valor2 = 75"
   ]
  },
  {
   "cell_type": "code",
   "execution_count": null,
   "metadata": {},
   "outputs": [],
   "source": [
    "valor1 + valor2"
   ]
  },
  {
   "cell_type": "code",
   "execution_count": null,
   "metadata": {},
   "outputs": [],
   "source": [
    "valor2 - valor1"
   ]
  },
  {
   "cell_type": "code",
   "execution_count": null,
   "metadata": {},
   "outputs": [],
   "source": [
    "valor2 * valor1"
   ]
  },
  {
   "cell_type": "code",
   "execution_count": null,
   "metadata": {},
   "outputs": [],
   "source": [
    "valor2 / valor1"
   ]
  },
  {
   "cell_type": "code",
   "execution_count": null,
   "metadata": {},
   "outputs": [],
   "source": [
    "valor2 % valor1"
   ]
  },
  {
   "cell_type": "markdown",
   "metadata": {},
   "source": [
    "## Concatenação de Variáveis em Python"
   ]
  },
  {
   "cell_type": "code",
   "execution_count": null,
   "metadata": {},
   "outputs": [],
   "source": [
    "nome = \"BB\""
   ]
  },
  {
   "cell_type": "code",
   "execution_count": null,
   "metadata": {},
   "outputs": [],
   "source": [
    "sobrenome = \"8\""
   ]
  },
  {
   "cell_type": "code",
   "execution_count": null,
   "metadata": {},
   "outputs": [],
   "source": [
    "nome_completo = nome + \" \" + sobrenome"
   ]
  },
  {
   "cell_type": "code",
   "execution_count": null,
   "metadata": {},
   "outputs": [],
   "source": [
    "nome_completo"
   ]
  },
  {
   "cell_type": "markdown",
   "metadata": {},
   "source": [
    "Conclusão\n",
    "========\n",
    "Esta etapa do nosso estudo abrangeu as noções básicas de variáveis do Python, incluindo referências e identidade de objetos, e nomeação de identificadores do Python.\n",
    "Agora temos uma boa compreensão de alguns tipos de dados do Python, e em consequência, aprendemos como criar variáveis que referenciam objetos desses tipos aprendidos."
   ]
  },
  {
   "cell_type": "markdown",
   "metadata": {},
   "source": [
    "### Obrigado e bons estudos"
   ]
  },
  {
   "cell_type": "code",
   "execution_count": null,
   "metadata": {},
   "outputs": [],
   "source": []
  }
 ],
 "metadata": {
  "anaconda-cloud": {},
  "kernelspec": {
   "display_name": "Python 3",
   "language": "python",
   "name": "python3"
  },
  "language_info": {
   "codemirror_mode": {
    "name": "ipython",
    "version": 3
   },
   "file_extension": ".py",
   "mimetype": "text/x-python",
   "name": "python",
   "nbconvert_exporter": "python",
   "pygments_lexer": "ipython3",
   "version": "3.7.3"
  }
 },
 "nbformat": 4,
 "nbformat_minor": 1
}
