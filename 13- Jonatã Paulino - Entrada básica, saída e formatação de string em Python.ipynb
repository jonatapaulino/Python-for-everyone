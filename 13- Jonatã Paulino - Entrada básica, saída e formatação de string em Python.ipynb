{
 "cells": [
  {
   "cell_type": "markdown",
   "metadata": {},
   "source": [
    "# <font color='green'>Jonatã Paulino - Python Fácil</font>\n",
    "<img src='pimagem5t.png' alt=Jonatã Paulino size=10x10 width=90 height=90 align='left'>"
   ]
  },
  {
   "cell_type": "markdown",
   "metadata": {},
   "source": [
    "13- Entrada básica, saída e formatação de string em Python\n",
    "============================================\n",
    "* __Índice__\n",
    "* 13.1 Leitura de entrada do teclado\n",
    "* 13.2 Escrevendo saída para o console\n",
    "    * 13.2.1 Saída de console não formatada\n",
    "    * 13.2.2 Argumentos de palavras-chave para imprimir ()\n",
    "* 13.3 Saída de String Formatada\n",
    "* 13.4 O Operador de Módulo de Strings\n",
    "* Conclusão\n"
   ]
  },
  {
   "cell_type": "markdown",
   "metadata": {},
   "source": [
    "13.1 Leitura de entrada do teclado\n",
    "=========================="
   ]
  },
  {
   "cell_type": "markdown",
   "metadata": {},
   "source": [
    "Um programa útil e robusto, geralmente precisa se comunicar com o mundo exterior, obtendo dados de entrada do usuário e exibindo os dados do resultado de volta para o usuário. Agora nós estudaremos como fazer códigos que sejam capazes de oferecer entradas e saídas do Python.\n",
    "\n",
    "A `entrada` pode vir diretamente do usuário através do teclado ou de alguma fonte externa como um arquivo ou banco de dados etc. A `saída` pode ser exibida diretamente no console ou IDE, na tela por meio de uma GUI (Interface Gráfica com o Usuário).\n",
    "\n",
    "A maneira mais simples de obter dados do usuário seria usando a função `input`.\n",
    "\n",
    "**Sintax**\n",
    "```python\n",
    "input<(<prompt>)\n",
    "```\n",
    "> Lê uma linha do teclado"
   ]
  },
  {
   "cell_type": "code",
   "execution_count": null,
   "metadata": {},
   "outputs": [],
   "source": [
    "s = input()\n",
    "s"
   ]
  },
  {
   "cell_type": "code",
   "execution_count": null,
   "metadata": {},
   "outputs": [],
   "source": [
    "nome = input('Qual o seu nome? ')"
   ]
  },
  {
   "cell_type": "code",
   "execution_count": null,
   "metadata": {},
   "outputs": [],
   "source": [
    "nome"
   ]
  },
  {
   "cell_type": "markdown",
   "metadata": {},
   "source": [
    "O `input` sempre retorna uma `string`, se você quiser que retorne um tipo numérico, então precismos converter a string para o tipo apropriado com as funções `int()`, `float()` ou `complex()`, estas são funções built-in:"
   ]
  },
  {
   "cell_type": "code",
   "execution_count": null,
   "metadata": {},
   "outputs": [],
   "source": [
    "n = input('Digite um número: ')"
   ]
  },
  {
   "cell_type": "code",
   "execution_count": null,
   "metadata": {},
   "outputs": [],
   "source": [
    "print(n + 100)"
   ]
  },
  {
   "cell_type": "code",
   "execution_count": null,
   "metadata": {},
   "outputs": [],
   "source": [
    "# Vamos converter os tipos de dados apropriado para cada dado\n",
    "sn = input('digeite seu nome: ')\n",
    "si = int(input('digite sua idade: '))\n",
    "sa = float(input('digite sua altura: '))\n",
    "sc = complex(input('digite um valor: '))"
   ]
  },
  {
   "cell_type": "code",
   "execution_count": null,
   "metadata": {},
   "outputs": [],
   "source": [
    "# print(sn, si, sa, sc)"
   ]
  },
  {
   "cell_type": "markdown",
   "metadata": {},
   "source": [
    "13.2 Escrevendo saída para o console\n",
    "==============================    "
   ]
  },
  {
   "cell_type": "markdown",
   "metadata": {},
   "source": [
    "Além de obter dados do usuário, um programa geralmente também precisará apresentar os dados de volta ao usuário. Você pode exibir dados do programa no console em Python com a função `print()`."
   ]
  },
  {
   "cell_type": "markdown",
   "metadata": {},
   "source": [
    "13.2.1 Saída de console não formatada\n",
    "==============================    "
   ]
  },
  {
   "cell_type": "markdown",
   "metadata": {},
   "source": [
    "Para exibir objetos no console, passe-os como uma lista de argumentos separados por vírgula para o `print()`.\n",
    "\n",
    "**Sintax**\n",
    "```python\n",
    "print(<obj>, ..., <obj>)\n",
    "```\n",
    "> Exibe uma representação em cadeia de cada um `<obj>` no console."
   ]
  },
  {
   "cell_type": "code",
   "execution_count": null,
   "metadata": {},
   "outputs": [],
   "source": [
    "# Print padrão\n",
    "xnome  =  'Vinícius' \n",
    "ynome  =  'Julise'\n",
    "print('Nome:', xnome, ynome)"
   ]
  },
  {
   "cell_type": "markdown",
   "metadata": {},
   "source": [
    "Qualquer tipo de objeto pode ser especificado como argumento para o `print()`. Se um objeto não for uma sequência, `print()` o converte em uma representação de sequência apropriada para poder exibi-la:\n",
    "\n",
    "```python\n",
    "a = [1, 2, 3]\n",
    "type(a)\n",
    "<class 'list'>\n",
    "\n",
    "b = -12\n",
    "type(b)\n",
    "<class 'int'>\n",
    "\n",
    "d = {'foo': 1, 'bar': 2}\n",
    "type(d)\n",
    "<class 'dict'>\n",
    "\n",
    "type(len)\n",
    "<class 'builtin_function_or_method'>\n",
    "\n",
    "print(a, b, d, len)\n",
    "[1, 2, 3] -12 {'um': 1, 'dois': 2} \n",
    "<built-in function len>\n",
    "```"
   ]
  },
  {
   "cell_type": "markdown",
   "metadata": {},
   "source": [
    "Vemos nos exemplos acima que até `tipos complexos`, como `listas`, `dicionários e funções`, podem ser exibidos no console com `print()`."
   ]
  },
  {
   "cell_type": "markdown",
   "metadata": {},
   "source": [
    "13.2.2 Argumentos de palavras-chave para imprimir ( )\n",
    "=========================================="
   ]
  },
  {
   "cell_type": "markdown",
   "metadata": {},
   "source": [
    "A função `print()` usa alguns argumentos adicionais que fornecem controle sobre o formato de saída, e cada um deles é um tipo especial de argumento chamado `argumento de palavra-chave`.\n",
    "```python\n",
    "sep = argumento\n",
    "```\n",
    "A adição do argumento da palavra-chave `sep = <str>`, faz com que os objetos sejam separados pela cadeia `<str> de caracteres` em vez de um espaço único padrão:"
   ]
  },
  {
   "cell_type": "code",
   "execution_count": null,
   "metadata": {},
   "outputs": [],
   "source": [
    "print('tv', 'radio', 'notebook')"
   ]
  },
  {
   "cell_type": "code",
   "execution_count": null,
   "metadata": {},
   "outputs": [],
   "source": [
    "print('tv', 'radio', 'notebook', sep= '/')"
   ]
  },
  {
   "cell_type": "code",
   "execution_count": null,
   "metadata": {},
   "outputs": [],
   "source": [
    "print('tv', 'radio', 'notebook', sep= '...')"
   ]
  },
  {
   "cell_type": "code",
   "execution_count": null,
   "metadata": {},
   "outputs": [],
   "source": [
    "d = {'um': 1, 'dois': 2, 'tres': 3}\n",
    "for k, v in d.items():\n",
    "    print(k, v, sep= ' -> ')"
   ]
  },
  {
   "cell_type": "code",
   "execution_count": null,
   "metadata": {},
   "outputs": [],
   "source": [
    "# Juntando objetos sem espaço\n",
    "print('tv', 'radio', 'notebook', sep= '')"
   ]
  },
  {
   "cell_type": "markdown",
   "metadata": {},
   "source": [
    "\n",
    "```python\n",
    "end= argumento\n",
    "```\n",
    "O argumento `end= <str>` faz com que a saída seja finalizada em `<str>` ao contrário da exibição da nova linha padrão."
   ]
  },
  {
   "cell_type": "code",
   "execution_count": null,
   "metadata": {},
   "outputs": [],
   "source": [
    "if True:\n",
    "    print('Python', end='/')\n",
    "    print(42, end='/')\n",
    "    print('Python 3')"
   ]
  },
  {
   "cell_type": "markdown",
   "metadata": {},
   "source": [
    "Por exemplo, se você estiver exibindo valores em um loop, poderá fazer um `end=` para fazer com que os valores sejam exibidos em `uma linha`, em vez de em linhas individuais:"
   ]
  },
  {
   "cell_type": "code",
   "execution_count": null,
   "metadata": {},
   "outputs": [],
   "source": [
    "for n in range(10):\n",
    "    print(n)"
   ]
  },
  {
   "cell_type": "code",
   "execution_count": null,
   "metadata": {},
   "outputs": [],
   "source": [
    "for n in range(10):\n",
    "    print(n, end=(' ' if n < 9 else '\\n'))"
   ]
  },
  {
   "cell_type": "markdown",
   "metadata": {},
   "source": [
    "13.3 Saída de String Formatada\n",
    "========================"
   ]
  },
  {
   "cell_type": "markdown",
   "metadata": {},
   "source": [
    "A função `print()` suporta separar os objetos impressos e especificar o que se passa no final da linha impressa.\n",
    "\n",
    "Em muitos casos, você precisará de um controle mais preciso sobre a `aparência` dos dados destinados à exibição. O Python fornece `várias maneiras de formatar os dados da string de saída`."
   ]
  },
  {
   "cell_type": "markdown",
   "metadata": {},
   "source": [
    "13.4 O Operador de Módulo de Strings\n",
    "============================="
   ]
  },
  {
   "cell_type": "markdown",
   "metadata": {},
   "source": [
    "O operador módulo `( % )` é geralmente usado com números; nesse caso, calcula o restante da divisão:\n",
    "```python\n",
    "11 % 3\n",
    "```\n",
    "Com operandos de `string`, o operador `modulo` tem uma função totalmente diferente: `formatação de string`. (As duas operações não são muito parecidas uma com a outra, elas compartilham o mesmo nome porque são representadas pelo mesmo símbolo:. `%`)\n",
    "\n",
    "Aqui está a aparência da sintaxe do operador módulo de string:\n",
    "```python\n",
    "<string> % <valores>\n",
    "```\n",
    "Aqui está uma instrução `print()` que exibe uma cadeia de caracteres formatada usando o operador `módulo` de cadeia de caracteres:"
   ]
  },
  {
   "cell_type": "code",
   "execution_count": null,
   "metadata": {},
   "outputs": [],
   "source": [
    "print('%d %s cost $%.2f' % (6, 'bananas', 1.74))"
   ]
  },
  {
   "cell_type": "markdown",
   "metadata": {},
   "source": [
    "Se houver apenas um valor, ele poderá aparecer por si só:"
   ]
  },
  {
   "cell_type": "code",
   "execution_count": null,
   "metadata": {},
   "outputs": [],
   "source": [
    "print('Olá, meu nome é %s.' % 'Jonatã')"
   ]
  },
  {
   "cell_type": "markdown",
   "metadata": {},
   "source": [
    "A operação do módulo de string não é apenas para impressão, também pode formatar valores e atribuí-los a outra variável da cadeia:"
   ]
  },
  {
   "cell_type": "code",
   "execution_count": null,
   "metadata": {},
   "outputs": [],
   "source": [
    "s = 'Olá, meu nome é %s.' % 'Chicolé'\n",
    "s"
   ]
  },
  {
   "cell_type": "markdown",
   "metadata": {},
   "source": [
    "Conclusão\n",
    "========"
   ]
  },
  {
   "cell_type": "markdown",
   "metadata": {},
   "source": [
    "Aprendemos sobre algumas entradas e saídas do Python e como seu programa Python pode se comunicar com o usuário. Agora podemos conseguir obter dados do usuário com `input()` e exibir resultados no console com `print()`.\n",
    "\n",
    "Aprendemos também como tornar os dados exibidos ao usuário mais apresentáveis, formatando-os com o operador módulo de string .\n",
    "\n",
    "Por mais versátil que seja o operador módulo de string, o Python fornece duas maneiras mais novas de formatar dados de string ainda melhores: o método de `string.format()` e o literal de string formatado `f`."
   ]
  },
  {
   "cell_type": "markdown",
   "metadata": {},
   "source": [
    "### Obrigado e bons estudos"
   ]
  },
  {
   "cell_type": "code",
   "execution_count": null,
   "metadata": {},
   "outputs": [],
   "source": []
  }
 ],
 "metadata": {
  "anaconda-cloud": {},
  "kernelspec": {
   "display_name": "Python 3",
   "language": "python",
   "name": "python3"
  },
  "language_info": {
   "codemirror_mode": {
    "name": "ipython",
    "version": 3
   },
   "file_extension": ".py",
   "mimetype": "text/x-python",
   "name": "python",
   "nbconvert_exporter": "python",
   "pygments_lexer": "ipython3",
   "version": "3.7.3"
  }
 },
 "nbformat": 4,
 "nbformat_minor": 1
}
