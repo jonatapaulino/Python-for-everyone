{
 "cells": [
  {
   "cell_type": "markdown",
   "metadata": {},
   "source": [
    "# <font color='green'>Jonatã Paulino - Python Fácil</font>\n",
    "<img src='pimagem5t.png' alt=Jonatã Paulino size=4x4 width=90 height=90 align='left'>"
   ]
  },
  {
   "cell_type": "markdown",
   "metadata": {},
   "source": [
    "4- Tipos de dados básicos em Python\n",
    "============================\n",
    "+ __Índice__\n",
    "+ 4.1 Inteiros\n",
    "+ 4.2 Números de ponto flutuante\n",
    "+ 4.3 Números complexos\n",
    "+ 4.4 Strings\n",
    "    + 4.4.1 Seqüências de escape em seqüências de caracteres\n",
    "    + 4.4.2 Strings brutas\n",
    "    + 4.4.3 Strings Triplas\n",
    "+ 4.5 Tipo Booleano\n",
    "+ 4.6 4.6 Funções incorporadas (Built-In)\n",
    "    + 4.6.1 Matemática\n",
    "    + 4.6.2 Conversão de Tipo\n",
    "    + 4.6.3 Iterables e Iteradores\n",
    "    + 4.6.4 Tipo de dados compostos\n",
    "    + 4.6.5 Classes, Atributos e Herança\n",
    "    + 4.6.6 Entrada/saída\n",
    "    + 4.6.7 Variáveis, referências e escopo\n",
    "    + 4.6.8 Diversos\n",
    "+ Conclusão\n"
   ]
  },
  {
   "cell_type": "markdown",
   "metadata": {},
   "source": [
    "4.1 Inteiros\n",
    "========="
   ]
  },
  {
   "cell_type": "markdown",
   "metadata": {},
   "source": [
    "No Python 3, não há limite para o tamanho de que um valor inteiro pode ter, obviamente, o seu tamanho é limitado pela quantidade de memória que seu sistema possui."
   ]
  },
  {
   "cell_type": "code",
   "execution_count": null,
   "metadata": {},
   "outputs": [],
   "source": [
    "print(123123123123123123123123123123123123123123123123 + 1)"
   ]
  },
  {
   "cell_type": "markdown",
   "metadata": {},
   "source": [
    "Python interpreta uma sequência de dígitos `decimais` sem nenhum prefixo como um número `decimal`:"
   ]
  },
  {
   "cell_type": "code",
   "execution_count": null,
   "metadata": {},
   "outputs": [],
   "source": [
    "print(12)"
   ]
  },
  {
   "cell_type": "markdown",
   "metadata": {},
   "source": [
    "### Criando um valor inteiro para indicar uma base diferente de 10:\n",
    "\n",
    "<table class=\"table\">\n",
    "  <thead class=\"thead-dark\">       \n",
    "    <tr>\n",
    "        <th scope=\"col\" style=\"text-align: center;\">#</th>\n",
    "        <th scope=\"col\" style=\"text-align: center;\">Prefixo</th>\n",
    "        <th scope=\"col\" style=\"text-align: center;\">Interpretação</th>\n",
    "        <th scope=\"col\" style=\"text-align: center;\">Base</th>\n",
    "    </tr>\n",
    "  </thead>\n",
    "  <tbody>\n",
    "    <tr>\n",
    "        <th scope=\"row\" style=\"text-align: center;\">1</th>\n",
    "        <td style=\"text-align: center;\">0b(zero + letra minúscula 'b')</td>\n",
    "        <td style=\"text-align: center;\">Binário</td>\n",
    "        <td style=\"text-align: center;\">2</td>\n",
    "    </tr>\n",
    "    <tr>\n",
    "        <th scope=\"row\" style=\"text-align: center;\">2</th>\n",
    "        <td style=\"text-align: center;\">0B(zero + letra maiúscula 'B')</td>\n",
    "        <td style=\"text-align: center;\">Binário</td>\n",
    "        <td style=\"text-align: center;\">2</td>\n",
    "    </tr>\n",
    "    <tr>\n",
    "        <th scope=\"row\" style=\"text-align: center;\">3</th>\n",
    "        <td style=\"text-align: center;\">0o(zero + letra minúscula 'o')</td>\n",
    "        <td style=\"text-align: center;\">Octal</td>\n",
    "        <td style=\"text-align: center;\">8</td>\n",
    "    </tr>\n",
    "    <tr>\n",
    "        <th scope=\"row\" style=\"text-align: center;\">4</th>\n",
    "        <td style=\"text-align: center;\">0O(zero + letra maiúscula 'O')</td>\n",
    "        <td style=\"text-align: center;\">Octal</td>\n",
    "        <td style=\"text-align: center;\">8</td>\n",
    "    </tr>\n",
    "    <tr>\n",
    "        <th scope=\"row\" style=\"text-align: center;\">5</th>\n",
    "        <td style=\"text-align: center;\">0x(zero + letra minúscula 'x')</td>\n",
    "        <td style=\"text-align: center;\">Hexadecimal</td>\n",
    "        <td style=\"text-align: center;\">16</td>\n",
    "    </tr>\n",
    "        <tr>\n",
    "            <th scope=\"row\" style=\"text-align: center;\">6</th>\n",
    "            <td style=\"text-align: center;\">0X(zero + letra maiúscula 'X')</td>\n",
    "            <td style=\"text-align: center;\">Hexadecimal</td>\n",
    "            <td style=\"text-align: center;\">16</td>\n",
    "        </tr>\n",
    "  </tbody>\n",
    "</table>"
   ]
  },
  {
   "cell_type": "markdown",
   "metadata": {},
   "source": [
    "<hr><hr>"
   ]
  },
  {
   "cell_type": "markdown",
   "metadata": {},
   "source": [
    ">**Obs:** - Independente da base usada, o número especificado será o int:"
   ]
  },
  {
   "cell_type": "code",
   "execution_count": null,
   "metadata": {},
   "outputs": [],
   "source": [
    "print(0o10)\n",
    "type(0o10)"
   ]
  },
  {
   "cell_type": "code",
   "execution_count": null,
   "metadata": {},
   "outputs": [],
   "source": [
    "print(0x10)\n",
    "type(0x10)"
   ]
  },
  {
   "cell_type": "code",
   "execution_count": null,
   "metadata": {},
   "outputs": [],
   "source": [
    "print(0b10)\n",
    "type(0b10)"
   ]
  },
  {
   "cell_type": "markdown",
   "metadata": {},
   "source": [
    "4.2 Números de ponto flutuante\n",
    "========================"
   ]
  },
  {
   "cell_type": "markdown",
   "metadata": {},
   "source": [
    "O `tipo float` no Python designa um número de `ponto flutuante`, estes tipos de valores são especificados com um `ponto decimal`. Opcionalmente, o caractere `e` ou `E` seguido por um número inteiro positivo ou negativo pode ser anexado para especificar uma notação científica:"
   ]
  },
  {
   "cell_type": "code",
   "execution_count": null,
   "metadata": {},
   "outputs": [],
   "source": [
    "4.2"
   ]
  },
  {
   "cell_type": "code",
   "execution_count": null,
   "metadata": {},
   "outputs": [],
   "source": [
    "type(4.2)"
   ]
  },
  {
   "cell_type": "code",
   "execution_count": null,
   "metadata": {},
   "outputs": [],
   "source": [
    "4."
   ]
  },
  {
   "cell_type": "code",
   "execution_count": null,
   "metadata": {},
   "outputs": [],
   "source": [
    "type(4.)"
   ]
  },
  {
   "cell_type": "code",
   "execution_count": null,
   "metadata": {},
   "outputs": [],
   "source": [
    ".3"
   ]
  },
  {
   "cell_type": "code",
   "execution_count": null,
   "metadata": {},
   "outputs": [],
   "source": [
    "type(.3)"
   ]
  },
  {
   "cell_type": "code",
   "execution_count": null,
   "metadata": {},
   "outputs": [],
   "source": [
    ".4E7"
   ]
  },
  {
   "cell_type": "code",
   "execution_count": null,
   "metadata": {},
   "outputs": [],
   "source": [
    "type(.4E7 ) "
   ]
  },
  {
   "cell_type": "code",
   "execution_count": null,
   "metadata": {},
   "outputs": [],
   "source": [
    "4.2e-4"
   ]
  },
  {
   "cell_type": "markdown",
   "metadata": {},
   "source": [
    "4.3 Números complexos\n",
    "==================="
   ]
  },
  {
   "cell_type": "markdown",
   "metadata": {},
   "source": [
    "Números complexos são especificados como `<parte real> + <parte imaginaria>j`. Por exemplo:"
   ]
  },
  {
   "cell_type": "code",
   "execution_count": null,
   "metadata": {},
   "outputs": [],
   "source": [
    "2 + 3j"
   ]
  },
  {
   "cell_type": "code",
   "execution_count": null,
   "metadata": {},
   "outputs": [],
   "source": [
    "type(2 + 3j)"
   ]
  },
  {
   "cell_type": "markdown",
   "metadata": {},
   "source": [
    "4.4 Strings\n",
    "========"
   ]
  },
  {
   "cell_type": "markdown",
   "metadata": {},
   "source": [
    "As `strings são sequências de dados de caracteres`. O tipo de string no Python é chamado  com `str`.\n",
    "String podem ser delimitadas usando `aspas simples ou aspas duplas`, todos os caracteres entre o `delimitador de abertura e o delimitador de fechamento` correspondente fazem parte da `sequência da string`:"
   ]
  },
  {
   "cell_type": "code",
   "execution_count": null,
   "metadata": {},
   "outputs": [],
   "source": [
    "print(\"Eu sou uma string\")"
   ]
  },
  {
   "cell_type": "code",
   "execution_count": null,
   "metadata": {},
   "outputs": [],
   "source": [
    "type(\"Eu sou uma string\")"
   ]
  },
  {
   "cell_type": "code",
   "execution_count": null,
   "metadata": {},
   "outputs": [],
   "source": [
    "print('Eu também sou uma string')"
   ]
  },
  {
   "cell_type": "code",
   "execution_count": null,
   "metadata": {},
   "outputs": [],
   "source": [
    "type('Eu também sou uma string')"
   ]
  },
  {
   "cell_type": "markdown",
   "metadata": {},
   "source": [
    "Em Python, uma string pode conter quantos caracteres forem necessários, ou, o quanto a memória do seu computador armazenar. Note que podemos ter também strings vazias."
   ]
  },
  {
   "cell_type": "code",
   "execution_count": null,
   "metadata": {},
   "outputs": [],
   "source": [
    "''"
   ]
  },
  {
   "cell_type": "code",
   "execution_count": null,
   "metadata": {},
   "outputs": [],
   "source": [
    "type('')"
   ]
  },
  {
   "cell_type": "markdown",
   "metadata": {},
   "source": [
    "Se você deseja incluir qualquer tipo de caractere de uma citação na string, a maneira mais simples é `delimitar a string com o outro tipo`de delimitador. Se uma string deve conter uma única citação, delimite-a com aspas duplas e vice-versa:"
   ]
  },
  {
   "cell_type": "code",
   "execution_count": null,
   "metadata": {},
   "outputs": [],
   "source": [
    "print(\"Esta sequência contém um caractere de aspas simples (').\" ) "
   ]
  },
  {
   "cell_type": "code",
   "execution_count": null,
   "metadata": {},
   "outputs": [],
   "source": [
    "print('Esta string contém um caractere de aspas duplas (\").' ) "
   ]
  },
  {
   "cell_type": "code",
   "execution_count": null,
   "metadata": {},
   "outputs": [],
   "source": [
    "print(\"Muito safo esse 'Python'\")"
   ]
  },
  {
   "cell_type": "markdown",
   "metadata": {},
   "source": [
    "## 4.4.1 Sequências de escape em sequências de strings\n",
    "    "
   ]
  },
  {
   "cell_type": "markdown",
   "metadata": {},
   "source": [
    "As vezes, desejamos que o Python interprete um caractere ou uma sequência de caracteres dentro de uma string de maneira diferente, podemos fazer isso de duas maneiras:\n",
    "\n",
    "* Primeiro, podemos suprimir a interpretação especial de que certos caracteres geralmente são dados dentro de uma string.\n",
    "* Segundo, podemos aplicar uma interpretação especial aos caracteres em uma sequência que normalmente seria tomada literalmente.\n",
    "\n",
    "Podemos fazer isso usando um `\\caractere de barra invertida( )`. Um `caractere de barra invertida` em uma string indica que um ou mais caracteres a seguir devem ser tratados de maneira especial.(Chamamos de sequência de escape, porque a barra invertida faz com que a sequência de caracteres subsequente `\"escape\"` do seu significado usual.)\n",
    "\n",
    "Isso funciona da seguinte maneira:\n",
    "\n",
    "**Suprimindo o significado de caracteres especiais**\n",
    "Já vimos os problemas que podemos encontrar ao tentar incluir `aspas em uma sequência de caracter`, se uma string é delimitada por `aspas simples`, `não é possível` especificar diretamente um caractere de aspas simples como parte da string, pois, para essa string, a aspas simples tem um significado especial - `ela termina a string:`"
   ]
  },
  {
   "cell_type": "code",
   "execution_count": null,
   "metadata": {},
   "outputs": [],
   "source": [
    "print('Esta cadeia contém uma aspas simples (') caracteres.') "
   ]
  },
  {
   "cell_type": "markdown",
   "metadata": {},
   "source": [
    "Ao usarmos uma `barra invertida` na frente do caractere de citação, uma string `\"escapa\"` dele e faz com que o Python suprima seu significado especial usual. Em seguida, ele é interpretado simplesmente como um caractere de aspas simples literal:"
   ]
  },
  {
   "cell_type": "code",
   "execution_count": null,
   "metadata": {},
   "outputs": [],
   "source": [
    "print('Esta string contém um caractere de aspas simples ( \\' ). ' )"
   ]
  },
  {
   "cell_type": "code",
   "execution_count": null,
   "metadata": {},
   "outputs": [],
   "source": [
    "print(\"Esta cadeia contém um caractere de aspas duplas ( \\\" ).\") "
   ]
  },
  {
   "cell_type": "code",
   "execution_count": null,
   "metadata": {},
   "outputs": [],
   "source": [
    "# Caracter de tabulação que pode ser especificado pela sequência de escape '\\t':\n",
    "print('Python \\t Fácil' )"
   ]
  },
  {
   "cell_type": "markdown",
   "metadata": {},
   "source": [
    "## 4.4.2 Strings brutas"
   ]
  },
  {
   "cell_type": "markdown",
   "metadata": {},
   "source": [
    "Um literal de cadeia bruta é precedido por `r` ou `R`, onde esses especificam que as sequências de escape na cadeia associada não são convertidas. O caractere de barra invertida é deixado na string:"
   ]
  },
  {
   "cell_type": "code",
   "execution_count": null,
   "metadata": {},
   "outputs": [],
   "source": [
    "print('Python \\nfácil')"
   ]
  },
  {
   "cell_type": "code",
   "execution_count": null,
   "metadata": {},
   "outputs": [],
   "source": [
    "print(r'Python \\ fácil' )"
   ]
  },
  {
   "cell_type": "code",
   "execution_count": null,
   "metadata": {},
   "outputs": [],
   "source": [
    "print('Python \\\\ fácil')"
   ]
  },
  {
   "cell_type": "code",
   "execution_count": null,
   "metadata": {},
   "outputs": [],
   "source": [
    "print(R'Python \\\\ fácil' ) "
   ]
  },
  {
   "cell_type": "markdown",
   "metadata": {},
   "source": [
    "## 4.4.3 Strings Triplas em citações"
   ]
  },
  {
   "cell_type": "markdown",
   "metadata": {},
   "source": [
    "Existe ainda outra maneira de delimitar sequências de caracteres no Python. As `cadeias de citação tripla` são delimitadas por grupos correspondentes de `três aspas simples` ou `três aspas duplas`. As sequências de `escape` ainda funcionam em `cadeias de caracteres triplas`, porémm com `aspas simples`, `aspas duplas` e `novas linhas` podem ser `incluídas` sem afeta-las, e isso fornece uma maneira conveniente de criar uma string com aspas simples e duplas:"
   ]
  },
  {
   "cell_type": "code",
   "execution_count": null,
   "metadata": {},
   "outputs": [],
   "source": [
    "print('''Esta string possui aspas simples(') e aspas duplas(\").''')"
   ]
  },
  {
   "cell_type": "code",
   "execution_count": null,
   "metadata": {},
   "outputs": [],
   "source": [
    "# Sequências de várias linhas\n",
    "print(\"\"\"Esta é uma \n",
    "sequência que se estende \n",
    "por várias linhas\"\"\")"
   ]
  },
  {
   "cell_type": "markdown",
   "metadata": {},
   "source": [
    "4.5 Tipo Booleano\n",
    "=============="
   ]
  },
  {
   "cell_type": "markdown",
   "metadata": {},
   "source": [
    "O Python 3 oferece objetos do tipo booleano, ou seja, objetos que retornam `True` ou `False`.\n",
    "Os objetos booleanos iguais a `True`, são verdadeiros e os iguais a `False`, são falsos, mas objetos não booleanos também podem ser avaliados no contexto booleano e determinados como verdadeiros ou falsos.\n",
    "\n",
    "Você aprenderá mais sobre a avaliação de objetos no contexto booleano quando estudarmos operadores lógicos no estudo sobre operadores e expressões em Python."
   ]
  },
  {
   "cell_type": "markdown",
   "metadata": {},
   "source": [
    "4.6 Funções incorporadas (Built-In)\n",
    "==========================="
   ]
  },
  {
   "cell_type": "markdown",
   "metadata": {},
   "source": [
    "O interpretador Python suporta muitas `funções integradas`, nós abordaremos muitos deles, a medida que surgem as necessidades.\n",
    "\n",
    "Por enquanto, segue uma breve visão geral, apenas para dar uma idéia do que está disponível. Sempre que quisermos saber mais sobre qualquer assunto relacionado a linugagem Python, aconselho a consultar a documentação do Python sobre o assunto desejado para obter mais detalhes."
   ]
  },
  {
   "cell_type": "markdown",
   "metadata": {},
   "source": [
    "<hr><hr>"
   ]
  },
  {
   "cell_type": "markdown",
   "metadata": {},
   "source": [
    "4.6.1 Matemática\n",
    "=============    "
   ]
  },
  {
   "cell_type": "markdown",
   "metadata": {},
   "source": [
    "<table class=\"table\">\n",
    "  <thead class=\"thead-dark\">\n",
    "    <tr>\n",
    "        <th scope=\"col\" style=\"text-align: center;\">#</th>\n",
    "        <th scope=\"col\" style=\"text-align: center;\">Função</th>\n",
    "        <th scope=\"col\" style=\"text-align: center;\">Descrição</th>\n",
    "    </tr>\n",
    "  </thead>\n",
    "  <tbody>\n",
    "    <tr>\n",
    "        <th scope=\"row\" style=\"text-align: center;\">1</th></td>\n",
    "        <td style=\"text-align: center;\">abs()</td>\n",
    "        <td style=\"text-align: justify;\">Retorna o Valor Absoluto de um número</td>\n",
    "    </tr>\n",
    "        <tr>\n",
    "            <th scope=\"row\" style=\"text-align: center;\">2</th>\n",
    "            <td style=\"text-align: center;\">divmod()</td>\n",
    "            <td style=\"text-align: justify;\">Retorna o quociente e o restante da divisão inteira</td>\n",
    "        </tr>\n",
    "            <tr>\n",
    "                <th scope=\"row\" style=\"text-align: center;\">3</th>\n",
    "                <td style=\"text-align: center;\">max()</td>\n",
    "                <td style=\"text-align: justify;\">Retorna o maior dos argumentos ou itens fornecidos em um iterável</td>\n",
    "            </tr>\n",
    "                <tr>\n",
    "                    <th scope=\"row\" style=\"text-align: center;\">4</th>\n",
    "                    <td style=\"text-align: center;\">min()</td>\n",
    "                    <td style=\"text-align: justify;\">Retorna o menor dos argumentos ou itens fornecidos em um iterável</td>\n",
    "                </tr>\n",
    "                    <tr>\n",
    "                        <th scope=\"row\" style=\"text-align: center;\">5</th>\n",
    "                        <td style=\"text-align: center;\">pow()</td>\n",
    "                        <td style=\"text-align: justify;\">Eleva um número a uma potência</td>\n",
    "                    </tr>\n",
    "                        <tr>\n",
    "                            <th scope=\"row\" style=\"text-align: center;\">6</th>\n",
    "                            <td style=\"text-align: center;\">round()</td>\n",
    "                            <td style=\"text-align: justify;\">Arredonda um valor de ponto flutuante</td>\n",
    "                        </tr>\n",
    "                            <tr>\n",
    "                                <th scope=\"row\" style=\"text-align: center;\">7</th>\n",
    "                                <td style=\"text-align: center;\">sum()</td>\n",
    "                                <td style=\"text-align: justify;\">Soma os ítens de um interválo</td>\n",
    "                            </tr>\n",
    "</tbody>\n",
    "</table>"
   ]
  },
  {
   "cell_type": "markdown",
   "metadata": {},
   "source": [
    "<hr><hr>"
   ]
  },
  {
   "cell_type": "markdown",
   "metadata": {},
   "source": [
    "4.6.2 Conversão de Tipo\n",
    "==================="
   ]
  },
  {
   "cell_type": "markdown",
   "metadata": {},
   "source": [
    "<table class=\"table\">\n",
    "  <thead class=\"thead-dark\">\n",
    "    <tr>\n",
    "        <th scope=\"col\" style=\"text-align: center;\">#</th>\n",
    "        <th scope=\"col\" style=\"text-align: center;\">Função</th>\n",
    "        <th scope=\"col\" style=\"text-align: center;\">Descrição</th>\n",
    "    </tr>\n",
    "  </thead>\n",
    "  <tbody>\n",
    "    <tr>\n",
    "        <th scope=\"row\" style=\"text-align: center;\">1</th>\n",
    "        <td style=\"text-align: center;\">ascii()</td>\n",
    "        <td style=\"text-align: justify;\">Retorna uma string contendo uma representação imprimível de um objeto</td>\n",
    "    </tr>\n",
    "        <tr>\n",
    "            <th scope=\"row\" style=\"text-align: center;\">2</th>\n",
    "            <td style=\"text-align: center;\">bin()</td>\n",
    "            <td style=\"text-align: justify;\">Converte um número inteiro em uma sequência binária</td>\n",
    "        </tr>\n",
    "            <tr>\n",
    "                <th scope=\"row\" style=\"text-align: center;\">3</th>\n",
    "                <td style=\"text-align: center;\">bool()</td>\n",
    "                <td style=\"text-align: justify;\">Converte um argumento em um valor booleano</td>\n",
    "            </tr>\n",
    "                <tr>\n",
    "                    <th scope=\"row\" style=\"text-align: center;\">4</th>\n",
    "                    <td style=\"text-align: center;\">chr()</td>\n",
    "                    <td style=\"text-align: justify;\">Retorna a representação de string do caractere fornecido pelo argumento inteiro</td>\n",
    "                </tr>\n",
    "                    <tr>\n",
    "                        <th scope=\"row\" style=\"text-align: center;\">5</th>\n",
    "                        <td style=\"text-align: center;\">complex()</td>\n",
    "                        <td style=\"text-align: justify;\">Retorna um número complexo construído a partir de argumentos</td>\n",
    "                    </tr>\n",
    "                        <tr>\n",
    "                            <th scope=\"row\" style=\"text-align: center;\">6</th>\n",
    "                            <td style=\"text-align: center;\">float()</td>\n",
    "                            <td style=\"text-align: justify;\">Retorna um objeto de ponto flutuante construído a partir de um número ou sequência</td>\n",
    "                        </tr>\n",
    "                            <tr>\n",
    "                                <th scope=\"row\" style=\"text-align: center;\">7</th>\n",
    "                                <td style=\"text-align: center;\">hex()</td>\n",
    "                                <td style=\"text-align: justify;\">Converte um número inteiro em uma sequência hexadecimal</td>\n",
    "                            </tr>\n",
    "                                <tr>\n",
    "                                    <th scope=\"row\" style=\"text-align: center;\">8</th>\n",
    "                                    <td style=\"text-align: center;\">int()</td>\n",
    "                                    <td style=\"text-align: justify;\">Retorna um objeto inteiro construído a partir de um número ou sequência</td>\n",
    "                                </tr>\n",
    "                                    <tr>\n",
    "                                        <th scope=\"row\" style=\"text-align: center;\">9</th>\n",
    "                                        <td style=\"text-align: center;\">oct()</td>\n",
    "                                        <td style=\"text-align: justify;\">Converte um número inteiro em uma cadeia octal</td>\n",
    "                                    </tr>\n",
    "                                        <tr>\n",
    "                                            <th scope=\"row\" style=\"text-align: center;\">10</th>\n",
    "                                            <td style=\"text-align: center;\">ord()</td>\n",
    "                                            <td style=\"text-align: justify;\">Retorna a representação inteira de um caractere</td>\n",
    "                                        </tr>\n",
    "                                            <tr>\n",
    "                                                <th scope=\"row\" style=\"text-align: center;\">11</th>\n",
    "                                                <td style=\"text-align: center;\">repr()</td>\n",
    "                                                <td style=\"text-align: justify;\">Retorna uma string contendo uma representação imprimível de um objeto</td>\n",
    "                                            </tr>\n",
    "                                                <tr>\n",
    "                                                    <th scope=\"row\" style=\"text-align: center;\">12</th>\n",
    "                                                    <td style=\"text-align: center;\">str()</td>\n",
    "                                                    <td style=\"text-align: justify;\">Retorna uma versão de string de um objeto</td>\n",
    "                                                </tr>\n",
    "                                                    <tr>\n",
    "                                                        <th scope=\"row\" style=\"text-align: center;\">13</th>\n",
    "                                                        <td style=\"text-align: center;\">type()</td>\n",
    "                                                        <td style=\"text-align: justify;\">Retorna o tipo de um objeto ou cria um novo objeto de tipo</td>\n",
    "                                                    </tr>\n",
    "</tbody>\n",
    "</table>"
   ]
  },
  {
   "cell_type": "markdown",
   "metadata": {},
   "source": [
    "<hr><hr>"
   ]
  },
  {
   "cell_type": "markdown",
   "metadata": {},
   "source": [
    "4.6.3 Iteraveis e Iteradores\n",
    "====================="
   ]
  },
  {
   "cell_type": "markdown",
   "metadata": {},
   "source": [
    "<table class=\"table\">\n",
    "  <thead class=\"thead-dark\">\n",
    "    <tr>\n",
    "        <th scope=\"col\" style=\"text-align: center;\">#</th>\n",
    "        <th scope=\"col\" style=\"text-align: center;\">Função</th>\n",
    "        <th scope=\"col\" style=\"text-align: center;\">Descrição</th>\n",
    "    </tr>\n",
    "  </thead>\n",
    "  <tbody>\n",
    "    <tr>\n",
    "        <th scope=\"row\" style=\"text-align: center;\">1</th>\n",
    "        <td style=\"text-align: center;\">all()</td>\n",
    "        <td style=\"text-align: justify;\">Retorna True se todos os elementos de um iterável forem verdadeiros</td>\n",
    "    </tr>\n",
    "        <tr>\n",
    "            <th scope=\"row\" style=\"text-align: center;\">2</th>\n",
    "            <td style=\"text-align: center;\">any()</td>\n",
    "            <td style=\"text-align: justify;\">Retorna Truese algum elemento de um iterável for verdadeiro</td>\n",
    "        </tr>\n",
    "            <tr>\n",
    "                <th scope=\"row\" style=\"text-align: center;\">3</th>\n",
    "                <td style=\"text-align: center;\">enumerate()</td>\n",
    "                <td style=\"text-align: justify;\">Retorna uma lista de tuplas contendo índices e valores de um iterável</td>\n",
    "            </tr>\n",
    "                <tr>\n",
    "                    <th scope=\"row\" style=\"text-align: center;\">4</th>\n",
    "                    <td style=\"text-align: center;\">filter()</td>\n",
    "                    <td style=\"text-align: justify;\">Filtra elementos de um iterável</td>\n",
    "                </tr>\n",
    "                    <tr>\n",
    "                        <th scope=\"row\" style=\"text-align: center;\">5</th>\n",
    "                        <td style=\"text-align: center;\">iter()</td>\n",
    "                        <td style=\"text-align: justify;\">Retorna um objeto interador</td>\n",
    "                    </tr>\n",
    "                        <tr>\n",
    "                            <th scope=\"row\" style=\"text-align: center;\">6</th>\n",
    "                            <td style=\"text-align: center;\">len()</td>\n",
    "                            <td style=\"text-align: justify;\">Retorna o comprimento de um objeto</td>\n",
    "                        </tr>\n",
    "                            <tr>\n",
    "                                <th scope=\"row\" style=\"text-align: center;\">7</th>\n",
    "                                <td style=\"text-align: center;\">map()</td>\n",
    "                                <td style=\"text-align: justify;\">Aplica uma função a todos os itens de um iterável</td>\n",
    "                            </tr>\n",
    "                                <tr>\n",
    "                                    <th scope=\"row\" style=\"text-align: center;\">8</th>\n",
    "                                    <td style=\"text-align: center;\">next()</td>\n",
    "                                    <td style=\"text-align: justify;\">Recupera o próximo item de um iterador</td>\n",
    "                                </tr>\n",
    "                                    <tr>\n",
    "                                        <th scope=\"row\" style=\"text-align: center;\">9</th>\n",
    "                                        <td style=\"text-align: center;\">range()</td>\n",
    "                                        <td style=\"text-align: justify;\">Gera um intervalo de valores inteiros</td>\n",
    "                                    </tr>\n",
    "                                        <tr>\n",
    "                                            <th scope=\"row\" style=\"text-align: center;\">10</th>\n",
    "                                            <td style=\"text-align: center;\">reversed()</td>\n",
    "                                            <td style=\"text-align: justify;\">Retorna um iterador reverso</td>\n",
    "                                        </tr>\n",
    "                                            <tr>\n",
    "                                                <th scope=\"row\" style=\"text-align: center;\">11</th>\n",
    "                                                <td style=\"text-align: center;\">slice()</td>\n",
    "                                                <td style=\"text-align: justify;\">Retorna um sliceobjeto</td>\n",
    "                                            </tr>\n",
    "                                                <tr>\n",
    "                                                    <th scope=\"row\" style=\"text-align: center;\">12</th>\n",
    "                                                    <td style=\"text-align: center;\">sorted()</td>\n",
    "                                                    <td style=\"text-align: justify;\">Retorna uma lista classificada de um iterável</td>\n",
    "                                                </tr>\n",
    "                                                    <tr>\n",
    "                                                        <th scope=\"row\" style=\"text-align: center;\">13</th>\n",
    "                                                        <td style=\"text-align: center;\">zip()</td>\n",
    "                                                        <td style=\"text-align: justify;\">Cria um iterador que agrega elementos de iterables</td>\n",
    "                                                    </tr>\n",
    "    </tbody>\n",
    "</table>"
   ]
  },
  {
   "cell_type": "markdown",
   "metadata": {},
   "source": [
    "<hr><hr>"
   ]
  },
  {
   "cell_type": "markdown",
   "metadata": {},
   "source": [
    "4.6.4 Tipo de dados compostos\n",
    "========================    "
   ]
  },
  {
   "cell_type": "markdown",
   "metadata": {},
   "source": [
    "<table class=\"table\">\n",
    "  <thead class=\"thead-dark\">\n",
    "    <tr>\n",
    "        <th scope=\"col\" style=\"text-align: center;\">#</th>\n",
    "        <th scope=\"col\" style=\"text-align: center;\">Função</th>\n",
    "        <th scope=\"col\" style=\"text-align: center;\">Descrição</th>\n",
    "    </tr>\n",
    "  </thead>\n",
    "  <tbody>\n",
    "    <tr>\n",
    "        <th scope=\"row\" style=\"text-align: center;\">1</th>\n",
    "        <td style=\"text-align: center;\">bytearray()</td>\n",
    "        <td style=\"text-align: left;\">Cria e retorna um objeto da bytearray class</td>\n",
    "    </tr>\n",
    "        <tr>\n",
    "            <th scope=\"row\" style=\"text-align: center;\">2</th>\n",
    "            <td style=\"text-align: center;\">bytes()</td>\n",
    "            <td style=\"text-align: left;\">Cria e retorna um objeto bytes</td>\n",
    "        </tr>\n",
    "            <tr>\n",
    "                <th scope=\"row\" style=\"text-align: center;\">3</th>\n",
    "                <td style=\"text-align: center;\">dicts()</td>\n",
    "                <td style=\"text-align: left;\">Cria um objeto dicionário</td>\n",
    "            </tr>\n",
    "                <tr>\n",
    "                    <th scope=\"row\" style=\"text-align: center;\">4</th>\n",
    "                    <td style=\"text-align: center;\">frozenset()</td>\n",
    "                    <td style=\"text-align: left;\">Cria objeto frozenset</td>\n",
    "                </tr>\n",
    "                    <tr>\n",
    "                        <th scope=\"row\" style=\"text-align: center;\">5</th>\n",
    "                        <td style=\"text-align: center;\">list()</td>\n",
    "                        <td style=\"text-align: left;\">Constroi um objeto lista</td>\n",
    "                    </tr>\n",
    "                        <tr>\n",
    "                            <th scope=\"row\" style=\"text-align: center;\">6</th>\n",
    "                            <td style=\"text-align: center;\">object()</td>\n",
    "                            <td style=\"text-align: left;\">Retorna um novo objeto sem características</td>\n",
    "                        </tr>\n",
    "                            <tr>\n",
    "                                <th scope=\"row\" style=\"text-align: center;\">7</th>\n",
    "                                <td style=\"text-align: center;\">set()</td>\n",
    "                                <td style=\"text-align: left;\">Cria um objeto set</td>\n",
    "                            </tr>\n",
    "                                <tr>\n",
    "                                    <th scope=\"row\" style=\"text-align: center;\">8</th>\n",
    "                                    <td style=\"text-align: center;\">tuple()</td>\n",
    "                                    <td style=\"text-align: left;\">Cria um objeto tupla</td>\n",
    "                                </tr>\n",
    "</tbody>\n",
    "</table>"
   ]
  },
  {
   "cell_type": "markdown",
   "metadata": {},
   "source": [
    "<hr><hr>"
   ]
  },
  {
   "cell_type": "markdown",
   "metadata": {},
   "source": [
    "4.6.5 Classes, Atributos e Herança\n",
    "===========================    "
   ]
  },
  {
   "cell_type": "markdown",
   "metadata": {},
   "source": [
    "<table class=\"table\">\n",
    "  <thead class=\"thead-dark\">\n",
    "    <tr>\n",
    "        <th scope=\"col\" style=\"text-align: center;\">#</th>\n",
    "        <th scope=\"col\" style=\"text-align: center;\">Função</th>\n",
    "        <th scope=\"col\" style=\"text-align: center;\">Descrição</th>\n",
    "    </tr>\n",
    "  </thead>\n",
    "  <tbody>\n",
    "    <tr>\n",
    "        <th scope=\"row\" style=\"text-align: center;\">1</th>\n",
    "        <td style=\"text-align: center;\">classmethod()</td>\n",
    "        <td style=\"text-align: justify;\">Retorna um método de classe para uma função</td>\n",
    "    </tr>\n",
    "        <tr>\n",
    "            <th scope=\"row\" style=\"text-align: center;\">2</th>\n",
    "            <td style=\"text-align: center;\">delattr()</td>\n",
    "            <td style=\"text-align: justify;\">Exclui um atributo de um objeto</td>\n",
    "        </tr>\n",
    "            <tr>\n",
    "                <th scope=\"row\" style=\"text-align: center;\">3</th>\n",
    "                <td style=\"text-align: center;\">getattr()</td>\n",
    "                <td style=\"text-align: justify;\">Retorna o valor de um atributo nomeado de um objeto</td>\n",
    "            </tr>\n",
    "                <tr>\n",
    "                    <th scope=\"row\" style=\"text-align: center;\">4</th>\n",
    "                    <td style=\"text-align: center;\">hasattr()</td>\n",
    "                    <td style=\"text-align: justify;\">Retorna True se um objeto tem um determinado atributo</td>\n",
    "                </tr>\n",
    "                    <tr>\n",
    "                        <th scope=\"row\" style=\"text-align: center;\">5</th>\n",
    "                        <td style=\"text-align: center;\">isinstance()</td>\n",
    "                        <td style=\"text-align: justify;\">Determina se um objeto é uma instância de uma determinada classe</td>\n",
    "                    </tr>\n",
    "                        <tr>\n",
    "                            <th scope=\"row\" style=\"text-align: center;\">6</th>\n",
    "                            <td style=\"text-align: center;\">issubclass()</td>\n",
    "                            <td style=\"text-align: justify;\">Determina se uma classe é uma subclasse de uma determinada classe</td>\n",
    "                        </tr>\n",
    "                            <tr>\n",
    "                                <th scope=\"row\" style=\"text-align: center;\">7</th>\n",
    "                                <td style=\"text-align: center;\">property()</td>\n",
    "                                <td style=\"text-align: justify;\">Retorna um valor da propriedade de uma classe</td>\n",
    "                            </tr>\n",
    "                            <tr>\n",
    "                                <th scope=\"row\" style=\"text-align: center;\">8</th>\n",
    "                                <td style=\"text-align: center;\">setattr()</td>\n",
    "                                <td style=\"text-align: justify;\">Define o valor de um atributo nomeado de um objeto</td>\n",
    "                            </tr>\n",
    "                                <tr>\n",
    "                                    <th scope=\"row\" style=\"text-align: center;\">9</th>\n",
    "                                    <td style=\"text-align: center;\">super()</td>\n",
    "                                    <td style=\"text-align: justify;\">Retorna um objeto proxy que delega chamadas de método a uma classe pai ou irmã</td>\n",
    "                                </tr>\n",
    "</tbody>\n",
    "</table>"
   ]
  },
  {
   "cell_type": "markdown",
   "metadata": {},
   "source": [
    "<hr><hr>"
   ]
  },
  {
   "cell_type": "markdown",
   "metadata": {},
   "source": [
    "4.6.6 Entrada / saída\n",
    "================   "
   ]
  },
  {
   "cell_type": "markdown",
   "metadata": {},
   "source": [
    "<table class=\"table\">\n",
    "  <thead class=\"thead-dark\">\n",
    "    <tr>\n",
    "        <th scope=\"col\" style=\"text-align: center;\">#</th>\n",
    "        <th scope=\"col\" style=\"text-align: center;\">Função</th>\n",
    "        <th scope=\"col\" style=\"text-align: center;\">Descrição</th>\n",
    "    </tr>\n",
    "  </thead>\n",
    "  <tbody>\n",
    "    <tr>\n",
    "        <th scope=\"row\" style=\"text-align: center;\">1</th>\n",
    "        <td style=\"text-align: center;\">format()</td>\n",
    "        <td style=\"text-align: justify;\">Converte um valor em uma representação formatada</td>\n",
    "    </tr>\n",
    "        <tr>\n",
    "            <th scope=\"row\" style=\"text-align: center;\">2</th>\n",
    "            <td style=\"text-align: center;\">input()</td>\n",
    "            <td style=\"text-align: justify;\">Lê a entrada do console</td>\n",
    "        </tr>\n",
    "            <tr>\n",
    "                <th scope=\"row\" style=\"text-align: center;\">3</th>\n",
    "                <td style=\"text-align: center;\">open()</td>\n",
    "                <td style=\"text-align: justify;\">Abre um arquivo e retorna um objeto de arquivo</td>\n",
    "        </tr>\n",
    "            <tr>\n",
    "                <th scope=\"row\" style=\"text-align: center;\">4</th>\n",
    "                <td style=\"text-align: center;\">print()</td>\n",
    "                <td style=\"text-align: justify;\">Imprime em um fluxo de texto ou no console</td>\n",
    "            </tr>\n",
    "</tbody>\n",
    "</table>"
   ]
  },
  {
   "cell_type": "markdown",
   "metadata": {},
   "source": [
    "<hr><hr>"
   ]
  },
  {
   "cell_type": "markdown",
   "metadata": {},
   "source": [
    "4.6.7 Variáveis, referências e escopo\n",
    "=============================    "
   ]
  },
  {
   "cell_type": "markdown",
   "metadata": {},
   "source": [
    "<table class=\"table\">\n",
    "  <thead class=\"thead-dark\">\n",
    "    <tr>\n",
    "        <th scope=\"col\" style=\"text-align: center;\">#</th>\n",
    "        <th scope=\"col\" style=\"text-align: center;\">Função</th>\n",
    "        <th scope=\"col\" style=\"text-align: center;\">Descrição</th>\n",
    "    </tr>\n",
    "  </thead>\n",
    "  <tbody>\n",
    "    <tr>\n",
    "        <th scope=\"row\" style=\"text-align: center;\">1</th>\n",
    "        <td style=\"text-align: center;\">dir()</td>\n",
    "        <td style=\"text-align: justify;\">Retorna uma lista de nomes no escopo local atual ou uma lista de atributos do objeto</td>\n",
    "    </tr>\n",
    "        <tr>\n",
    "            <th scope=\"row\" style=\"text-align: center;\">2</th>\n",
    "            <td style=\"text-align: center;\">globals()</td>\n",
    "            <td style=\"text-align: justify;\">Retorna um dicionário que representa a tabela de símbolos global atual</td>\n",
    "        </tr>\n",
    "            <tr>\n",
    "                <th scope=\"row\" style=\"text-align: center;\">3</th>\n",
    "                <td style=\"text-align: center;\">id()</td>\n",
    "                <td style=\"text-align: justify;\">Retorna a identidade de um objeto</td>\n",
    "            </tr>\n",
    "                <tr>\n",
    "                    <th scope=\"row\" style=\"text-align: center;\">4</th>\n",
    "                    <td style=\"text-align: center;\">locals()</td>\n",
    "                    <td style=\"text-align: justify;\">Atualiza e retorna um dicionário que representa a tabela de símbolos local atual</td>\n",
    "                </tr>\n",
    "                    <tr>\n",
    "                        <th scope=\"row\" style=\"text-align: center;\">5</th>\n",
    "                        <td style=\"text-align: center;\">locals()</td>\n",
    "                        <td style=\"text-align: justify;\">Retorna um atributo __dict__ para um módulo, classe ou objeto</td>\n",
    "                    </tr>\n",
    "</tbody>\n",
    "</table>"
   ]
  },
  {
   "cell_type": "markdown",
   "metadata": {},
   "source": [
    "<hr><hr>"
   ]
  },
  {
   "cell_type": "markdown",
   "metadata": {},
   "source": [
    "4.6.8 Diversos\n",
    "==========="
   ]
  },
  {
   "cell_type": "markdown",
   "metadata": {},
   "source": [
    "<table class=\"table\">\n",
    "  <thead class=\"thead-dark\">\n",
    "    <tr>\n",
    "        <th scope=\"col\" style=\"text-align: center;\">#</th>\n",
    "        <th scope=\"col\" style=\"text-align: center;\">Função</th>\n",
    "        <th scope=\"col\" style=\"text-align: center;\">Descrição</th>\n",
    "    </tr>\n",
    "  </thead>\n",
    "  <tbody>\n",
    "    <tr>\n",
    "        <th scope=\"row\" style=\"text-align: center;\">1</th>\n",
    "        <td style=\"text-align: center;\">callable()</td>\n",
    "        <td style=\"text-align: justify;\">Retorna True se o objeto for chamado</td>\n",
    "    </tr>\n",
    "        <tr>\n",
    "            <th scope=\"row\" style=\"text-align: center;\">2</th>\n",
    "            <td style=\"text-align: center;\">compile()</td>\n",
    "            <td style=\"text-align: justify;\">Compila a origem em um código ou objeto AST</td>\n",
    "        </tr>\n",
    "            <tr>\n",
    "                <th scope=\"row\" style=\"text-align: center;\">3</th>\n",
    "                <td style=\"text-align: center;\">eval()</td>\n",
    "                <td style=\"text-align: justify;\">Avalia uma expressão Python</td>\n",
    "            </tr>\n",
    "                <tr>\n",
    "                    <th scope=\"row\" style=\"text-align: center;\">4</th>\n",
    "                    <td style=\"text-align: center;\">exec()</td>\n",
    "                    <td style=\"text-align: justify;\">Implementa a execução dinâmica do código Python</td>\n",
    "                </tr>\n",
    "                    <tr>\n",
    "                        <th scope=\"row\" style=\"text-align: center;\">5</th>\n",
    "                        <td style=\"text-align: center;\">hash()</td>\n",
    "                        <td style=\"text-align: justify;\">Retorna o valor do hash de um objeto</td>\n",
    "                    </tr>\n",
    "                        <tr>\n",
    "                            <th scope=\"row\" style=\"text-align: center;\">6</th>\n",
    "                            <td style=\"text-align: center;\">help()</td>\n",
    "                            <td style=\"text-align: justify;\">Invoca o sistema de ajuda interno</td>\n",
    "                        </tr>\n",
    "                            <tr>\n",
    "                                <th scope=\"row\" style=\"text-align: center;\">7</th>\n",
    "                                <td style=\"text-align: center;\">memoryview()</td>\n",
    "                                <td style=\"text-align: justify;\">Retorna um objeto de exibição de memória</td>\n",
    "                            </tr>\n",
    "                                <tr>\n",
    "                                    <th scope=\"row\" style=\"text-align: center;\">8</th>\n",
    "                                    <td style=\"text-align: center;\">staticmethod()</td>\n",
    "                                    <td style=\"text-align: justify;\">Retorna um método estático para uma função</td>\n",
    "                                </tr>\n",
    "                                    <tr>\n",
    "                                        <th scope=\"row\" style=\"text-align: center;\">9</th>\n",
    "                                        <td style=\"text-align: center;\">__import__()</td>\n",
    "                                        <td style=\"text-align: justify;\">Invocado pela importdeclaração</td>\n",
    "                                    </tr>\n",
    "</tbody>\n",
    "</table>"
   ]
  },
  {
   "cell_type": "markdown",
   "metadata": {},
   "source": [
    "<hr><hr>"
   ]
  },
  {
   "cell_type": "markdown",
   "metadata": {},
   "source": [
    "Conclusão\n",
    "========"
   ]
  },
  {
   "cell_type": "markdown",
   "metadata": {},
   "source": [
    "Aprendemos neste notebook sobre os `tipos e funções de dados internos` que o Python fornece.\n",
    "Os exemplos dados até agora manipularam e exibiram apenas valores constantes. Na maioria dos programas, geralmente você deseja criar objetos que mudam de valor à medida que o programa é executado.\n",
    "\n",
    "No próximo notebook iremos aprender sobre variáveis Python."
   ]
  },
  {
   "cell_type": "markdown",
   "metadata": {},
   "source": [
    "### Obrigado e bons estudos"
   ]
  },
  {
   "cell_type": "code",
   "execution_count": null,
   "metadata": {},
   "outputs": [],
   "source": []
  }
 ],
 "metadata": {
  "anaconda-cloud": {},
  "kernelspec": {
   "display_name": "Python 3",
   "language": "python",
   "name": "python3"
  },
  "language_info": {
   "codemirror_mode": {
    "name": "ipython",
    "version": 3
   },
   "file_extension": ".py",
   "mimetype": "text/x-python",
   "name": "python",
   "nbconvert_exporter": "python",
   "pygments_lexer": "ipython3",
   "version": "3.7.3"
  }
 },
 "nbformat": 4,
 "nbformat_minor": 1
}
