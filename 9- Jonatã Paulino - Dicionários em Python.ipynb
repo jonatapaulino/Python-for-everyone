{
 "cells": [
  {
   "cell_type": "markdown",
   "metadata": {},
   "source": [
    "# <font color='green'>Jonatã Paulino - Python Fácil</font>\n",
    "<img src='pimagem5t.png' alt=Jonatã Paulino size=10x10 width=90 height=90 align='left'>"
   ]
  },
  {
   "cell_type": "markdown",
   "metadata": {},
   "source": [
    "9- Dicionários em Python\n",
    "==================\n",
    "* __Índice__\n",
    "* 9.1 Definindo um Dicionário\n",
    "* 9.1 Acessando os valores do dicionário\n",
    "* 9.3 Chaves de dicionário versus índices de lista\n",
    "* 9.4 Construindo um Dicionário Incrementalmente\n",
    "* 9.5 Restrições em chaves de dicionário\n",
    "* 9.6 Restrições aos valores do dicionário\n",
    "* 9.7 Operadores e Funções Internas\n",
    "* 9.8 Métodos de dicionário incorporados\n",
    "   ```python\n",
    "    + d.clear ()\n",
    "    + d.get (<key> [, <default>])\n",
    "    + d.items ()\n",
    "    + d.keys ()\n",
    "    + d.values ()\n",
    "    + d.pop (<key> [, <default>])\n",
    "    + d.popitem ()\n",
    "    + d.update (<obj>)\n",
    "   ```\n",
    "+ Conclusão"
   ]
  },
  {
   "cell_type": "markdown",
   "metadata": {},
   "source": [
    "9.1 Definindo um Dicionário\n",
    "======================"
   ]
  },
  {
   "cell_type": "markdown",
   "metadata": {},
   "source": [
    "__Dicionários e listas compartilham as seguintes características:__\n",
    "* Ambos são mutáveis.\n",
    "* Ambos são dinâmicos.\n",
    "* Ambos podem ser aninhados. Uma lista pode conter outra lista. Um dicionário pode conter outro dicionário. Um dicionário também pode conter uma lista e vice-versa.\n",
    "\n",
    "__Os dicionários diferem das listas principalmente em como os elementos são acessados:__\n",
    "* Os elementos da lista são acessados por sua posição na lista, via indexação.\n",
    "* Os elementos do dicionário são acessados por meio de chaves."
   ]
  },
  {
   "cell_type": "markdown",
   "metadata": {},
   "source": [
    "O `dicionário` é uma estrutura de dados do Python que em outras linguagens é conhecida como `array`. Um `dicionário` consiste em uma `coleção de pares` de `valores-chave`. Cada par de `valores-chave` mapeia a `chave` para seu `valor` associado.\n",
    "Você pode definir um `dicionário` colocando uma `lista` separada por vírgulas de pares de `valores-chave` entre chaves `({ })`, usando também dois pontos `(:)` para separar cada `chave` do seu `valor` associado:"
   ]
  },
  {
   "cell_type": "markdown",
   "metadata": {},
   "source": [
    "**Sintax:**\n",
    "```Python\n",
    "d = {\n",
    "    <chave>: <valor>\n",
    "    <chave>: <valor>\n",
    "    .\n",
    "    .\n",
    "    .\n",
    "}\n",
    "```"
   ]
  },
  {
   "cell_type": "markdown",
   "metadata": {},
   "source": [
    "Vamos definir um dicionário com suas chaves e valores, onde as chaves serão representadas pelos `nomes de clubes de futebol`, e os valores serão representados `pelas suas respectivas cidades a que pertencem`."
   ]
  },
  {
   "cell_type": "code",
   "execution_count": null,
   "metadata": {},
   "outputs": [],
   "source": [
    "# Primeira maneira de criar um dicionário\n",
    "clubes_futebol1 = {\n",
    "        'Flamengo'   : 'Rio de Janeiro',\n",
    "        'Remo'       : 'Belém do Pará',\n",
    "        'Grêmio'     : 'Rio Grande do Sul',\n",
    "        'Bragantino' : 'Bragança Pará'\n",
    "}"
   ]
  },
  {
   "cell_type": "code",
   "execution_count": null,
   "metadata": {},
   "outputs": [],
   "source": [
    "clubes_futebol1"
   ]
  },
  {
   "cell_type": "markdown",
   "metadata": {},
   "source": [
    "Uma outra maneira de construir um dicionário é com o método `dict( )`. Os argumentos dentro de `dict( )` devem ser uma sequência de pares de valores-chave. Uma lista de tuplas funciona para este tipo de construção de dicionário:"
   ]
  },
  {
   "cell_type": "code",
   "execution_count": null,
   "metadata": {},
   "outputs": [],
   "source": [
    "# Segunda maneira de criar um dicionário\n",
    "clubes_futebol2 = dict ([\n",
    "        ('Flamengo'   , 'Rio de Janeiro'),\n",
    "        ('Remo'       , 'Belém do Pará'),\n",
    "        ('Grêmio'     , 'Rio Grande do Sul'),\n",
    "        ('Bragantino' , 'Bragança Pará')\n",
    "])"
   ]
  },
  {
   "cell_type": "code",
   "execution_count": null,
   "metadata": {},
   "outputs": [],
   "source": [
    "clubes_futebol2"
   ]
  },
  {
   "cell_type": "markdown",
   "metadata": {},
   "source": [
    "Se os valores-chave forem `cadeias simples`, eles podem ser especificados como `argumentos-chave`:"
   ]
  },
  {
   "cell_type": "code",
   "execution_count": null,
   "metadata": {},
   "outputs": [],
   "source": [
    "# Terceira maneira de criar um dicionário\n",
    "clubes_futebol3 = dict (\n",
    "        Flamengo   = 'Rio de Janeiro',\n",
    "        Remo       = 'Belém do Pará',\n",
    "        Grêmio     = 'Rio Grande do Sul',\n",
    "        Bragantino = 'Bragança Pará'\n",
    ")"
   ]
  },
  {
   "cell_type": "code",
   "execution_count": null,
   "metadata": {},
   "outputs": [],
   "source": [
    "# Vamos exibir o dicionario\n",
    "clubes_futebol3"
   ]
  },
  {
   "cell_type": "code",
   "execution_count": null,
   "metadata": {},
   "outputs": [],
   "source": [
    "type(clubes_futebol1)"
   ]
  },
  {
   "cell_type": "markdown",
   "metadata": {},
   "source": [
    "__Nota:__ - Elementos de um `dicionário` em Python `não` são acessados por índice numérico."
   ]
  },
  {
   "cell_type": "code",
   "execution_count": null,
   "metadata": {},
   "outputs": [],
   "source": [
    "clubes_futebol3[1]"
   ]
  },
  {
   "cell_type": "markdown",
   "metadata": {},
   "source": [
    "9.1 Acessando os valores do dicionário\n",
    "=============================="
   ]
  },
  {
   "cell_type": "markdown",
   "metadata": {},
   "source": [
    "De alguma forma os `elementos de um dicionário` devem estar acessíveis, se não podemos acessa-los por índice numérico, então de que forma podemos podemos?\n",
    "Podemos recuperar um valor de um dicionário atravéz da especificação de sua chave, colocando-a entre colchetes `([ ])`."
   ]
  },
  {
   "cell_type": "code",
   "execution_count": null,
   "metadata": {},
   "outputs": [],
   "source": [
    "clubes_futebol1 ['Remo']"
   ]
  },
  {
   "cell_type": "code",
   "execution_count": null,
   "metadata": {},
   "outputs": [],
   "source": [
    "clubes_futebol1 ['Flamengo']"
   ]
  },
  {
   "cell_type": "markdown",
   "metadata": {},
   "source": [
    "Se quisermos `adicionar` uma entrada a um dicionário, simplesmente atribuimos uma nova `chave` ao `valor`."
   ]
  },
  {
   "cell_type": "code",
   "execution_count": null,
   "metadata": {},
   "outputs": [],
   "source": [
    "clubes_futebol3 ['Renegados'] = 'Ufra'"
   ]
  },
  {
   "cell_type": "code",
   "execution_count": null,
   "metadata": {},
   "outputs": [],
   "source": [
    "clubes_futebol3"
   ]
  },
  {
   "cell_type": "markdown",
   "metadata": {},
   "source": [
    "Se quisermos `excluir` uma entrada do dicionário?."
   ]
  },
  {
   "cell_type": "code",
   "execution_count": null,
   "metadata": {},
   "outputs": [],
   "source": [
    "del clubes_futebol3 ['Renegados'] "
   ]
  },
  {
   "cell_type": "code",
   "execution_count": null,
   "metadata": {},
   "outputs": [],
   "source": [
    "clubes_futebol3"
   ]
  },
  {
   "cell_type": "markdown",
   "metadata": {},
   "source": [
    "9.3 Chaves de dicionário versus índices de lista\n",
    "====================================="
   ]
  },
  {
   "cell_type": "markdown",
   "metadata": {},
   "source": [
    "Um objeto de qualquer tipo imutável pode ser usado como uma chave de dicionário. Assim, não há motivo para você não usar números inteiros:"
   ]
  },
  {
   "cell_type": "code",
   "execution_count": null,
   "metadata": {},
   "outputs": [],
   "source": [
    "d = {0: 'a', 1: 'b', 2: 'c', 3: 'd'}"
   ]
  },
  {
   "cell_type": "code",
   "execution_count": null,
   "metadata": {},
   "outputs": [],
   "source": [
    "d"
   ]
  },
  {
   "cell_type": "code",
   "execution_count": null,
   "metadata": {},
   "outputs": [],
   "source": [
    "d[0]"
   ]
  },
  {
   "cell_type": "code",
   "execution_count": null,
   "metadata": {},
   "outputs": [],
   "source": [
    "d[2]"
   ]
  },
  {
   "cell_type": "markdown",
   "metadata": {},
   "source": [
    "Quando usamos `d[0]` e `d[2]`, os números entre colchetes aparecem como se fossem índices, porém eles não têm nada a ver com a ordem dos itens no dicionário. O Python está interpretando-as como chaves de dicionário. Se você definir esse mesmo dicionário na ordem inversa, ainda obterá os mesmos valores usando as mesmas chaves:\n",
    "\n",
    "* A sintax parece semelhante, porém, não podemos tratar um `dicionário` como uma `lista`."
   ]
  },
  {
   "cell_type": "code",
   "execution_count": null,
   "metadata": {},
   "outputs": [],
   "source": [
    "d = {3: 'd', 2: 'c', 1: 'b', 0: 'a'} "
   ]
  },
  {
   "cell_type": "code",
   "execution_count": null,
   "metadata": {},
   "outputs": [],
   "source": [
    "d[0]"
   ]
  },
  {
   "cell_type": "code",
   "execution_count": null,
   "metadata": {},
   "outputs": [],
   "source": [
    "d[2]"
   ]
  },
  {
   "cell_type": "code",
   "execution_count": null,
   "metadata": {},
   "outputs": [],
   "source": [
    "type(d)"
   ]
  },
  {
   "cell_type": "markdown",
   "metadata": {},
   "source": [
    "9.4 Construindo um Dicionário Incrementalmente\n",
    "======================================"
   ]
  },
  {
   "cell_type": "markdown",
   "metadata": {},
   "source": [
    "Definir um `dicionário` usando chaves e uma lista de pares de `valores-chave`, como estudamos anteriormente, é bom, se você conhecer todas as chaves e valores antecipadamente, mas e se você quiser `construir um dicionário na hora`em que estiver construindo seu código?\n",
    "Você pode começar criando um `dicionário vazio`, especificado por `chaves vazias` e então adicionar novas chaves e valores um de cada vez:"
   ]
  },
  {
   "cell_type": "code",
   "execution_count": null,
   "metadata": {},
   "outputs": [],
   "source": [
    "pessoa = {}\n",
    "type(pessoa)"
   ]
  },
  {
   "cell_type": "code",
   "execution_count": null,
   "metadata": {},
   "outputs": [],
   "source": [
    "pessoa ['nome'] = 'Vinícius'\n",
    "pessoa ['sobre_nome'] = 'Paulino'\n",
    "pessoa ['idade'] = 13\n",
    "pessoa ['filhos'] = ['José', 'Lucio', 'Zefinha']\n",
    "pessoa ['animais'] = {'Cão' : 'Ariel', 'Gato': 'Frurustreco'}"
   ]
  },
  {
   "cell_type": "code",
   "execution_count": null,
   "metadata": {},
   "outputs": [],
   "source": [
    "pessoa"
   ]
  },
  {
   "cell_type": "code",
   "execution_count": null,
   "metadata": {},
   "outputs": [],
   "source": [
    "pessoa ['nome']"
   ]
  },
  {
   "cell_type": "code",
   "execution_count": null,
   "metadata": {},
   "outputs": [],
   "source": [
    "pessoa ['idade']"
   ]
  },
  {
   "cell_type": "code",
   "execution_count": null,
   "metadata": {},
   "outputs": [],
   "source": [
    "pessoa ['filhos']"
   ]
  },
  {
   "cell_type": "code",
   "execution_count": null,
   "metadata": {},
   "outputs": [],
   "source": [
    "pessoa ['animais']"
   ]
  },
  {
   "cell_type": "markdown",
   "metadata": {},
   "source": [
    "* A recuperação dos valores na `sub-lista` ou no `sub-dicionário` requer um `índice ou chave adicional`:"
   ]
  },
  {
   "cell_type": "code",
   "execution_count": null,
   "metadata": {},
   "outputs": [],
   "source": [
    "pessoa ['filhos'] [-1]"
   ]
  },
  {
   "cell_type": "code",
   "execution_count": null,
   "metadata": {},
   "outputs": [],
   "source": [
    "pessoa ['animais'] ['Cão']"
   ]
  },
  {
   "cell_type": "markdown",
   "metadata": {},
   "source": [
    "* Os `dicionários` suportam `valores` de tipos diversos, assim como as `chaves` também suportam `valores` diferentes:\n",
    "\n",
    "Usando o exemplo a baixo, podemos perceber que uma das chaves é um `inteiro`, uma é um `float` e uma outra é `booleana`. Isso seria útil? Geralmente nunca se sabe.\n",
    "\n",
    "__Nota:__ - Os dicionários em Python são realmente muito versáteis."
   ]
  },
  {
   "cell_type": "code",
   "execution_count": null,
   "metadata": {},
   "outputs": [],
   "source": [
    "dict = {42: 'aaa', 2.78: 'bbb', 'Verdadeiro': 'ccc'}"
   ]
  },
  {
   "cell_type": "code",
   "execution_count": null,
   "metadata": {},
   "outputs": [],
   "source": [
    "dict"
   ]
  },
  {
   "cell_type": "markdown",
   "metadata": {},
   "source": [
    "9.5 Restrições em chaves de dicionário\n",
    "==============================="
   ]
  },
  {
   "cell_type": "markdown",
   "metadata": {},
   "source": [
    "Quase todo tipo de valor pode ser usado como uma chave de dicionário no Python. Vimos um exemplo, em que `integer, float e objetos booleanos` são usados como chaves. Podemos até usar funções internas em um dicionário, porém há `restrições` que precisamos atentar."
   ]
  },
  {
   "cell_type": "code",
   "execution_count": null,
   "metadata": {},
   "outputs": [],
   "source": [
    "# Usando funções internas.\n",
    "d = {int: 1, bool: 3} "
   ]
  },
  {
   "cell_type": "code",
   "execution_count": null,
   "metadata": {},
   "outputs": [],
   "source": [
    "d"
   ]
  },
  {
   "cell_type": "code",
   "execution_count": null,
   "metadata": {},
   "outputs": [],
   "source": [
    "d[int]"
   ]
  },
  {
   "cell_type": "code",
   "execution_count": null,
   "metadata": {},
   "outputs": [],
   "source": [
    "d[bool]"
   ]
  },
  {
   "cell_type": "markdown",
   "metadata": {},
   "source": [
    "__Restrição 1__ - Uma determinada chave só pode aparecer uma vez em um dicionário, por isso, se for especificado uma chave uma segunda vez durante a criação de um dicionário, a segunda ocorrência substituirá a primeira."
   ]
  },
  {
   "cell_type": "code",
   "execution_count": null,
   "metadata": {},
   "outputs": [],
   "source": [
    "# Atribuindo um valor a uma chave existente.\n",
    "clubes_futebol1 = {\n",
    "        'Flamengo'   : 'Rio de Janeiro',\n",
    "        'Remo'       : 'Belém do Pará',\n",
    "        'Grêmio'     : 'Rio Grande do Sul',\n",
    "        'Bragantino' : 'Bragança Pará'\n",
    "}"
   ]
  },
  {
   "cell_type": "code",
   "execution_count": null,
   "metadata": {},
   "outputs": [],
   "source": [
    "clubes_futebol1 ['Grêmio'] = 'Abaeté' "
   ]
  },
  {
   "cell_type": "code",
   "execution_count": null,
   "metadata": {},
   "outputs": [],
   "source": [
    "# Substituiu o valor \"Rio grande do sul por abaeté\"\n",
    "clubes_futebol1"
   ]
  },
  {
   "cell_type": "markdown",
   "metadata": {},
   "source": [
    "__Restrição 2__ - Uma `chave` de dicionário deve ser de um `típo imutável`, como vimos anteriormente - `int`, `bool` - , inclusive a chave pode ser uma `tupla`, pois a tupla é imutável."
   ]
  },
  {
   "cell_type": "code",
   "execution_count": null,
   "metadata": {},
   "outputs": [],
   "source": [
    "d = {(1, 2): 'a', (1, 3): 'b', (2, 2 ): 'c', (2, 3): 'd' } "
   ]
  },
  {
   "cell_type": "code",
   "execution_count": null,
   "metadata": {},
   "outputs": [],
   "source": [
    "d"
   ]
  },
  {
   "cell_type": "code",
   "execution_count": null,
   "metadata": {},
   "outputs": [],
   "source": [
    "d[(1, 2)]"
   ]
  },
  {
   "cell_type": "code",
   "execution_count": null,
   "metadata": {},
   "outputs": [],
   "source": [
    "d[(2, 2)]"
   ]
  },
  {
   "cell_type": "markdown",
   "metadata": {},
   "source": [
    "__Nota:__ - Uma das justificativas para usar tuplas em vez de uma lista é que existem circunstâncias em que um tipo imutável é necessário. Essa é uma delas.)\n",
    "No entanto, `nem uma lista nem outro dicionário podem servir como uma chave de dicionário`, porque as listas e os dicionários são `mutáveis`:"
   ]
  },
  {
   "cell_type": "markdown",
   "metadata": {},
   "source": [
    "9.6 Restrições aos valores do dicionário\n",
    "================================"
   ]
  },
  {
   "cell_type": "markdown",
   "metadata": {},
   "source": [
    "Não há restrições nos `valores de dicionário`, nem uma mesmo. Um valor de dicionário pode ser `qualquer tipo` de objeto suportado pelo Python, incluindo `tipos mutáveis`, como `listas e dicionários`, e `objetos definidos pelo usuário`.\n",
    "\n",
    "Também não há qualquer restrição em um determinado valor que aparece em um dicionário várias vezes:"
   ]
  },
  {
   "cell_type": "code",
   "execution_count": null,
   "metadata": {},
   "outputs": [],
   "source": [
    "d = {0: 'a', 1: 'a', 2: 'a', 3: 'a' }"
   ]
  },
  {
   "cell_type": "code",
   "execution_count": null,
   "metadata": {},
   "outputs": [],
   "source": [
    "d"
   ]
  },
  {
   "cell_type": "code",
   "execution_count": null,
   "metadata": {},
   "outputs": [],
   "source": [
    "{0: 'a', 1: 'a', 2: ' a ', 3:' a '} "
   ]
  },
  {
   "cell_type": "code",
   "execution_count": null,
   "metadata": {},
   "outputs": [],
   "source": [
    "d[0] == d[1] == d[2] "
   ]
  },
  {
   "cell_type": "markdown",
   "metadata": {},
   "source": [
    "9.7 Operadores e Funções Internas\n",
    "==========================="
   ]
  },
  {
   "cell_type": "markdown",
   "metadata": {},
   "source": [
    "Já nos familiarizamos com muitos dos `operadores e funções internas` que podem ser usadas com `strings` , `listas e tuplas`.  Alguns deles também funcionam com dicionários.\n",
    "Por exemplo, os operadores `in` e `not` que retornam `True` ou `False` se o operando especificado for uma chave do dicionário:"
   ]
  },
  {
   "cell_type": "code",
   "execution_count": null,
   "metadata": {},
   "outputs": [],
   "source": [
    "clubes_futebol = {\n",
    "        'Flamengo'   : 'Rio de Janeiro',\n",
    "        'Remo'       : 'Belém do Pará',\n",
    "        'Grêmio'     : 'Rio Grande do Sul',\n",
    "        'Bragantino' : 'Bragança Pará'\n",
    "}"
   ]
  },
  {
   "cell_type": "code",
   "execution_count": null,
   "metadata": {},
   "outputs": [],
   "source": [
    "'Remo'in clubes_futebol"
   ]
  },
  {
   "cell_type": "code",
   "execution_count": null,
   "metadata": {},
   "outputs": [],
   "source": [
    "'Grêmio'in clubes_futebol"
   ]
  },
  {
   "cell_type": "code",
   "execution_count": null,
   "metadata": {},
   "outputs": [],
   "source": [
    "not 'Flamengo' in clubes_futebol"
   ]
  },
  {
   "cell_type": "code",
   "execution_count": null,
   "metadata": {},
   "outputs": [],
   "source": [
    "not 'Bragantino'in clubes_futebol"
   ]
  },
  {
   "cell_type": "markdown",
   "metadata": {},
   "source": [
    "__`len()` - Retorna o número de `pares` de valores-chave em um dicionário:.__"
   ]
  },
  {
   "cell_type": "code",
   "execution_count": null,
   "metadata": {},
   "outputs": [],
   "source": [
    "clubes_futebol = {\n",
    "        'Flamengo'   : 'Rio de Janeiro',\n",
    "        'Remo'       : 'Belém do Pará',\n",
    "        'Grêmio'     : 'Rio Grande do Sul',\n",
    "        'Bragantino' : 'Bragança Pará'\n",
    "}"
   ]
  },
  {
   "cell_type": "code",
   "execution_count": null,
   "metadata": {},
   "outputs": [],
   "source": [
    "len(clubes_futebol)"
   ]
  },
  {
   "cell_type": "markdown",
   "metadata": {},
   "source": [
    "9.8 Métodos de dicionário incorporados\n",
    "===============================\n",
    "   ```python\n",
    "    + d.clear ()\n",
    "    + d.get (<key> [, <default>])\n",
    "    + d.items ()\n",
    "    + d.keys ()\n",
    "    + d.values ()\n",
    "    + d.pop (<key> [, <default>])\n",
    "    + d.popitem ()\n",
    "    + d.update (<obj>)\n",
    "   ```"
   ]
  },
  {
   "cell_type": "markdown",
   "metadata": {},
   "source": [
    "Como em `strings` e `listas`, podemos proceder com vários métodos internos nos dicionários. De fato, em alguns casos, os métodos usados em lista e dicionário compartilham o mesmo nome. A seguir, teremos uma visão geral dos `métodos que se aplicam aos dicionários`:"
   ]
  },
  {
   "cell_type": "markdown",
   "metadata": {},
   "source": [
    "**`clear()` {Limpa um dicionário}.** - O método `clear()` esvazia o dicionário com todos os seus pares de `valores-chave`:"
   ]
  },
  {
   "cell_type": "code",
   "execution_count": null,
   "metadata": {},
   "outputs": [],
   "source": [
    "f = {'Flamengo': 'Rio de Janeiro', 'Remo': 'Belém do Pará', \n",
    "                  'Grêmio': 'Rio Grande do Sul', 'XBragantino' : 'Bragança Pará'}"
   ]
  },
  {
   "cell_type": "code",
   "execution_count": null,
   "metadata": {},
   "outputs": [],
   "source": [
    "f.clear( )"
   ]
  },
  {
   "cell_type": "code",
   "execution_count": null,
   "metadata": {},
   "outputs": [],
   "source": [
    "f"
   ]
  },
  {
   "cell_type": "markdown",
   "metadata": {},
   "source": [
    "----------------"
   ]
  },
  {
   "cell_type": "markdown",
   "metadata": {},
   "source": [
    "**`get (<key> [, <default>])` {Retorna o valor da chave, se esta existir no dicionário}.** - O método `get()` obtem o valor de uma `chave` de um dicionário.\n",
    "O `get(<key>)` faz uma procura no dicionário `v` por exemplo, para `<key>` e retorna o valor associado se ele for encontrado. Se `<key>` não for encontrado, retorna `None`:"
   ]
  },
  {
   "cell_type": "code",
   "execution_count": null,
   "metadata": {},
   "outputs": [],
   "source": [
    "v = {'a': 20, 'b': 40, 'c': 100}"
   ]
  },
  {
   "cell_type": "code",
   "execution_count": null,
   "metadata": {},
   "outputs": [],
   "source": [
    "print(v.get('b'))"
   ]
  },
  {
   "cell_type": "code",
   "execution_count": null,
   "metadata": {},
   "outputs": [],
   "source": [
    "print(v.get('x'))"
   ]
  },
  {
   "cell_type": "markdown",
   "metadata": {},
   "source": [
    "----------------------"
   ]
  },
  {
   "cell_type": "markdown",
   "metadata": {},
   "source": [
    "**`items( )` {Retorna uma lista de pares de valores-chave em um dicionário.}.** - O método `items()` retorna uma `lista de tuplas` contendo os pares de `valores-chave` em `d` por exemplo. O primeiro item em cada tupla é a chave, e o segundo item é o valor da chave:"
   ]
  },
  {
   "cell_type": "code",
   "execution_count": null,
   "metadata": {},
   "outputs": [],
   "source": [
    "d = {'a': 20, 'b': 40, 'c': 100}"
   ]
  },
  {
   "cell_type": "code",
   "execution_count": null,
   "metadata": {},
   "outputs": [],
   "source": [
    "d"
   ]
  },
  {
   "cell_type": "code",
   "execution_count": null,
   "metadata": {},
   "outputs": [],
   "source": [
    "d.items()"
   ]
  },
  {
   "cell_type": "markdown",
   "metadata": {},
   "source": [
    "------------------------"
   ]
  },
  {
   "cell_type": "markdown",
   "metadata": {},
   "source": [
    "**`keys( )` {Retorna uma lista de chaves em um dicionário.}.** - O método `keys()` retorna uma `lista` contendo todas as chave em `d` por exemplo."
   ]
  },
  {
   "cell_type": "code",
   "execution_count": null,
   "metadata": {},
   "outputs": [],
   "source": [
    "d = {'a': 20, 'b': 40, 'c': 100}"
   ]
  },
  {
   "cell_type": "code",
   "execution_count": null,
   "metadata": {},
   "outputs": [],
   "source": [
    "d"
   ]
  },
  {
   "cell_type": "code",
   "execution_count": null,
   "metadata": {},
   "outputs": [],
   "source": [
    "d.keys()"
   ]
  },
  {
   "cell_type": "markdown",
   "metadata": {},
   "source": [
    "-------------------------"
   ]
  },
  {
   "cell_type": "markdown",
   "metadata": {},
   "source": [
    "**`values( )` {Retorna uma lista de valores em um dicionário.}.** - O método `values()` retorna uma `lista` contendo todas os valores em `d` por exemplo de um dicionário."
   ]
  },
  {
   "cell_type": "code",
   "execution_count": null,
   "metadata": {},
   "outputs": [],
   "source": [
    "d = {'a': 20, 'b': 40, 'c': 100}"
   ]
  },
  {
   "cell_type": "code",
   "execution_count": null,
   "metadata": {},
   "outputs": [],
   "source": [
    "d"
   ]
  },
  {
   "cell_type": "code",
   "execution_count": null,
   "metadata": {},
   "outputs": [],
   "source": [
    "d.values()"
   ]
  },
  {
   "cell_type": "code",
   "execution_count": null,
   "metadata": {},
   "outputs": [],
   "source": [
    "# A quantidade de valores duplicados no dicionário, também irão retornar\n",
    "d = {'a': 20, 'b': 20, 'c': 100, 'x': 40, 'y': 20}"
   ]
  },
  {
   "cell_type": "code",
   "execution_count": null,
   "metadata": {},
   "outputs": [],
   "source": [
    "d"
   ]
  },
  {
   "cell_type": "code",
   "execution_count": null,
   "metadata": {},
   "outputs": [],
   "source": [
    "d.values()"
   ]
  },
  {
   "cell_type": "markdown",
   "metadata": {},
   "source": [
    "--------------------"
   ]
  },
  {
   "cell_type": "markdown",
   "metadata": {},
   "source": [
    "**```pop(<key> [, <default>])``` {Remove uma chave de um dicionário, se estiver presente, e retorna seu valor.}.** - Se `<key>` estiver no dicionário `d` por exemplo, `d.pop(<key>)` removera `<key>`, valor associado:"
   ]
  },
  {
   "cell_type": "code",
   "execution_count": null,
   "metadata": {},
   "outputs": [],
   "source": [
    "d = {'a': 20, 'b': 40, 'c': 100}"
   ]
  },
  {
   "cell_type": "code",
   "execution_count": null,
   "metadata": {},
   "outputs": [],
   "source": [
    "d"
   ]
  },
  {
   "cell_type": "code",
   "execution_count": null,
   "metadata": {},
   "outputs": [],
   "source": [
    "d.pop('c')"
   ]
  },
  {
   "cell_type": "code",
   "execution_count": null,
   "metadata": {},
   "outputs": [],
   "source": [
    "d"
   ]
  },
  {
   "cell_type": "code",
   "execution_count": null,
   "metadata": {},
   "outputs": [],
   "source": [
    "# Se a chave não estiver no dicionário, o Python retorna um erro\n",
    "d.pop('z')"
   ]
  },
  {
   "cell_type": "markdown",
   "metadata": {},
   "source": [
    "-----------------------"
   ]
  },
  {
   "cell_type": "markdown",
   "metadata": {},
   "source": [
    "**`popitem( )` {Remove um par de valores-chave de um dicionário.}.** - O método `popitem()` remove um par de valores-chave aleatório e arbitrário de retorna-o como uma tupla:"
   ]
  },
  {
   "cell_type": "code",
   "execution_count": null,
   "metadata": {},
   "outputs": [],
   "source": [
    "d = {'a': 20, 'b': 40, 'c': 100}"
   ]
  },
  {
   "cell_type": "code",
   "execution_count": null,
   "metadata": {},
   "outputs": [],
   "source": [
    "d"
   ]
  },
  {
   "cell_type": "code",
   "execution_count": null,
   "metadata": {},
   "outputs": [],
   "source": [
    "d.popitem()"
   ]
  },
  {
   "cell_type": "code",
   "execution_count": null,
   "metadata": {},
   "outputs": [],
   "source": [
    "d.popitem()"
   ]
  },
  {
   "cell_type": "markdown",
   "metadata": {},
   "source": [
    "------------------"
   ]
  },
  {
   "cell_type": "markdown",
   "metadata": {},
   "source": [
    "**`update(<obj>)` {Mescla um dicionário com outro dicionário ou com um iterável de pares de valores-chave.}.** - O método `update(<obj>)` mesclará dois dicionários em um só:"
   ]
  },
  {
   "cell_type": "code",
   "execution_count": null,
   "metadata": {},
   "outputs": [],
   "source": [
    "d1 = {'a': 10, 'b': 20, 'c': 60} "
   ]
  },
  {
   "cell_type": "code",
   "execution_count": null,
   "metadata": {},
   "outputs": [],
   "source": [
    "d1"
   ]
  },
  {
   "cell_type": "code",
   "execution_count": null,
   "metadata": {},
   "outputs": [],
   "source": [
    "d2 = {'b': 700, 'd': 600 }"
   ]
  },
  {
   "cell_type": "code",
   "execution_count": null,
   "metadata": {},
   "outputs": [],
   "source": [
    "d2"
   ]
  },
  {
   "cell_type": "code",
   "execution_count": null,
   "metadata": {},
   "outputs": [],
   "source": [
    "d1.update(d2)"
   ]
  },
  {
   "cell_type": "code",
   "execution_count": null,
   "metadata": {},
   "outputs": [],
   "source": [
    "d1"
   ]
  },
  {
   "cell_type": "markdown",
   "metadata": {},
   "source": [
    "Conclusão\n",
    "========"
   ]
  },
  {
   "cell_type": "markdown",
   "metadata": {},
   "source": [
    "Vimos neste estudo as propriedades básicas do dicionário Python e aprendemos como acessar e manipular os dados do dicionário.\n",
    "Listas e dicionários são dois dos tipos mais usados na programação Python. Como vimos, eles têm várias semelhanças, mas diferem em como seus elementos são acessados. Elementos de listas são acessados por índice numérico baseado em ordem e elementos de dicionário são acessados por chave. Devido a essa diferença, listas e dicionários tendem a ser apropriados para diferentes circunstâncias em nossos códigos."
   ]
  },
  {
   "cell_type": "markdown",
   "metadata": {},
   "source": [
    "### Obrigado e bons estudos"
   ]
  },
  {
   "cell_type": "code",
   "execution_count": null,
   "metadata": {},
   "outputs": [],
   "source": []
  }
 ],
 "metadata": {
  "anaconda-cloud": {},
  "kernelspec": {
   "display_name": "Python 3",
   "language": "python",
   "name": "python3"
  },
  "language_info": {
   "codemirror_mode": {
    "name": "ipython",
    "version": 3
   },
   "file_extension": ".py",
   "mimetype": "text/x-python",
   "name": "python",
   "nbconvert_exporter": "python",
   "pygments_lexer": "ipython3",
   "version": "3.7.3"
  }
 },
 "nbformat": 4,
 "nbformat_minor": 1
}
