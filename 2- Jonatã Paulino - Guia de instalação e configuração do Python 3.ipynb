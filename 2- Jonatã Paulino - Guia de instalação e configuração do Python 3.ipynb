{
 "cells": [
  {
   "cell_type": "markdown",
   "metadata": {},
   "source": [
    "# <font color='green'>Jonatã Paulino - Python Fácil</font>\n",
    "<img src='pimagem5t.png' alt=Jonatã Paulino size=4x4 width=90 height=90 align='left'>"
   ]
  },
  {
   "cell_type": "markdown",
   "metadata": {},
   "source": [
    "Guia de instalação e configuração do Python 3\n",
    "======================================\n",
    "* __Índice__\n",
    "+ Windows\n",
    "    + Etapa 1: Faça o download do instalador do Python 3\n",
    "    + Etapa 2: executar o instalador\n",
    "+ Linux\n",
    "    + Ubuntu\n",
    "+ Interpretadores de Python Online\n",
    "+ Conclusão\n"
   ]
  },
  {
   "cell_type": "markdown",
   "metadata": {},
   "source": [
    "<p style='text-align: justify;'>Para começar a trabalhar com o Python3, você precisará ter acesso ao interpretador Python. Existem várias maneiras de obtermos este interpretador:</p>\n",
    "\n",
    "<p style='text-align: justify;'>O Python pode ser obtido no site do Python Software Foundation em <a href=\"http://www.python.org\" target=\"_blank\" title=\"Python\">python.org</a>. Normalmente, isso envolve baixar o instalador apropriado para o seu sistema operacional e executá-lo em sua máquina.\n",
    "Alguns sistemas operacionais, principalmente o Linux, fornecem um gerenciador de pacotes que pode ser executado para instalar o Python.</p>\n",
    "<p style='text-align: justify;'>No macOS, a melhor maneira de instalar o Python3 envolve a instalação de um gerenciador de pacotes chamado Homebrew.\n",
    "Em sistemas operacionais móveis, como Android e iOS, você pode instalar aplicativos que fornecem um ambiente de programação Python. Essa pode ser uma ótima maneira de praticar suas habilidades de codificação em qualquer lugar.\n",
    "Alternativamente, existem vários sites que permitem que você acesse um interpretador online do Python sem instalar nada no seu computador.</p>\n",
    "\n",
    ">__Nota:__\n",
    "Há uma chance de que o Python já esteja instalado no seu sistema operacional. Mesmo se for esse o caso, pode ser que a versão instalada esteja desatualizada, caso em que será melhor obter a versão mais recente."
   ]
  },
  {
   "cell_type": "markdown",
   "metadata": {},
   "source": [
    ">>Neste simples guia de instalação do Python, você verá o passo a passo de como configurar uma distribuição funcional do Python 3 no `Windows` e no `Linux`. Então vamos começar!"
   ]
  },
  {
   "cell_type": "markdown",
   "metadata": {},
   "source": [
    "__Observação__\n",
    "É improvável que o sistema Windows já venha com o Python, pois este sistema, normalmente não traz nativamente o Python instalado. Felizmente, a instalação não envolve muito mais do que baixar o instalador do site <a href=\"http://www.python.org\" target=\"_blank\" title=\"Python\">python.org</a> e executá-lo. Vamos ver como instalar o Python3 no Windows:"
   ]
  },
  {
   "cell_type": "markdown",
   "metadata": {},
   "source": [
    "### Etapas de Instalação no Windows\n",
    "\n",
    "1- Faça o download do instalador do Python3\n",
    "\n",
    "2- Abra uma janela do navegador e navegue até a <a href=\"https://www.python.org/downloads/windows/\" target=\"_blank\" title=\"Windows\">página de download do Python para Windows</a> em <a href=\"http://www.python.org\" target=\"_blank\" title=\"Python\">python.org</a>.\n",
    "\n",
    "3- Abaixo do título, na parte superior que diz, __Python para Windows__, clique no link para obter a versão __mais recente Python3 - Python 3.xx.__\n",
    "\n",
    "4- Role para baixo e selecione o __instalador executável do Windows x86-64__ para o __instalador executável de 64 bits__ ou do __Windows x86__ para 32 bits."
   ]
  },
  {
   "cell_type": "markdown",
   "metadata": {},
   "source": [
    "<img src='instalador2.PNG' alt=Instalador Windows size=400x400 width=700 height=700 align='center'>"
   ]
  },
  {
   "cell_type": "markdown",
   "metadata": {},
   "source": [
    "Em seguida, basta clicar em Instalar agora. Normalmente é esse o processo que devemos fazer para conseguir instalar o Python no Windows. Poucos minutos depois, você deve ter uma instalação funcional do Python 3 em seu sistema."
   ]
  },
  {
   "cell_type": "markdown",
   "metadata": {},
   "source": [
    "### Etapas de Instalação no Ubuntu\n",
    "Dependendo da versão da distribuição do Ubuntu que você executa, as instruções de instalação do Python variam, porém, geralmente seguem o mesmo padrão. Abra o terminal no Ubuntu e execute o seguinte comando:"
   ]
  },
  {
   "cell_type": "markdown",
   "metadata": {},
   "source": [
    "**`Shell`**\n",
    "```shell\n",
    "$ sudo apt-get update\n",
    "$ sudo apt-get install python3.xx\n",
    "```\n",
    "Você pode então chamar seu Python com o comando: \n",
    "```shell\n",
    "$ python3\n",
    "```"
   ]
  },
  {
   "cell_type": "markdown",
   "metadata": {},
   "source": [
    "Interpretadores de Python Online\n",
    "===========================\n",
    "Se você quiser experimentar os exemplos deste tutorial sem instalar o Python em sua máquina, existem vários sites disponíveis onde você pode interagir com um interpretador online do Python:\n",
    "\n",
    "* Console Online do Python.org: www.python.org/shell\n",
    "* Python Fiddle: www.pythonfiddle.com\n",
    "* Repl.it: www.repl.it\n",
    "* Bugiganga: www.trinket.io\n",
    "* Python Anywhere: www.pythonanywhere.com\n",
    "\n",
    "Esses interpretadores Python baseados em nuvem talvez não consigam executar alguns dos exemplos mais complexos, mas serão adequados para executar a maioria dos mais simples e podem ser uma boa maneira de começar."
   ]
  },
  {
   "cell_type": "markdown",
   "metadata": {},
   "source": [
    "Conclusão\n",
    "=========\n",
    "Esta seção forneceu as informações necessárias para obter acesso a um interpretador do Python 3. Agora vamos começar a interagir com o Python!"
   ]
  },
  {
   "cell_type": "markdown",
   "metadata": {},
   "source": [
    "### Obrigado e bons estudos"
   ]
  },
  {
   "cell_type": "code",
   "execution_count": null,
   "metadata": {},
   "outputs": [],
   "source": []
  }
 ],
 "metadata": {
  "anaconda-cloud": {},
  "kernelspec": {
   "display_name": "Python 3",
   "language": "python",
   "name": "python3"
  },
  "language_info": {
   "codemirror_mode": {
    "name": "ipython",
    "version": 3
   },
   "file_extension": ".py",
   "mimetype": "text/x-python",
   "name": "python",
   "nbconvert_exporter": "python",
   "pygments_lexer": "ipython3",
   "version": "3.7.3"
  }
 },
 "nbformat": 4,
 "nbformat_minor": 1
}
