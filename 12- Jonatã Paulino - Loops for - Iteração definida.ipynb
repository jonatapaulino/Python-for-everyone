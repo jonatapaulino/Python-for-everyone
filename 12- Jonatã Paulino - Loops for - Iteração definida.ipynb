{
 "cells": [
  {
   "cell_type": "markdown",
   "metadata": {},
   "source": [
    "# <font color='green'>Jonatã Paulino - Python for everyone</font>\n",
    "<img src='pimagem5t.png' alt=Jonatã Paulino size=10x10 width=90 height=90 align='left'>"
   ]
  },
  {
   "cell_type": "markdown",
   "metadata": {},
   "source": [
    "12- Loops for - Iteração definida\n",
    "==============================\n",
    "* __Índice__\n",
    "* 12.1 Um levantamento da iteração definitiva na programação\n",
    "    * 12.1.1 Loop de intervalo numérico\n",
    "    * 12.1.2 Loop de Três Expressões\n",
    "    * 12.1.3 Loop baseado em coleção ou em iterador\n",
    "* 12.2 Loop Pythonico\n",
    "    * 12.2.1 Iterables\n",
    "    * 12.2.2 Iteradores\n",
    "* 12.3 As entranhas do loop para Python\n",
    "* 12.4 Iterando Através de um Dicionário\n",
    "* 12.5 A função range()\n",
    "* 12.6 Alterando para o Comportamento de Loop\n",
    "    * 12.6.1 As declarações break e continue\n",
    "    * 12.6.2 A cláusula else\n",
    "* [Conclusão](#Conclusão)"
   ]
  },
  {
   "cell_type": "markdown",
   "metadata": {},
   "source": [
    "12.1 Um levantamento da iteração definitiva na programação\n",
    "============================================"
   ]
  },
  {
   "cell_type": "markdown",
   "metadata": {},
   "source": [
    "Os loops de `iteração definidas` são freqüentemente chamados de `loops for` porque `for` é uma `palavra-chave` usada em quase todas as linguagens de programação, incluindo o Python.\n",
    "\n",
    "Historicamente, as linguagens de programação oferecem alguns tipos de `loop for`. Vamos ver uma breve descrição."
   ]
  },
  {
   "cell_type": "markdown",
   "metadata": {},
   "source": [
    "## 12.1.1 Loop de intervalo numérico"
   ]
  },
  {
   "cell_type": "markdown",
   "metadata": {},
   "source": [
    "O `loop for` mais básico é construído com uma expressão de intervalos numéricos com valores iníciais e valores finais. A sintax varia de acordo com a linguagem de programação.\n",
    "\n",
    "**Sinatax básica**\n",
    "```c\n",
    "for i = 1 to 10\n",
    "    <corpo do loop>\n",
    "```\n",
    "Neste exemplo, o corpo do loop é executado `10 vezes`. A variável `i` assume o valor `1` na primeira iteração, `2` na segunda e assim por diante. Esse tipo de loop for é usado nas linguagens `BASIC` e `Pascal`."
   ]
  },
  {
   "cell_type": "markdown",
   "metadata": {},
   "source": [
    "## 12.1.2 Loop de Três Expressões"
   ]
  },
  {
   "cell_type": "markdown",
   "metadata": {},
   "source": [
    "Outra forma do `loop for` bem popular na linguagem de programação `C` contém três partes:\n",
    "\n",
    "- Uma inicialização\n",
    "- Uma expressão especificando uma condição final\n",
    "- Uma ação a ser executada no final de cada iteração.\n",
    "\n",
    "Este tipo de tem o seguinte formato:\n",
    "\n",
    "```c\n",
    "for (i = 1; i <= 10; i++)\n",
    "    <corpo do loop>\n",
    "```\n",
    "\n",
    "Esse loop é interpretado da seguinte maneira:\n",
    "\n",
    "* 1- Inicialize `i` em `1`.\n",
    "* 2- Continue o loop `enquanto i <= 10`.\n",
    "* 3- Incrementar `i` por `1` após cada iteração.\n"
   ]
  },
  {
   "cell_type": "markdown",
   "metadata": {},
   "source": [
    "## 12.1. 3 Loop baseado em coleção ou em iterador"
   ]
  },
  {
   "cell_type": "markdown",
   "metadata": {},
   "source": [
    "Esse tipo de `loop itera sobre uma coleção de objetos`, em vez de especificar `valores ou condições numéricas`:\n",
    "\n",
    "```python\n",
    "for i in <collection>\n",
    "    <corpo do loop>\n",
    "```\n",
    "Aqui nesse trecho de código acontece o seguinte: Cada vez que a variável `i` passa pelo loop, `i` assume o valor do próximo objeto em `<collection>`. Esse tipo de `loop for` é sem dúvida o mais generalizado e abstrato. `Perl e PHP` também suportam esse tipo de `loop`."
   ]
  },
  {
   "cell_type": "markdown",
   "metadata": {},
   "source": [
    "12.2 Loop Pythonico\n",
    "================"
   ]
  },
  {
   "cell_type": "markdown",
   "metadata": {},
   "source": [
    "Dos tipos de loop listados acima, o Python implementa apenas a `iteração baseada em coleção`. A primeira vista, isso pode parecer uma coisa meio obscura, porém, a `implementação de iteração` do Python é tão `versátil` que você vai se sentir bastante avontade ao usa-la!\n",
    "\n",
    "Vamos começar com um `exemplo simples`, apenas para nos familiarizarmos com a sintax do `loop for do Python`.\n",
    "\n",
    "O loop for do Python fica assim:\n",
    "\n",
    "```python\n",
    "for <var> in <iterable>:\n",
    "    <statement(s)>\n",
    "```\n",
    "Aqui, o `<iterable>`é uma `coleção de objetos`, onde podemos incluir `listas, tuplas`. O `<statement(s)>, corpo do loop` é indicado por `indentação`, como em todas as estruturas de controle Python, e é executado `uma vez para cada item em <iterable>`. A variável do loop `<var>`, assume o `valor do próximo elemento`,  a `<iterable>`, cada vez que passa pelo loop.\n",
    "\n",
    "Aqui está um exemplo mais representativo:"
   ]
  },
  {
   "cell_type": "code",
   "execution_count": null,
   "metadata": {},
   "outputs": [],
   "source": [
    "a = ['um', 'dois', 'tres']\n",
    "for i in a:\n",
    "    print(i)"
   ]
  },
  {
   "cell_type": "markdown",
   "metadata": {},
   "source": [
    "Um `loop for` como esse é a maneira `Pythonica` de processar os itens de maneira `iterável`, mas o que exatamente é um `iterável?` \n",
    "Antes de examinar o loop for um pouco mais complexo, será muito benéfico nos aprofundarmos no que são `iteráveis no Python`."
   ]
  },
  {
   "cell_type": "markdown",
   "metadata": {},
   "source": [
    "12.2.1 Iterables\n",
    "============"
   ]
  },
  {
   "cell_type": "markdown",
   "metadata": {},
   "source": [
    "No Python, `iterável` significa que um `objeto` pode ser usado na `iteração`.\n",
    "Se um `objeto é iterável`, ele pode ser passado para a função interna do Python `iter()`, que retorna algo chamado `iterador`. A terminologia pode parecer um pouco repetitiva porém no final, tudo vai dar certo.\n",
    "\n",
    "Cada um dos objetos no exemplo a seguir é `iterável` e retorna algum tipo de `iterador` quando passado para `iter()`:\n",
    "\n",
    "```python\n",
    "iter('Bolo') # String\n",
    "<str_iterator object at 0x036E2750>\n",
    "\n",
    "iter(['manga', 'bacurí', 'ata']) # Listas\n",
    "<list_iterator object at 0x036E27D0>\n",
    "\n",
    "iter(('bolo', 'refri', 'cachorro-quente')) # Tuplas\n",
    "<tuple_iterator object at 0x036E27F0>\n",
    "\n",
    "iter({'filme', 'série', 'desenho'}) # conjuntos(sets)\n",
    "<set_iterator object at 0x036DEA08>\n",
    "\n",
    "iter({'Abacate': 1, 'Batata': 2, 'Shampoo': 3}) # Diccionário\n",
    "<dict_keyiterator object at 0x036DD990>\n",
    "```"
   ]
  },
  {
   "cell_type": "code",
   "execution_count": null,
   "metadata": {},
   "outputs": [],
   "source": [
    "# String\n",
    "iter('bolo')"
   ]
  },
  {
   "cell_type": "code",
   "execution_count": null,
   "metadata": {},
   "outputs": [],
   "source": [
    "# Listas\n",
    "iter(['manga', 'bacurí', 'ata'])"
   ]
  },
  {
   "cell_type": "code",
   "execution_count": null,
   "metadata": {},
   "outputs": [],
   "source": [
    "# Tuplas\n",
    "iter(('bolo', 'refri', 'cachorro-quente'))"
   ]
  },
  {
   "cell_type": "code",
   "execution_count": null,
   "metadata": {},
   "outputs": [],
   "source": [
    "# conjuntos(sets)\n",
    "iter({'filme', 'série', 'desenho'})"
   ]
  },
  {
   "cell_type": "code",
   "execution_count": null,
   "metadata": {},
   "outputs": [],
   "source": [
    "# Dicionário\n",
    "iter({'Abacate': 1, 'Batata': 2, 'Shampoo': 3})"
   ]
  },
  {
   "cell_type": "markdown",
   "metadata": {},
   "source": [
    "Alguns tipos de `objetos não iteraveis`:"
   ]
  },
  {
   "cell_type": "code",
   "execution_count": null,
   "metadata": {},
   "outputs": [],
   "source": [
    "# Inteiros\n",
    "iter(42)"
   ]
  },
  {
   "cell_type": "code",
   "execution_count": null,
   "metadata": {},
   "outputs": [],
   "source": [
    "# Floats\n",
    "inter(3.5)"
   ]
  },
  {
   "cell_type": "code",
   "execution_count": null,
   "metadata": {},
   "outputs": [],
   "source": [
    "# Builtin function (funções internas)\n",
    "iter(len)"
   ]
  },
  {
   "cell_type": "markdown",
   "metadata": {},
   "source": [
    "Vimos até agora que os objetos `listas, tupla, conjuntos` são iteraveis, porém, esses não são os únicos tipos pelos quais você pode iterar. Muitos objetos criados no Python ou definidos em módulos são projetados para serem iteráveis, por exemplo, os `arquivos` no Python são `iteráveis`, ou seja, quando ela é feita sobre um objeto de `arquivo aberto`, onde a iteração lê os dados do arquivo.\n",
    "\n",
    "De fato, quase qualquer objeto no Python pode ser iterável, até objetos `definidos pelo usuário` podem ser projetados de forma que possam ser iterados. Quando estudamos sobre programação orientada a objetos, a base desse conhecimento cresce, pois haverá uma quantidade enorme de possibilidades de iteração."
   ]
  },
  {
   "cell_type": "markdown",
   "metadata": {},
   "source": [
    "## 12.2.2 Iteradores"
   ]
  },
  {
   "cell_type": "markdown",
   "metadata": {},
   "source": [
    "Um iterador é essencialmente um `produtor de valor que gera valores sucessivos de seu objeto iterável associado`. A função interna `next()` é usada para obter o próximo valor no iterador.\n",
    "\n",
    "Aqui está um exemplo usando a mesma lista que usamos acima:"
   ]
  },
  {
   "cell_type": "code",
   "execution_count": null,
   "metadata": {},
   "outputs": [],
   "source": [
    "a = (['manga', 'bacurí', 'ata'])\n",
    "itr = iter(a)\n",
    "itr"
   ]
  },
  {
   "cell_type": "code",
   "execution_count": null,
   "metadata": {},
   "outputs": [],
   "source": [
    "next(itr)"
   ]
  },
  {
   "cell_type": "code",
   "execution_count": null,
   "metadata": {},
   "outputs": [],
   "source": [
    "next(itr)"
   ]
  },
  {
   "cell_type": "code",
   "execution_count": null,
   "metadata": {},
   "outputs": [],
   "source": [
    "next(itr)"
   ]
  },
  {
   "cell_type": "markdown",
   "metadata": {},
   "source": [
    "Se observarmos atentanmente, perceberemos que um iterador retém seu estado internamente, ou seja, ele sabe quais valores já foram obtidos; portanto, quando você chama `next()`, sabe qual valor retornar em seguida.\n",
    "\n",
    "O que acontece quando o iterador fica sem valores? Vamos fazer mais uma chamada `next()` no iterador acima:"
   ]
  },
  {
   "cell_type": "code",
   "execution_count": null,
   "metadata": {},
   "outputs": [],
   "source": [
    "next(itr)"
   ]
  },
  {
   "cell_type": "markdown",
   "metadata": {},
   "source": [
    "Se todos os valores de um `iterador já foram retornados`, uma chamada `next()` subsequente gera uma `exceção StopIteration`, qualquer tentativa adicional de obter valores do iterador falhará."
   ]
  },
  {
   "cell_type": "markdown",
   "metadata": {},
   "source": [
    "12.3 As entranhas do loop para Python\n",
    "=============================="
   ]
  },
  {
   "cell_type": "markdown",
   "metadata": {},
   "source": [
    "<table class=\"table\">\n",
    "  <thead class=\"thead-dark\">\n",
    "    <tr>\n",
    "        <th scope=\"col\" style=\"text-align: center;\">#</th>\n",
    "        <th scope=\"col\" style=\"text-align: center;\">Descrição</th>\n",
    "        <th scope=\"col\" style=\"text-align: center;\">Significado</th>\n",
    "    </tr>\n",
    "  </thead>\n",
    "  <tbody>\n",
    "    <tr>\n",
    "        <th scope=\"row\" style=\"text-align: center;\">1</th>\n",
    "        <td style=\"text-align: center;\">Iteração</td>\n",
    "        <td style=\"text-align: justify;\">O processo de percorrer os objetos ou itens em uma coleção</td>\n",
    "    </tr>\n",
    "        <tr>\n",
    "            <th scope=\"row\" style=\"text-align: center;\">2</th>\n",
    "            <td style=\"text-align: center;\">Iterável</td>\n",
    "            <td style=\"text-align: justify;\">Um objeto que pode ser iterado</td>\n",
    "        </tr>\n",
    "            <tr>\n",
    "                <th scope=\"row\" style=\"text-align: center;\">3</th>\n",
    "                <td style=\"text-align: center;\">Iterador</td>\n",
    "                <td style=\"text-align: justify;\">O objeto que produz itens ou valores sucessivos a partir do iterável associado</td>\n",
    "            </tr>\n",
    "                <tr>\n",
    "                    <th scope=\"row\" style=\"text-align: center;\">4</th>\n",
    "                    <td style=\"text-align: center;\">iter</td>\n",
    "                    <td style=\"text-align: justify;\">A função interna usada para obter um iterador de um iterável</td>\n",
    "                </tr>\n",
    "</tbody>\n",
    "</table>"
   ]
  },
  {
   "cell_type": "markdown",
   "metadata": {},
   "source": [
    "Vamos considerar o `loop for` simples apresentado no início deste tutorial:"
   ]
  },
  {
   "cell_type": "code",
   "execution_count": null,
   "metadata": {},
   "outputs": [],
   "source": [
    "a = ['manga', 'bacurí', 'ata']\n",
    "for i in a:\n",
    "    print(i)"
   ]
  },
  {
   "cell_type": "markdown",
   "metadata": {},
   "source": [
    "Esse loop pode ser descrito em termos dos conceitos que acabamos de aprender. Para executar a `iteração loop for` acima, o Python faz o seguinte caminho:\n",
    "\n",
    "- 1) Python chama a função `iter()` para obter um iterador para `a`.\n",
    "- 2) Chama `next()` repetidamente para `obter cada item do iterador por vez`.\n",
    "- 3) Encerra o loop quando `next()` gera a exceção StopIteration.\n",
    "\n",
    "O corpo do loop é executado `uma vez para cada item next() retornado`, com a variável de loop `i` configurada para o `item` especificado para `cada iteração`.\n",
    "Esta é a sequência de eventos executada pelo Python.\n",
    "\n",
    "Muitas das vezes tudo isso parece desnecessário, mas o benefício é substancial, pois o Python trata o loop de todos os iteráveis exatamente dessa maneira e, no Python, os iteráveis e iteradores são abundantes:\n",
    "\n",
    "* Muitos objetos internos e de biblioteca são iteráveis.\n",
    "\n",
    "* Existe um módulo da Biblioteca Padrão chamado `itertools` que contém muitas funções que retornam iteráveis.\n",
    "\n",
    "* Objetos definidos pelo `usuário`, criados com o recurso `orientado a objetos` do Python, podem se tornar iteráveis.\n",
    "\n",
    "* O Python apresenta uma construção chamada generator que permite criar seu próprio iterador de maneira simples e direta.\n",
    "\n",
    "Todos estes elementos podem fazer parte de um `loop for`, e a sintaxe é a `mesma em todos os aspectos`, é elegante em sua simplicidade e eminentemente versátil."
   ]
  },
  {
   "cell_type": "markdown",
   "metadata": {},
   "source": [
    "12.4 Iterando Através de um Dicionário\n",
    "=============================="
   ]
  },
  {
   "cell_type": "markdown",
   "metadata": {},
   "source": [
    "Vimos que obtivemos um iterador de um dicionário através da função iter(), então isso quer dizer que os dicionários são iteráveis. Então vamos percorrer um dicionário e ver o que acontece."
   ]
  },
  {
   "cell_type": "code",
   "execution_count": null,
   "metadata": {},
   "outputs": [],
   "source": [
    "d = {'um': 1, 'dois': 2, 'tres': 3}\n",
    "for k in d:\n",
    "    print(k)"
   ]
  },
  {
   "cell_type": "markdown",
   "metadata": {},
   "source": [
    "Quando o loop for percorre um dicionário, a variável do loop é atribuída às `chaves` do dicionário. E para acessarmos os valores do dicionário dentro do loop, o que fazer? Podemos fazer uma `referência ao dicionário` usando uma variável normalmente:"
   ]
  },
  {
   "cell_type": "code",
   "execution_count": null,
   "metadata": {},
   "outputs": [],
   "source": [
    "d = {'um': 1, 'dois': 2, 'tres': 3}\n",
    "for k in d:\n",
    "    print(d[k])"
   ]
  },
  {
   "cell_type": "markdown",
   "metadata": {},
   "source": [
    "Vamos iterar diretamente os valores do dicionário com a função `values()`."
   ]
  },
  {
   "cell_type": "code",
   "execution_count": null,
   "metadata": {},
   "outputs": [],
   "source": [
    "for v in d.values():\n",
    "    print(v)"
   ]
  },
  {
   "cell_type": "markdown",
   "metadata": {},
   "source": [
    "Podemos também `percorrer as chaves e os valores de um dicionário simultaneamente`, isso ocorre porque a variável de loop de um loop for `não se limita a apenas uma única variável`, também podemos usar uma `tupla`; nesse caso, as atribuições são feitas a partir dos itens do iterável, usando `empacotamento e desempacotamento`, assim como em uma declaração de atribuição a um objeto:"
   ]
  },
  {
   "cell_type": "code",
   "execution_count": null,
   "metadata": {},
   "outputs": [],
   "source": [
    "i, j = (1, 2)\n",
    "print(i, j)"
   ]
  },
  {
   "cell_type": "code",
   "execution_count": null,
   "metadata": {},
   "outputs": [],
   "source": [
    "for i, j in [(1, 2), (3, 4), (5, 6)]:\n",
    "    print(i, j)"
   ]
  },
  {
   "cell_type": "markdown",
   "metadata": {},
   "source": [
    "O método .items() de um dicionário, retorna efetivamente uma lista de pares de `chave/valor` como tuplas:"
   ]
  },
  {
   "cell_type": "code",
   "execution_count": null,
   "metadata": {},
   "outputs": [],
   "source": [
    "d = {'um': 1, 'dois': 2, 'tres': 3}\n",
    "d.items()"
   ]
  },
  {
   "cell_type": "markdown",
   "metadata": {},
   "source": [
    "A maneira `Pythonica` de iterar por meio de um dicionário acessando as chaves e os valores é:"
   ]
  },
  {
   "cell_type": "code",
   "execution_count": null,
   "metadata": {},
   "outputs": [],
   "source": [
    "d = {'um': 1, 'dois': 2, 'tres': 3}\n",
    "for k, v in d.items():\n",
    "    print('k =', k, ', v =', v)"
   ]
  },
  {
   "cell_type": "markdown",
   "metadata": {},
   "source": [
    "12.5 A função range( )\n",
    "================"
   ]
  },
  {
   "cell_type": "markdown",
   "metadata": {},
   "source": [
    "Na primeira parte deste notebook, vimos um tipo de `loop for` chamado `loop de intervalo numérico`, no qual os valores numéricos `inicial e final` são especificados. Embora essa forma de loop for não seja diretamente incorporada ao Python, ela é facilmente acessada com um código simples.\n",
    "\n",
    "Por exemplo, se você quiser percorrer os valores de `0 até 4`, basta fazer o seguinte:"
   ]
  },
  {
   "cell_type": "code",
   "execution_count": null,
   "metadata": {},
   "outputs": [],
   "source": [
    "for n in (0, 1, 2, 3, 4):\n",
    "    print(n)"
   ]
  },
  {
   "cell_type": "markdown",
   "metadata": {},
   "source": [
    "Esta solução não é tão ruim quando `há apenas alguns números`, mas pensemos: Se o `intervalo de números` fosse bem grande, esta solução se tornaria tediosa rapidamente, mas felizmente, o Python fornece uma opção melhor `- a função interna range()`. Esta função retorna um iterável que gera uma sequência de números inteiros.\n",
    "\n",
    "`range(<end>)` retorna um iterável que gera números inteiros começando com `0, até um inteiro especificado` mas sem incluir `<end>`:"
   ]
  },
  {
   "cell_type": "code",
   "execution_count": null,
   "metadata": {},
   "outputs": [],
   "source": [
    "x = range(5)\n",
    "x"
   ]
  },
  {
   "cell_type": "code",
   "execution_count": null,
   "metadata": {},
   "outputs": [],
   "source": [
    "range(0, 5)"
   ]
  },
  {
   "cell_type": "code",
   "execution_count": null,
   "metadata": {},
   "outputs": [],
   "source": [
    "type(x)"
   ]
  },
  {
   "cell_type": "markdown",
   "metadata": {},
   "source": [
    "Observe que `range()` retorna um objeto da `classe range`, não uma lista ou tupla dos valores. Como um `objeto range() é iterável`, é possível obter os valores `iterando` sobre eles com um loop for:"
   ]
  },
  {
   "cell_type": "code",
   "execution_count": null,
   "metadata": {},
   "outputs": [],
   "source": [
    "for n in x:\n",
    "    print(n)"
   ]
  },
  {
   "cell_type": "code",
   "execution_count": null,
   "metadata": {},
   "outputs": [],
   "source": [
    "for s in range(0, 100):\n",
    "    s += 1\n",
    "    print(s)"
   ]
  },
  {
   "cell_type": "markdown",
   "metadata": {},
   "source": [
    "Também podemos pegar todos os valores de uma vez com `list()` ou `tuple()`:"
   ]
  },
  {
   "cell_type": "code",
   "execution_count": null,
   "metadata": {},
   "outputs": [],
   "source": [
    "list(x)"
   ]
  },
  {
   "cell_type": "code",
   "execution_count": null,
   "metadata": {},
   "outputs": [],
   "source": [
    "tuple(x)"
   ]
  },
  {
   "cell_type": "markdown",
   "metadata": {},
   "source": [
    "No entanto, quando `range()` é usada no código que faz parte de um código maior, normalmente é considerado uma `prática ruim de usar o list() ou tuple()` dessa maneira. Como os iteradores, os `objetos range` são `preguiçosos` - os valores no intervalo especificado não são gerados até serem solicitados. usar `list() ou tuple()` em um objeto range força todos os valores a serem retornados de uma só vez. Isso raramente é necessário e, se a lista for longa, poderá forçar bastente a memória.\n",
    "\n",
    "`range(<begin>, <end>, <stride>)` retorna um iterável que gera números inteiros começando com `<begin>, até o número necessário` mas `não incluindo <end>`. Se o `<stride>` for especificado indica uma quantidade a ser ignorada entre os valores."
   ]
  },
  {
   "cell_type": "code",
   "execution_count": null,
   "metadata": {},
   "outputs": [],
   "source": [
    "list(range(5, 20, 3))"
   ]
  },
  {
   "cell_type": "markdown",
   "metadata": {},
   "source": [
    "Se `<stride>` for omitido, o padrão é 1:"
   ]
  },
  {
   "cell_type": "code",
   "execution_count": null,
   "metadata": {},
   "outputs": [],
   "source": [
    "list(range(5, 10, 1))"
   ]
  },
  {
   "cell_type": "code",
   "execution_count": null,
   "metadata": {},
   "outputs": [],
   "source": [
    "list(range(5, 10))"
   ]
  },
  {
   "cell_type": "markdown",
   "metadata": {},
   "source": [
    "Todos os parâmetros especificados no `range()` devem ser `inteiros`, mas qualquer um deles pode ser `negativo também`. Naturalmente, se `<begin>` for maior que `<end>`, `<stride>` deve ser negativo:"
   ]
  },
  {
   "cell_type": "code",
   "execution_count": null,
   "metadata": {},
   "outputs": [],
   "source": [
    "list(range(-5, 5))"
   ]
  },
  {
   "cell_type": "code",
   "execution_count": null,
   "metadata": {},
   "outputs": [],
   "source": [
    "list(range(5, -5))"
   ]
  },
  {
   "cell_type": "code",
   "execution_count": null,
   "metadata": {},
   "outputs": [],
   "source": [
    "list(range(5, -5, -1))"
   ]
  },
  {
   "cell_type": "markdown",
   "metadata": {},
   "source": [
    "12.6 Alterando o Comportamento de Loop\n",
    "=================================="
   ]
  },
  {
   "cell_type": "markdown",
   "metadata": {},
   "source": [
    "Vimos anteriormente como a execução de um `cilco while` pode ser `interrompido com breake ou continue`, e modificado com uma cláusula else. Esses recursos também estão disponíveis no loop for."
   ]
  },
  {
   "cell_type": "markdown",
   "metadata": {},
   "source": [
    "## 12.6.1 As declarações break e continue"
   ]
  },
  {
   "cell_type": "markdown",
   "metadata": {},
   "source": [
    "`breake e continue` trabalham da mesma maneira com `loops for` e com `loops while`. break `finaliza o loop completamente e prossegue para a primeira instrução após o loop`:"
   ]
  },
  {
   "cell_type": "code",
   "execution_count": null,
   "metadata": {},
   "outputs": [],
   "source": [
    "for i in ['bolo', 'carne', 'feijão', 'arroz']:\n",
    "    if 'f' in i:\n",
    "        break\n",
    "    print(i)"
   ]
  },
  {
   "cell_type": "markdown",
   "metadata": {},
   "source": [
    "`continue` finaliza a iteração atual e prossegue para a próxima iteração:"
   ]
  },
  {
   "cell_type": "code",
   "execution_count": null,
   "metadata": {},
   "outputs": [],
   "source": [
    "for i in ['bolo', 'carne', 'feijão', 'arroz']:\n",
    "    if 'b' in i:\n",
    "        continue\n",
    "    print(i)"
   ]
  },
  {
   "cell_type": "markdown",
   "metadata": {},
   "source": [
    "## 12.6.2 A cláusula else"
   ]
  },
  {
   "cell_type": "markdown",
   "metadata": {},
   "source": [
    "Um `loop for` também pode ter uma `cláusula else`. A interpretação é análoga à de um `loop while`. A `cláusula else` será executada se o loop terminar por exaustão do iterável:"
   ]
  },
  {
   "cell_type": "code",
   "execution_count": null,
   "metadata": {},
   "outputs": [],
   "source": [
    "for i in ['bolo', 'carne', 'feijão', 'arroz']:\n",
    "    print(i)\n",
    "else:\n",
    "    print('Done.')"
   ]
  },
  {
   "cell_type": "markdown",
   "metadata": {},
   "source": [
    "A `cláusula else` não será executada se a lista for quebrada com uma `instrução break:"
   ]
  },
  {
   "cell_type": "code",
   "execution_count": null,
   "metadata": {},
   "outputs": [],
   "source": [
    "for i in ['bolo', 'carne', 'feijão', 'arroz']:\n",
    "    if i == 'carne':\n",
    "        break\n",
    "    print(i)\n",
    "else:\n",
    "    print('Done.')"
   ]
  },
  {
   "cell_type": "markdown",
   "metadata": {},
   "source": [
    "Conclusão\n",
    "========"
   ]
  },
  {
   "cell_type": "markdown",
   "metadata": {},
   "source": [
    "Estudamos neste notebook o `loop for`, o cavalo de batalha da iteração definida no Python.\n",
    "\n",
    "Aprendemos também sobre o funcionamento interno de iteráveis e iteradores, `dois tipos importantes de objetos subjacentes à iteração definida`, mas também aparecem com destaque em uma ampla variedade de outros códigos Python.\n",
    "\n",
    "Nos próximos notebooks, veremos como os programas Python podem interagir com o usuário via `entrada do teclado e saída para o console`."
   ]
  },
  {
   "cell_type": "markdown",
   "metadata": {},
   "source": [
    "### Obrigado e bons estudos"
   ]
  },
  {
   "cell_type": "code",
   "execution_count": null,
   "metadata": {},
   "outputs": [],
   "source": []
  }
 ],
 "metadata": {
  "anaconda-cloud": {},
  "kernelspec": {
   "display_name": "Python 3",
   "language": "python",
   "name": "python3"
  },
  "language_info": {
   "codemirror_mode": {
    "name": "ipython",
    "version": 3
   },
   "file_extension": ".py",
   "mimetype": "text/x-python",
   "name": "python",
   "nbconvert_exporter": "python",
   "pygments_lexer": "ipython3",
   "version": "3.7.3"
  }
 },
 "nbformat": 4,
 "nbformat_minor": 1
}
